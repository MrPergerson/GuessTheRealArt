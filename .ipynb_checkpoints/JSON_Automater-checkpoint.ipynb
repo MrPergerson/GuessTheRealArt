{
 "cells": [
  {
   "cell_type": "code",
   "execution_count": 84,
   "id": "42b59fb2",
   "metadata": {},
   "outputs": [],
   "source": [
    "import pandas as pd;\n",
    "import numpy as np;\n",
    "import matplotlib.pyplot as plt;\n",
    "import seaborn as sns;\n",
    "import os;\n",
    "import time;\n",
    "from PIL import Image;\n",
    "from tqdm import tqdm;\n",
    "import shutil;\n",
    "%matplotlib inline"
   ]
  },
  {
   "cell_type": "code",
   "execution_count": 3,
   "id": "a3888ec5",
   "metadata": {},
   "outputs": [
    {
     "name": "stdout",
     "output_type": "stream",
     "text": [
      " Volume in drive C has no label.\n",
      " Volume Serial Number is 2EBD-2BDC\n",
      "\n",
      " Directory of C:\\Users\\Shahbaz\\Downloads\\GuessTheArt\\GuessTheRealArt\n",
      "\n",
      "07/11/2023  12:08 PM    <DIR>          .\n",
      "07/11/2023  12:08 PM    <DIR>          ..\n",
      "07/09/2023  08:56 AM                68 .gitattributes\n",
      "07/09/2023  08:56 AM             1,389 .gitignore\n",
      "07/10/2023  01:17 PM    <DIR>          .ipynb_checkpoints\n",
      "07/10/2023  01:43 PM    <DIR>          Assets_to_import\n",
      "07/09/2023  08:56 AM    <DIR>          examples\n",
      "07/09/2023  08:56 AM    <DIR>          famous-art-512-sq\n",
      "07/09/2023  08:56 AM    <DIR>          famous-paintings-by-author\n",
      "07/10/2023  01:21 PM    <DIR>          genned_images\n",
      "07/09/2023  08:56 AM    <DIR>          GuessTheRealArt\n",
      "07/09/2023  08:56 AM    <DIR>          images\n",
      "07/11/2023  12:08 PM            27,233 JSON_Automater.ipynb\n",
      "07/10/2023  07:17 PM    <DIR>          landscapes\n",
      "07/10/2023  07:16 PM    <DIR>          Portraits\n",
      "07/11/2023  12:04 PM    <DIR>          processed\n",
      "07/09/2023  08:56 AM    <DIR>          prompts\n",
      "07/09/2023  08:56 AM                78 README.md\n",
      "07/11/2023  12:04 PM    <DIR>          to_rename\n",
      "               4 File(s)         28,768 bytes\n",
      "              15 Dir(s)  25,847,095,296 bytes free\n"
     ]
    }
   ],
   "source": [
    "!dir"
   ]
  },
  {
   "cell_type": "markdown",
   "id": "84131ec1",
   "metadata": {},
   "source": [
    "## Set Real Image Parameteres and Image Set Paths"
   ]
  },
  {
   "cell_type": "code",
   "execution_count": 76,
   "id": "ee330b89",
   "metadata": {},
   "outputs": [],
   "source": [
    "# this is the pre-cropped 512x512 version of the images in the dataset\n",
    "answer_path = './famous-art-512-sq/';\n",
    "# path to the folder containing the generated images\n",
    "genned_images = './processed/';\n",
    "# path to re-create file structure for image set for importing to assets directory\n",
    "to_export = './Assets_to_import/'"
   ]
  },
  {
   "cell_type": "markdown",
   "id": "23c6bea1",
   "metadata": {},
   "source": [
    "## DataFrames with the list of original and generated images"
   ]
  },
  {
   "cell_type": "code",
   "execution_count": 51,
   "id": "0641ead6",
   "metadata": {},
   "outputs": [
    {
     "data": {
      "text/html": [
       "<div>\n",
       "<style scoped>\n",
       "    .dataframe tbody tr th:only-of-type {\n",
       "        vertical-align: middle;\n",
       "    }\n",
       "\n",
       "    .dataframe tbody tr th {\n",
       "        vertical-align: top;\n",
       "    }\n",
       "\n",
       "    .dataframe thead th {\n",
       "        text-align: right;\n",
       "    }\n",
       "</style>\n",
       "<table border=\"1\" class=\"dataframe\">\n",
       "  <thead>\n",
       "    <tr style=\"text-align: right;\">\n",
       "      <th></th>\n",
       "      <th>file_names</th>\n",
       "    </tr>\n",
       "  </thead>\n",
       "  <tbody>\n",
       "    <tr>\n",
       "      <th>0</th>\n",
       "      <td>Adolph-Von-Menzel-The-Flute-Concert-at-Sanssou...</td>\n",
       "    </tr>\n",
       "    <tr>\n",
       "      <th>1</th>\n",
       "      <td>Agnolo-Bronzino-Venus-Cupid-and-Time-Allegory-...</td>\n",
       "    </tr>\n",
       "    <tr>\n",
       "      <th>2</th>\n",
       "      <td>Albert-Bierstadt-Among-the-Sierra-Nevada-Mount...</td>\n",
       "    </tr>\n",
       "    <tr>\n",
       "      <th>3</th>\n",
       "      <td>Albert-Bierstadt-Deer-in-a-Clearing-S-2.jpg</td>\n",
       "    </tr>\n",
       "    <tr>\n",
       "      <th>4</th>\n",
       "      <td>Albert-Bierstadt-Forest-Sunrise-S-2.jpg</td>\n",
       "    </tr>\n",
       "  </tbody>\n",
       "</table>\n",
       "</div>"
      ],
      "text/plain": [
       "                                          file_names\n",
       "0  Adolph-Von-Menzel-The-Flute-Concert-at-Sanssou...\n",
       "1  Agnolo-Bronzino-Venus-Cupid-and-Time-Allegory-...\n",
       "2  Albert-Bierstadt-Among-the-Sierra-Nevada-Mount...\n",
       "3        Albert-Bierstadt-Deer-in-a-Clearing-S-2.jpg\n",
       "4            Albert-Bierstadt-Forest-Sunrise-S-2.jpg"
      ]
     },
     "execution_count": 51,
     "metadata": {},
     "output_type": "execute_result"
    }
   ],
   "source": [
    "# original image file data\n",
    "df_originals = pd.DataFrame(os.listdir(answer_path))\n",
    "df_originals.columns = ['file_names']\n",
    "df_originals.sort_values(by = 'file_names', inplace = True)\n",
    "df_originals.head()"
   ]
  },
  {
   "cell_type": "code",
   "execution_count": 52,
   "id": "a6f8885a",
   "metadata": {},
   "outputs": [
    {
     "data": {
      "text/html": [
       "<div>\n",
       "<style scoped>\n",
       "    .dataframe tbody tr th:only-of-type {\n",
       "        vertical-align: middle;\n",
       "    }\n",
       "\n",
       "    .dataframe tbody tr th {\n",
       "        vertical-align: top;\n",
       "    }\n",
       "\n",
       "    .dataframe thead th {\n",
       "        text-align: right;\n",
       "    }\n",
       "</style>\n",
       "<table border=\"1\" class=\"dataframe\">\n",
       "  <thead>\n",
       "    <tr style=\"text-align: right;\">\n",
       "      <th></th>\n",
       "      <th>file_names</th>\n",
       "    </tr>\n",
       "  </thead>\n",
       "  <tbody>\n",
       "    <tr>\n",
       "      <th>0</th>\n",
       "      <td>Adolph-Von-Menzel-The-Flute-Concert-at-Sanssou...</td>\n",
       "    </tr>\n",
       "    <tr>\n",
       "      <th>1</th>\n",
       "      <td>Adolph-Von-Menzel-The-Flute-Concert-at-Sanssou...</td>\n",
       "    </tr>\n",
       "    <tr>\n",
       "      <th>2</th>\n",
       "      <td>Adolph-Von-Menzel-The-Flute-Concert-at-Sanssou...</td>\n",
       "    </tr>\n",
       "    <tr>\n",
       "      <th>4</th>\n",
       "      <td>Adolph-Von-Menzel-The-Flute-Concert-at-Sanssou...</td>\n",
       "    </tr>\n",
       "    <tr>\n",
       "      <th>5</th>\n",
       "      <td>Adolph-Von-Menzel-The-Flute-Concert-at-Sanssou...</td>\n",
       "    </tr>\n",
       "  </tbody>\n",
       "</table>\n",
       "</div>"
      ],
      "text/plain": [
       "                                          file_names\n",
       "0  Adolph-Von-Menzel-The-Flute-Concert-at-Sanssou...\n",
       "1  Adolph-Von-Menzel-The-Flute-Concert-at-Sanssou...\n",
       "2  Adolph-Von-Menzel-The-Flute-Concert-at-Sanssou...\n",
       "4  Adolph-Von-Menzel-The-Flute-Concert-at-Sanssou...\n",
       "5  Adolph-Von-Menzel-The-Flute-Concert-at-Sanssou..."
      ]
     },
     "execution_count": 52,
     "metadata": {},
     "output_type": "execute_result"
    }
   ],
   "source": [
    "# Generated image file data\n",
    "df_genned = pd.DataFrame(os.listdir(genned_images))\n",
    "df_genned.columns = ['file_names']\n",
    "df_genned.sort_values(by = 'file_names', inplace = True)\n",
    "df_genned.head()"
   ]
  },
  {
   "cell_type": "code",
   "execution_count": 53,
   "id": "a86d4cb5",
   "metadata": {},
   "outputs": [
    {
     "name": "stdout",
     "output_type": "stream",
     "text": [
      "Number of original images:  924 \n",
      "\n",
      "Number of genned images:  1589 \n",
      "\n"
     ]
    }
   ],
   "source": [
    "print ('Number of original images: ', len(df_originals), '\\n')\n",
    "print ('Number of genned images: ', len(df_genned), '\\n')"
   ]
  },
  {
   "cell_type": "code",
   "execution_count": 54,
   "id": "b97b1c7b",
   "metadata": {},
   "outputs": [
    {
     "data": {
      "text/plain": [
       "'Adolph-Von-Menzel-The-Flute-Concert-at-Sanssouci-sketch--S-3.jpg'"
      ]
     },
     "execution_count": 54,
     "metadata": {},
     "output_type": "execute_result"
    }
   ],
   "source": [
    "df_originals['file_names'][0]"
   ]
  },
  {
   "cell_type": "markdown",
   "id": "047adfc9",
   "metadata": {},
   "source": [
    "## Naming convention and breakdown\n",
    "\n",
    "The generated images have the filenames in the following format: <br>\n",
    "\\<original_name> + \\<[underscore]> + \\<concept_applied> + \\<'[underscore]'> + \\<guidance scale value> + \\<file_extension>"
   ]
  },
  {
   "cell_type": "markdown",
   "id": "fc0d96f1",
   "metadata": {},
   "source": [
    "## Creating a folder for each original artwork that has generated images"
   ]
  },
  {
   "cell_type": "code",
   "execution_count": 55,
   "id": "368b8434",
   "metadata": {},
   "outputs": [],
   "source": [
    "sanitized_genned = df_genned['file_names'].apply(lambda x: x.split('_')[0])\n",
    "\n",
    "# number of images in 'complete set'\n",
    "n_images_complete_set = 3"
   ]
  },
  {
   "cell_type": "code",
   "execution_count": 56,
   "id": "71172fb1",
   "metadata": {},
   "outputs": [
    {
     "name": "stdout",
     "output_type": "stream",
     "text": [
      "Number of originals which have concepts generated: \t\t\t 25\n",
      "Number of completed sets, with all concepts applied to original image: \t 24\n",
      "Artwork(s) for which the generation set is incomplete: \t\t\t Alfred-Sisley-Foggy-Morning-Voisins-S \n",
      "\n"
     ]
    }
   ],
   "source": [
    "print ('Number of originals which have concepts generated: \\t\\t\\t', len(sanitized_genned.unique()))\n",
    "\n",
    "print ('Number of completed sets, with all concepts applied to original image: \\t', (sanitized_genned.value_counts() >= n_images_complete_set).sum())\n",
    "\n",
    "print ('Artwork(s) for which the generation set is incomplete: \\t\\t\\t', sanitized_genned.unique()[(sanitized_genned.value_counts() < n_images_complete_set)][0], '\\n')"
   ]
  },
  {
   "cell_type": "code",
   "execution_count": 57,
   "id": "f752091d",
   "metadata": {},
   "outputs": [
    {
     "data": {
      "text/plain": [
       "Albert-Edelfelt-The-Artist                                      66\n",
       "Alexandre-Cabanel-Fallen-Angel-S                                66\n",
       "Albrecht-Durer-Young-Hare-S                                     66\n",
       "Albrecht-Durer-The-Martyrdom-of-the-Ten-Thousand-S              66\n",
       "Albrecht-Durer-The-Altarpiece-of-the-Rose-Garlands-S            66\n",
       "Albrecht-Durer-Self-portrait-at-22-S                            66\n",
       "Albrecht-Durer-Portrait-of-a-Young-Venetian-Woman-S             66\n",
       "Albrecht-Durer-Portrait-of-a-Young-Venetian-Woman-S--02         66\n",
       "Albrecht-Durer-Christ-as-the-Man-of-Sorrows-S                   66\n",
       "Albrecht-Durer-Christ-Among-the-Doctors-S                       66\n",
       "Agnolo-Bronzino-Venus-Cupid-and-Time-Allegory-of-Lust--S        66\n",
       "AlbrechtDurer-Selfportraitdetailface-S                          66\n",
       "Albert-Charles-Lebourg-The-Quays-of-Dieppe-after-the-Rain-S     66\n",
       "Albert-Charles-Lebourg-Notre-Dame-de-Paris-and-the-Bridge-of    66\n",
       "Albert-Charles-Lebourg-Albert-Marie-Lebourg-Rouen-Snow-Effec    66\n",
       "Albert-Bierstadt-Staubbach-Falls-Near-Lauterbrunnen-Switzerl    66\n",
       "Albert-Bierstadt-Rustic-Mill-S                                  66\n",
       "Albert-Bierstadt-Rocky-Mountains-S                              66\n",
       "Alexej-Georgewitsch-Von-Jawlensky-Mystical-Head-Meditation-S    66\n",
       "Albert-Bierstadt-Deer-in-a-Clearing-S                           66\n",
       "Albert-Bierstadt-Among-the-Sierra-Nevada-Mountains-Californi    66\n",
       "Adolph-Von-Menzel-The-Flute-Concert-at-Sanssouci-sketch--S      65\n",
       "Albrecht-Altdorfer-The-Battle-of-Alexander-at-Issus-S           65\n",
       "Albert-Bierstadt-Forest-Sunrise-S                               65\n",
       "Alfred-Sisley-Foggy-Morning-Voisins-S                            8\n",
       "Name: file_names, dtype: int64"
      ]
     },
     "execution_count": 57,
     "metadata": {},
     "output_type": "execute_result"
    }
   ],
   "source": [
    "sanitized_genned.value_counts()"
   ]
  },
  {
   "cell_type": "code",
   "execution_count": 58,
   "id": "8d5dcd32",
   "metadata": {},
   "outputs": [
    {
     "data": {
      "text/plain": [
       "[0, 1, 2, 3, 4, 5, 6, 7, 8, 9, 10, 12, 13, 14, 17, 18, 19, 20, 21, 22, 23, 24]"
      ]
     },
     "execution_count": 58,
     "metadata": {},
     "output_type": "execute_result"
    }
   ],
   "source": [
    "#pd.DataFrame(sanitized_genned.unique())\n",
    "[i for i in range(len(sanitized_genned.unique())) if df_originals['file_names'][i][:-6] == sanitized_genned.unique()[i]]"
   ]
  },
  {
   "cell_type": "code",
   "execution_count": 62,
   "id": "9aa8eb3e",
   "metadata": {},
   "outputs": [
    {
     "data": {
      "text/plain": [
       "'Albrecht-Durer-The-Martyrdom'"
      ]
     },
     "execution_count": 62,
     "metadata": {},
     "output_type": "execute_result"
    }
   ],
   "source": [
    "df_originals['genned_set_name'] = df_originals['file_names'].apply(lambda x: '-'.join(x.split('-')[:4]))\n",
    "df_originals.sort_values(by = 'genned_set_name')['genned_set_name'][19]\n",
    "#df_originals['genned_set_name'][19]"
   ]
  },
  {
   "cell_type": "code",
   "execution_count": 63,
   "id": "90b6c593",
   "metadata": {},
   "outputs": [
    {
     "data": {
      "text/plain": [
       "'Albrecht-Durer-The-Martyrdom'"
      ]
     },
     "execution_count": 63,
     "metadata": {},
     "output_type": "execute_result"
    }
   ],
   "source": [
    "genned_set = pd.DataFrame(sanitized_genned.unique())[0].apply(lambda x: '-'.join(x.split('-')[:4]));\n",
    "genned_set.sort_values()[19]\n",
    "#genned_set[19]"
   ]
  },
  {
   "cell_type": "code",
   "execution_count": 64,
   "id": "125d7b29",
   "metadata": {},
   "outputs": [
    {
     "data": {
      "text/plain": [
       "[0,\n",
       " 1,\n",
       " 2,\n",
       " 3,\n",
       " 4,\n",
       " 5,\n",
       " 6,\n",
       " 7,\n",
       " 8,\n",
       " 9,\n",
       " 10,\n",
       " 12,\n",
       " 13,\n",
       " 14,\n",
       " 15,\n",
       " 16,\n",
       " 17,\n",
       " 18,\n",
       " 19,\n",
       " 20,\n",
       " 22,\n",
       " 23,\n",
       " 24]"
      ]
     },
     "execution_count": 64,
     "metadata": {},
     "output_type": "execute_result"
    }
   ],
   "source": [
    "[i for i in range(len(genned_set)) if genned_set[i] == df_originals['genned_set_name'][i]]"
   ]
  },
  {
   "cell_type": "code",
   "execution_count": 65,
   "id": "4b090ecb",
   "metadata": {},
   "outputs": [
    {
     "data": {
      "text/html": [
       "<div>\n",
       "<style scoped>\n",
       "    .dataframe tbody tr th:only-of-type {\n",
       "        vertical-align: middle;\n",
       "    }\n",
       "\n",
       "    .dataframe tbody tr th {\n",
       "        vertical-align: top;\n",
       "    }\n",
       "\n",
       "    .dataframe thead th {\n",
       "        text-align: right;\n",
       "    }\n",
       "</style>\n",
       "<table border=\"1\" class=\"dataframe\">\n",
       "  <thead>\n",
       "    <tr style=\"text-align: right;\">\n",
       "      <th></th>\n",
       "      <th>0</th>\n",
       "      <th>genned_set_name</th>\n",
       "    </tr>\n",
       "  </thead>\n",
       "  <tbody>\n",
       "    <tr>\n",
       "      <th>0</th>\n",
       "      <td>Adolph-Von-Menzel-The</td>\n",
       "      <td>Adolph-Von-Menzel-The</td>\n",
       "    </tr>\n",
       "    <tr>\n",
       "      <th>1</th>\n",
       "      <td>Agnolo-Bronzino-Venus-Cupid</td>\n",
       "      <td>Agnolo-Bronzino-Venus-Cupid</td>\n",
       "    </tr>\n",
       "    <tr>\n",
       "      <th>2</th>\n",
       "      <td>Albert-Bierstadt-Among-the</td>\n",
       "      <td>Albert-Bierstadt-Among-the</td>\n",
       "    </tr>\n",
       "    <tr>\n",
       "      <th>3</th>\n",
       "      <td>Albert-Bierstadt-Deer-in</td>\n",
       "      <td>Albert-Bierstadt-Deer-in</td>\n",
       "    </tr>\n",
       "    <tr>\n",
       "      <th>4</th>\n",
       "      <td>Albert-Bierstadt-Forest-Sunrise</td>\n",
       "      <td>Albert-Bierstadt-Forest-Sunrise</td>\n",
       "    </tr>\n",
       "    <tr>\n",
       "      <th>5</th>\n",
       "      <td>Albert-Bierstadt-Rocky-Mountains</td>\n",
       "      <td>Albert-Bierstadt-Rocky-Mountains</td>\n",
       "    </tr>\n",
       "    <tr>\n",
       "      <th>6</th>\n",
       "      <td>Albert-Bierstadt-Rustic-Mill</td>\n",
       "      <td>Albert-Bierstadt-Rustic-Mill</td>\n",
       "    </tr>\n",
       "    <tr>\n",
       "      <th>7</th>\n",
       "      <td>Albert-Bierstadt-Staubbach-Falls</td>\n",
       "      <td>Albert-Bierstadt-Staubbach-Falls</td>\n",
       "    </tr>\n",
       "    <tr>\n",
       "      <th>8</th>\n",
       "      <td>Albert-Charles-Lebourg-Albert</td>\n",
       "      <td>Albert-Charles-Lebourg-Albert</td>\n",
       "    </tr>\n",
       "    <tr>\n",
       "      <th>9</th>\n",
       "      <td>Albert-Charles-Lebourg-Notre</td>\n",
       "      <td>Albert-Charles-Lebourg-Notre</td>\n",
       "    </tr>\n",
       "    <tr>\n",
       "      <th>10</th>\n",
       "      <td>Albert-Charles-Lebourg-The</td>\n",
       "      <td>Albert-Charles-Lebourg-The</td>\n",
       "    </tr>\n",
       "    <tr>\n",
       "      <th>11</th>\n",
       "      <td>Albert-Edelfelt-The-Artist</td>\n",
       "      <td>Albert-Edelfelt-The-Artist_s</td>\n",
       "    </tr>\n",
       "    <tr>\n",
       "      <th>12</th>\n",
       "      <td>Albrecht-Altdorfer-The-Battle</td>\n",
       "      <td>Albrecht-Altdorfer-The-Battle</td>\n",
       "    </tr>\n",
       "    <tr>\n",
       "      <th>13</th>\n",
       "      <td>Albrecht-Durer-Christ-Among</td>\n",
       "      <td>Albrecht-Durer-Christ-Among</td>\n",
       "    </tr>\n",
       "    <tr>\n",
       "      <th>14</th>\n",
       "      <td>Albrecht-Durer-Christ-as</td>\n",
       "      <td>Albrecht-Durer-Christ-as</td>\n",
       "    </tr>\n",
       "    <tr>\n",
       "      <th>15</th>\n",
       "      <td>Albrecht-Durer-Portrait-of</td>\n",
       "      <td>Albrecht-Durer-Portrait-of</td>\n",
       "    </tr>\n",
       "    <tr>\n",
       "      <th>16</th>\n",
       "      <td>Albrecht-Durer-Portrait-of</td>\n",
       "      <td>Albrecht-Durer-Portrait-of</td>\n",
       "    </tr>\n",
       "    <tr>\n",
       "      <th>17</th>\n",
       "      <td>Albrecht-Durer-Self-portrait</td>\n",
       "      <td>Albrecht-Durer-Self-portrait</td>\n",
       "    </tr>\n",
       "    <tr>\n",
       "      <th>18</th>\n",
       "      <td>Albrecht-Durer-The-Altarpiece</td>\n",
       "      <td>Albrecht-Durer-The-Altarpiece</td>\n",
       "    </tr>\n",
       "    <tr>\n",
       "      <th>19</th>\n",
       "      <td>Albrecht-Durer-The-Martyrdom</td>\n",
       "      <td>Albrecht-Durer-The-Martyrdom</td>\n",
       "    </tr>\n",
       "    <tr>\n",
       "      <th>20</th>\n",
       "      <td>Albrecht-Durer-Young-Hare</td>\n",
       "      <td>Albrecht-Durer-Young-Hare</td>\n",
       "    </tr>\n",
       "    <tr>\n",
       "      <th>21</th>\n",
       "      <td>AlbrechtDurer-Selfportraitdetailface-S</td>\n",
       "      <td>AlbrechtDurer-Selfportraitdetailface-S-2.jpg</td>\n",
       "    </tr>\n",
       "    <tr>\n",
       "      <th>22</th>\n",
       "      <td>Alexandre-Cabanel-Fallen-Angel</td>\n",
       "      <td>Alexandre-Cabanel-Fallen-Angel</td>\n",
       "    </tr>\n",
       "    <tr>\n",
       "      <th>23</th>\n",
       "      <td>Alexej-Georgewitsch-Von-Jawlensky</td>\n",
       "      <td>Alexej-Georgewitsch-Von-Jawlensky</td>\n",
       "    </tr>\n",
       "    <tr>\n",
       "      <th>24</th>\n",
       "      <td>Alfred-Sisley-Foggy-Morning</td>\n",
       "      <td>Alfred-Sisley-Foggy-Morning</td>\n",
       "    </tr>\n",
       "  </tbody>\n",
       "</table>\n",
       "</div>"
      ],
      "text/plain": [
       "                                         0  \\\n",
       "0                    Adolph-Von-Menzel-The   \n",
       "1              Agnolo-Bronzino-Venus-Cupid   \n",
       "2               Albert-Bierstadt-Among-the   \n",
       "3                 Albert-Bierstadt-Deer-in   \n",
       "4          Albert-Bierstadt-Forest-Sunrise   \n",
       "5         Albert-Bierstadt-Rocky-Mountains   \n",
       "6             Albert-Bierstadt-Rustic-Mill   \n",
       "7         Albert-Bierstadt-Staubbach-Falls   \n",
       "8            Albert-Charles-Lebourg-Albert   \n",
       "9             Albert-Charles-Lebourg-Notre   \n",
       "10              Albert-Charles-Lebourg-The   \n",
       "11              Albert-Edelfelt-The-Artist   \n",
       "12           Albrecht-Altdorfer-The-Battle   \n",
       "13             Albrecht-Durer-Christ-Among   \n",
       "14                Albrecht-Durer-Christ-as   \n",
       "15              Albrecht-Durer-Portrait-of   \n",
       "16              Albrecht-Durer-Portrait-of   \n",
       "17            Albrecht-Durer-Self-portrait   \n",
       "18           Albrecht-Durer-The-Altarpiece   \n",
       "19            Albrecht-Durer-The-Martyrdom   \n",
       "20               Albrecht-Durer-Young-Hare   \n",
       "21  AlbrechtDurer-Selfportraitdetailface-S   \n",
       "22          Alexandre-Cabanel-Fallen-Angel   \n",
       "23       Alexej-Georgewitsch-Von-Jawlensky   \n",
       "24             Alfred-Sisley-Foggy-Morning   \n",
       "\n",
       "                                 genned_set_name  \n",
       "0                          Adolph-Von-Menzel-The  \n",
       "1                    Agnolo-Bronzino-Venus-Cupid  \n",
       "2                     Albert-Bierstadt-Among-the  \n",
       "3                       Albert-Bierstadt-Deer-in  \n",
       "4                Albert-Bierstadt-Forest-Sunrise  \n",
       "5               Albert-Bierstadt-Rocky-Mountains  \n",
       "6                   Albert-Bierstadt-Rustic-Mill  \n",
       "7               Albert-Bierstadt-Staubbach-Falls  \n",
       "8                  Albert-Charles-Lebourg-Albert  \n",
       "9                   Albert-Charles-Lebourg-Notre  \n",
       "10                    Albert-Charles-Lebourg-The  \n",
       "11                  Albert-Edelfelt-The-Artist_s  \n",
       "12                 Albrecht-Altdorfer-The-Battle  \n",
       "13                   Albrecht-Durer-Christ-Among  \n",
       "14                      Albrecht-Durer-Christ-as  \n",
       "15                    Albrecht-Durer-Portrait-of  \n",
       "16                    Albrecht-Durer-Portrait-of  \n",
       "17                  Albrecht-Durer-Self-portrait  \n",
       "18                 Albrecht-Durer-The-Altarpiece  \n",
       "19                  Albrecht-Durer-The-Martyrdom  \n",
       "20                     Albrecht-Durer-Young-Hare  \n",
       "21  AlbrechtDurer-Selfportraitdetailface-S-2.jpg  \n",
       "22                Alexandre-Cabanel-Fallen-Angel  \n",
       "23             Alexej-Georgewitsch-Von-Jawlensky  \n",
       "24                   Alfred-Sisley-Foggy-Morning  "
      ]
     },
     "execution_count": 65,
     "metadata": {},
     "output_type": "execute_result"
    }
   ],
   "source": [
    "pd.DataFrame([genned_set, df_originals['genned_set_name']]).transpose().dropna()"
   ]
  },
  {
   "cell_type": "code",
   "execution_count": 66,
   "id": "01a37ea1",
   "metadata": {},
   "outputs": [
    {
     "data": {
      "text/plain": [
       "'Albrecht-Durer-Portrait-of-a-Young-Venetian-Woman-S_002-2.jpg'"
      ]
     },
     "execution_count": 66,
     "metadata": {},
     "output_type": "execute_result"
    }
   ],
   "source": [
    "df_originals['file_names'][16]"
   ]
  },
  {
   "cell_type": "code",
   "execution_count": 67,
   "id": "6f07f2f7",
   "metadata": {},
   "outputs": [
    {
     "data": {
      "text/plain": [
       "'Albrecht-Durer-Portrait-of-a-Young-Venetian-Woman-S--02'"
      ]
     },
     "execution_count": 67,
     "metadata": {},
     "output_type": "execute_result"
    }
   ],
   "source": [
    "sanitized_genned.unique()[15]"
   ]
  },
  {
   "cell_type": "markdown",
   "id": "2c00f387",
   "metadata": {},
   "source": [
    "### Creating a folder for each set which has more than \\<n_images_complete_set\\> genned files (minimum for a set)"
   ]
  },
  {
   "cell_type": "code",
   "execution_count": 77,
   "id": "5ae4b4f0",
   "metadata": {},
   "outputs": [
    {
     "name": "stdout",
     "output_type": "stream",
     "text": [
      "files will be created in the following path: \n",
      "./Assets_to_import/\n"
     ]
    }
   ],
   "source": [
    "print('folders will be created in the following path: \\n' + to_export)"
   ]
  },
  {
   "cell_type": "code",
   "execution_count": 83,
   "id": "9d470109",
   "metadata": {},
   "outputs": [
    {
     "name": "stderr",
     "output_type": "stream",
     "text": [
      "100%|█████████████████████████████████████████████████████████████████████████████████████████████████████████████████████████████████████████████████████████████████████████| 25/25 [00:00<00:00, 2278.97it/s]\n"
     ]
    }
   ],
   "source": [
    "filepath = '';\n",
    "for i in tqdm(genned_set):\n",
    "    filepath = to_export + i\n",
    "    if not(os.path.exists(filepath)):\n",
    "        os.mkdir(filepath)"
   ]
  },
  {
   "cell_type": "markdown",
   "id": "daf65fd5",
   "metadata": {},
   "source": [
    "### Create copies of each original file and append 'aaaaa' to the beginning of filename"
   ]
  },
  {
   "cell_type": "code",
   "execution_count": 85,
   "id": "f94b6c53",
   "metadata": {},
   "outputs": [
    {
     "name": "stdout",
     "output_type": "stream",
     "text": [
      "files will be renamed from the following path: \n",
      "./famous-art-512-sq/\n"
     ]
    }
   ],
   "source": [
    "print('files will be renamed from the following path: \\n' + answer_path)"
   ]
  },
  {
   "cell_type": "code",
   "execution_count": 86,
   "id": "1c505bcd",
   "metadata": {},
   "outputs": [
    {
     "name": "stderr",
     "output_type": "stream",
     "text": [
      "100%|████████████████████████████████████████████████████████████████████████████████████████████████████████████████████████████████████████████████████████████████████████| 924/924 [00:00<00:00, 951.16it/s]\n"
     ]
    }
   ],
   "source": [
    "### to rename each file and append 'aaaaa' to it\n",
    "filepath = ''\n",
    "filename_to = ''\n",
    "for i in tqdm(df_originals['file_names']):\n",
    "    \n",
    "    filepath = answer_path + \"/\" + i;\n",
    "    filename_to = answer_path + \"/aaaaa_\" + i;\n",
    "    \n",
    "    os.rename(src = filepath, dst = filename_to)"
   ]
  },
  {
   "cell_type": "code",
   "execution_count": 94,
   "id": "a771e9f9",
   "metadata": {},
   "outputs": [
    {
     "data": {
      "text/plain": [
       "0      True\n",
       "1      True\n",
       "2      True\n",
       "3      True\n",
       "4      True\n",
       "5      True\n",
       "6      True\n",
       "7      True\n",
       "8      True\n",
       "9      True\n",
       "10     True\n",
       "11    False\n",
       "12     True\n",
       "13     True\n",
       "14     True\n",
       "15     True\n",
       "16     True\n",
       "17     True\n",
       "18     True\n",
       "19     True\n",
       "20     True\n",
       "21    False\n",
       "22     True\n",
       "23     True\n",
       "24     True\n",
       "dtype: bool"
      ]
     },
     "execution_count": 94,
     "metadata": {},
     "output_type": "execute_result"
    }
   ],
   "source": [
    "# check for integrity data we will use to correlate the sets\n",
    "df_originals['genned_set_name'][:(len(genned_set))] == genned_set"
   ]
  },
  {
   "cell_type": "code",
   "execution_count": 100,
   "id": "b94dd610",
   "metadata": {},
   "outputs": [
    {
     "data": {
      "text/plain": [
       "'Albert-Edelfelt-The-Artist'"
      ]
     },
     "execution_count": 100,
     "metadata": {},
     "output_type": "execute_result"
    }
   ],
   "source": [
    "### fixing incorrect values manually\n",
    "\n",
    "#df_originals['genned_set_name'][11] = df_originals['genned_set_name'][11][:-2]\n",
    "#df_originals['genned_set_name'][11]"
   ]
  },
  {
   "cell_type": "code",
   "execution_count": 104,
   "id": "b79f5ecc",
   "metadata": {},
   "outputs": [
    {
     "data": {
      "text/plain": [
       "0     True\n",
       "1     True\n",
       "2     True\n",
       "3     True\n",
       "4     True\n",
       "5     True\n",
       "6     True\n",
       "7     True\n",
       "8     True\n",
       "9     True\n",
       "10    True\n",
       "11    True\n",
       "12    True\n",
       "13    True\n",
       "14    True\n",
       "15    True\n",
       "16    True\n",
       "17    True\n",
       "18    True\n",
       "19    True\n",
       "20    True\n",
       "21    True\n",
       "22    True\n",
       "23    True\n",
       "24    True\n",
       "dtype: bool"
      ]
     },
     "execution_count": 104,
     "metadata": {},
     "output_type": "execute_result"
    }
   ],
   "source": [
    "# re-check for integrity data we will use to correlate the sets\n",
    "df_originals['genned_set_name'][:(len(genned_set))] == genned_set"
   ]
  },
  {
   "cell_type": "code",
   "execution_count": 105,
   "id": "facf01fe",
   "metadata": {},
   "outputs": [
    {
     "data": {
      "text/plain": [
       "['Adolph-Von-Menzel-The',\n",
       " 'Agnolo-Bronzino-Venus-Cupid',\n",
       " 'Albert-Bierstadt-Among-the',\n",
       " 'Albert-Bierstadt-Deer-in',\n",
       " 'Albert-Bierstadt-Forest-Sunrise',\n",
       " 'Albert-Bierstadt-Rocky-Mountains',\n",
       " 'Albert-Bierstadt-Rustic-Mill',\n",
       " 'Albert-Bierstadt-Staubbach-Falls',\n",
       " 'Albert-Charles-Lebourg-Albert',\n",
       " 'Albert-Charles-Lebourg-Notre',\n",
       " 'Albert-Charles-Lebourg-The',\n",
       " 'Albert-Edelfelt-The-Artist',\n",
       " 'Albrecht-Altdorfer-The-Battle',\n",
       " 'Albrecht-Durer-Christ-Among',\n",
       " 'Albrecht-Durer-Christ-as',\n",
       " 'Albrecht-Durer-Portrait-of',\n",
       " 'Albrecht-Durer-Self-portrait',\n",
       " 'Albrecht-Durer-The-Altarpiece',\n",
       " 'Albrecht-Durer-The-Martyrdom',\n",
       " 'Albrecht-Durer-Young-Hare',\n",
       " 'AlbrechtDurer-Selfportraitdetailface-S',\n",
       " 'Alexandre-Cabanel-Fallen-Angel',\n",
       " 'Alexej-Georgewitsch-Von-Jawlensky',\n",
       " 'Alfred-Sisley-Foggy-Morning']"
      ]
     },
     "execution_count": 105,
     "metadata": {},
     "output_type": "execute_result"
    }
   ],
   "source": [
    "### Names of folders we will be copying each original-renamed file to\n",
    "os.listdir(to_export)"
   ]
  },
  {
   "cell_type": "code",
   "execution_count": 103,
   "id": "266ef156",
   "metadata": {},
   "outputs": [
    {
     "data": {
      "text/plain": [
       "['Adolph-Von-Menzel-The',\n",
       " 'Agnolo-Bronzino-Venus-Cupid',\n",
       " 'Albert-Bierstadt-Among-the',\n",
       " 'Albert-Bierstadt-Deer-in',\n",
       " 'Albert-Bierstadt-Forest-Sunrise',\n",
       " 'Albert-Bierstadt-Rocky-Mountains',\n",
       " 'Albert-Bierstadt-Rustic-Mill',\n",
       " 'Albert-Bierstadt-Staubbach-Falls',\n",
       " 'Albert-Charles-Lebourg-Albert',\n",
       " 'Albert-Charles-Lebourg-Notre',\n",
       " 'Albert-Charles-Lebourg-The',\n",
       " 'Albert-Edelfelt-The-Artist',\n",
       " 'Albrecht-Altdorfer-The-Battle',\n",
       " 'Albrecht-Durer-Christ-Among',\n",
       " 'Albrecht-Durer-Christ-as',\n",
       " 'Albrecht-Durer-Portrait-of',\n",
       " 'Albrecht-Durer-Self-portrait',\n",
       " 'Albrecht-Durer-The-Altarpiece',\n",
       " 'Albrecht-Durer-The-Martyrdom',\n",
       " 'Albrecht-Durer-Young-Hare',\n",
       " 'AlbrechtDurer-Selfportraitdetailface-S',\n",
       " 'Alexandre-Cabanel-Fallen-Angel',\n",
       " 'Alexej-Georgewitsch-Von-Jawlensky',\n",
       " 'Alfred-Sisley-Foggy-Morning']"
      ]
     },
     "execution_count": 103,
     "metadata": {},
     "output_type": "execute_result"
    }
   ],
   "source": [
    "### move each file to its corresponding complete set folder generated in the previous subsection\n"
   ]
  },
  {
   "cell_type": "markdown",
   "id": "7ff863ae",
   "metadata": {},
   "source": [
    "### Copy all generated files into respective file directory in buffer_asset folder"
   ]
  },
  {
   "cell_type": "code",
   "execution_count": null,
   "id": "0f22c14c",
   "metadata": {},
   "outputs": [],
   "source": []
  },
  {
   "cell_type": "code",
   "execution_count": null,
   "id": "665c25a7",
   "metadata": {},
   "outputs": [],
   "source": []
  },
  {
   "cell_type": "code",
   "execution_count": null,
   "id": "987748c8",
   "metadata": {},
   "outputs": [],
   "source": []
  },
  {
   "cell_type": "markdown",
   "id": "a2d4296b",
   "metadata": {},
   "source": [
    "# Ignore the following lines of code; they were made to rename erronous files"
   ]
  },
  {
   "cell_type": "code",
   "execution_count": 46,
   "id": "00b5cd2c",
   "metadata": {},
   "outputs": [
    {
     "data": {
      "text/plain": [
       "\"\\nto_rename = '.\\\\to_rename\\\\';\\nrename_lst = pd.Series(os.listdir(to_rename));\\nrename_lst[:5]\\n\""
      ]
     },
     "execution_count": 46,
     "metadata": {},
     "output_type": "execute_result"
    }
   ],
   "source": [
    "'''\n",
    "to_rename = '.\\\\to_rename\\\\';\n",
    "rename_lst = pd.Series(os.listdir(to_rename));\n",
    "rename_lst[:5]\n",
    "'''"
   ]
  },
  {
   "cell_type": "code",
   "execution_count": 47,
   "id": "0b8f7118",
   "metadata": {},
   "outputs": [],
   "source": [
    "#rename_to = rename_lst.apply(lambda x: x.split('_')[0] + '--02_' + '_'.join(x.split('_')[1:]))"
   ]
  },
  {
   "cell_type": "code",
   "execution_count": 48,
   "id": "bba2051b",
   "metadata": {},
   "outputs": [
    {
     "data": {
      "text/plain": [
       "'\\nfor i in range(len(rename_lst)):\\n    filepath = to_rename + \"\\\\\" + rename_lst[i];\\n    filename_to = to_rename + \"\\\\\" + rename_to[i]\\n    os.rename(src = filepath, dst = filename_to)\\n'"
      ]
     },
     "execution_count": 48,
     "metadata": {},
     "output_type": "execute_result"
    }
   ],
   "source": [
    "'''\n",
    "for i in range(len(rename_lst)):\n",
    "    filepath = to_rename + \"\\\\\" + rename_lst[i];\n",
    "    filename_to = to_rename + \"\\\\\" + rename_to[i]\n",
    "    os.rename(src = filepath, dst = filename_to)\n",
    "'''"
   ]
  },
  {
   "cell_type": "code",
   "execution_count": null,
   "id": "59d270c3",
   "metadata": {},
   "outputs": [],
   "source": []
  }
 ],
 "metadata": {
  "kernelspec": {
   "display_name": "Python 3 (ipykernel)",
   "language": "python",
   "name": "python3"
  },
  "language_info": {
   "codemirror_mode": {
    "name": "ipython",
    "version": 3
   },
   "file_extension": ".py",
   "mimetype": "text/x-python",
   "name": "python",
   "nbconvert_exporter": "python",
   "pygments_lexer": "ipython3",
   "version": "3.9.7"
  }
 },
 "nbformat": 4,
 "nbformat_minor": 5
}
