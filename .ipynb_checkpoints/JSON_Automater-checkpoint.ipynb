{
 "cells": [
  {
   "cell_type": "code",
   "execution_count": 1,
   "id": "42b59fb2",
   "metadata": {},
   "outputs": [],
   "source": [
    "import pandas as pd;\n",
    "import numpy as np;\n",
    "import matplotlib.pyplot as plt;\n",
    "import seaborn as sns;\n",
    "import os;\n",
    "import time;\n",
    "from PIL import Image;\n",
    "%matplotlib inline"
   ]
  },
  {
   "cell_type": "code",
   "execution_count": 2,
   "id": "a3888ec5",
   "metadata": {},
   "outputs": [
    {
     "name": "stdout",
     "output_type": "stream",
     "text": [
      " Volume in drive C has no label.\n",
      " Volume Serial Number is 2EBD-2BDC\n",
      "\n",
      " Directory of C:\\Users\\Shahbaz\\Downloads\\GuessTheArt\\GuessTheRealArt\n",
      "\n",
      "07/10/2023  01:17 PM    <DIR>          .\n",
      "07/10/2023  01:17 PM    <DIR>          ..\n",
      "07/09/2023  08:56 AM                68 .gitattributes\n",
      "07/09/2023  08:56 AM             1,389 .gitignore\n",
      "07/10/2023  01:17 PM    <DIR>          .ipynb_checkpoints\n",
      "07/09/2023  09:26 AM    <DIR>          Assets_to_import\n",
      "07/09/2023  08:56 AM    <DIR>          examples\n",
      "07/09/2023  08:56 AM    <DIR>          famous-art-512-sq\n",
      "07/09/2023  08:56 AM    <DIR>          famous-paintings-by-author\n",
      "07/09/2023  08:56 AM    <DIR>          GuessTheRealArt\n",
      "07/09/2023  08:56 AM    <DIR>          images\n",
      "07/10/2023  01:17 PM                72 JSON_Automater.ipynb\n",
      "07/09/2023  09:01 AM    <DIR>          processed\n",
      "07/09/2023  08:56 AM    <DIR>          prompts\n",
      "07/09/2023  08:56 AM                78 README.md\n",
      "               4 File(s)          1,607 bytes\n",
      "              11 Dir(s)  22,170,640,384 bytes free\n"
     ]
    }
   ],
   "source": [
    "!dir"
   ]
  },
  {
   "cell_type": "markdown",
   "id": "84131ec1",
   "metadata": {},
   "source": [
    "## Set Real Image Parameteres and Image Set Paths"
   ]
  },
  {
   "cell_type": "code",
   "execution_count": 13,
   "id": "ee330b89",
   "metadata": {},
   "outputs": [],
   "source": [
    "# this is the pre-cropped 512x512 version of the images in the dataset\n",
    "answer_path = './famous-art-512-sq/';\n",
    "# path to the folder containing the generated images\n",
    "genned_images = './processed/';\n",
    "# path to re-create file structure for image set for importing to assets directory\n",
    "to_export = './Assets_to_import/'"
   ]
  },
  {
   "cell_type": "markdown",
   "id": "23c6bea1",
   "metadata": {},
   "source": [
    "## DataFrames with the list of original and generated images"
   ]
  },
  {
   "cell_type": "code",
   "execution_count": 8,
   "id": "0641ead6",
   "metadata": {},
   "outputs": [
    {
     "data": {
      "text/html": [
       "<div>\n",
       "<style scoped>\n",
       "    .dataframe tbody tr th:only-of-type {\n",
       "        vertical-align: middle;\n",
       "    }\n",
       "\n",
       "    .dataframe tbody tr th {\n",
       "        vertical-align: top;\n",
       "    }\n",
       "\n",
       "    .dataframe thead th {\n",
       "        text-align: right;\n",
       "    }\n",
       "</style>\n",
       "<table border=\"1\" class=\"dataframe\">\n",
       "  <thead>\n",
       "    <tr style=\"text-align: right;\">\n",
       "      <th></th>\n",
       "      <th>file_names</th>\n",
       "    </tr>\n",
       "  </thead>\n",
       "  <tbody>\n",
       "    <tr>\n",
       "      <th>0</th>\n",
       "      <td>Adolph-Von-Menzel-The-Flute-Concert-at-Sanssou...</td>\n",
       "    </tr>\n",
       "    <tr>\n",
       "      <th>1</th>\n",
       "      <td>Agnolo-Bronzino-Venus-Cupid-and-Time-Allegory-...</td>\n",
       "    </tr>\n",
       "    <tr>\n",
       "      <th>2</th>\n",
       "      <td>Albert-Bierstadt-Among-the-Sierra-Nevada-Mount...</td>\n",
       "    </tr>\n",
       "    <tr>\n",
       "      <th>3</th>\n",
       "      <td>Albert-Bierstadt-Deer-in-a-Clearing-S-2.jpg</td>\n",
       "    </tr>\n",
       "    <tr>\n",
       "      <th>4</th>\n",
       "      <td>Albert-Bierstadt-Forest-Sunrise-S-2.jpg</td>\n",
       "    </tr>\n",
       "  </tbody>\n",
       "</table>\n",
       "</div>"
      ],
      "text/plain": [
       "                                          file_names\n",
       "0  Adolph-Von-Menzel-The-Flute-Concert-at-Sanssou...\n",
       "1  Agnolo-Bronzino-Venus-Cupid-and-Time-Allegory-...\n",
       "2  Albert-Bierstadt-Among-the-Sierra-Nevada-Mount...\n",
       "3        Albert-Bierstadt-Deer-in-a-Clearing-S-2.jpg\n",
       "4            Albert-Bierstadt-Forest-Sunrise-S-2.jpg"
      ]
     },
     "execution_count": 8,
     "metadata": {},
     "output_type": "execute_result"
    }
   ],
   "source": [
    "# original image file data\n",
    "df_originals = pd.DataFrame(os.listdir(answer_path))\n",
    "df_originals.columns = ['file_names']\n",
    "df_originals.head()"
   ]
  },
  {
   "cell_type": "code",
   "execution_count": 10,
   "id": "a6f8885a",
   "metadata": {},
   "outputs": [
    {
     "data": {
      "text/html": [
       "<div>\n",
       "<style scoped>\n",
       "    .dataframe tbody tr th:only-of-type {\n",
       "        vertical-align: middle;\n",
       "    }\n",
       "\n",
       "    .dataframe tbody tr th {\n",
       "        vertical-align: top;\n",
       "    }\n",
       "\n",
       "    .dataframe thead th {\n",
       "        text-align: right;\n",
       "    }\n",
       "</style>\n",
       "<table border=\"1\" class=\"dataframe\">\n",
       "  <thead>\n",
       "    <tr style=\"text-align: right;\">\n",
       "      <th></th>\n",
       "      <th>file_names</th>\n",
       "    </tr>\n",
       "  </thead>\n",
       "  <tbody>\n",
       "    <tr>\n",
       "      <th>0</th>\n",
       "      <td>Adolph-Von-Menzel-The-Flute-Concert-at-Sanssou...</td>\n",
       "    </tr>\n",
       "    <tr>\n",
       "      <th>1</th>\n",
       "      <td>Adolph-Von-Menzel-The-Flute-Concert-at-Sanssou...</td>\n",
       "    </tr>\n",
       "    <tr>\n",
       "      <th>2</th>\n",
       "      <td>Adolph-Von-Menzel-The-Flute-Concert-at-Sanssou...</td>\n",
       "    </tr>\n",
       "    <tr>\n",
       "      <th>3</th>\n",
       "      <td>Adolph-Von-Menzel-The-Flute-Concert-at-Sanssou...</td>\n",
       "    </tr>\n",
       "    <tr>\n",
       "      <th>4</th>\n",
       "      <td>Adolph-Von-Menzel-The-Flute-Concert-at-Sanssou...</td>\n",
       "    </tr>\n",
       "  </tbody>\n",
       "</table>\n",
       "</div>"
      ],
      "text/plain": [
       "                                          file_names\n",
       "0  Adolph-Von-Menzel-The-Flute-Concert-at-Sanssou...\n",
       "1  Adolph-Von-Menzel-The-Flute-Concert-at-Sanssou...\n",
       "2  Adolph-Von-Menzel-The-Flute-Concert-at-Sanssou...\n",
       "3  Adolph-Von-Menzel-The-Flute-Concert-at-Sanssou...\n",
       "4  Adolph-Von-Menzel-The-Flute-Concert-at-Sanssou..."
      ]
     },
     "execution_count": 10,
     "metadata": {},
     "output_type": "execute_result"
    }
   ],
   "source": [
    "# Generated image file data\n",
    "df_genned = pd.DataFrame(os.listdir(genned_images))\n",
    "df_genned.columns = ['file_names']\n",
    "df_genned.head()"
   ]
  },
  {
   "cell_type": "code",
   "execution_count": 24,
   "id": "a86d4cb5",
   "metadata": {},
   "outputs": [
    {
     "name": "stdout",
     "output_type": "stream",
     "text": [
      "Number of original images:  924 \n",
      "\n",
      "Number of genned images:  1589 \n",
      "\n"
     ]
    }
   ],
   "source": [
    "print ('Number of original images: ', len(df_originals), '\\n')\n",
    "print ('Number of genned images: ', len(df_genned), '\\n')"
   ]
  },
  {
   "cell_type": "code",
   "execution_count": 26,
   "id": "b97b1c7b",
   "metadata": {},
   "outputs": [
    {
     "data": {
      "text/plain": [
       "'Adolph-Von-Menzel-The-Flute-Concert-at-Sanssouci-sketch--S-3.jpg'"
      ]
     },
     "execution_count": 26,
     "metadata": {},
     "output_type": "execute_result"
    }
   ],
   "source": [
    "df_originals['file_names'][0]"
   ]
  },
  {
   "cell_type": "markdown",
   "id": "047adfc9",
   "metadata": {},
   "source": [
    "## Naming convention and breakdown\n",
    "\n",
    "The generated images have the filenames in the following format: <br>\n",
    "\\<original_name> + \\<[underscore]> + \\<concept_applied> + \\<'[underscore]'> + \\<guidance scale value> + \\<file_extension>"
   ]
  },
  {
   "cell_type": "markdown",
   "id": "fc0d96f1",
   "metadata": {},
   "source": [
    "## Creating a folder for each original artwork that has generated images"
   ]
  },
  {
   "cell_type": "code",
   "execution_count": 40,
   "id": "368b8434",
   "metadata": {},
   "outputs": [],
   "source": [
    "sanitized_genned = df_genned['file_names'].apply(lambda x: x.split('_')[0])\n"
   ]
  },
  {
   "cell_type": "code",
   "execution_count": 113,
   "id": "71172fb1",
   "metadata": {},
   "outputs": [
    {
     "name": "stdout",
     "output_type": "stream",
     "text": [
      "Number of originals which have concepts generated: \t\t\t 24\n",
      "Number of completed sets, with all concepts applied to original image: \t 23\n",
      "Artwork(s) for which the generation set is incomplete: \t\t\t Alfred-Sisley-Foggy-Morning-Voisins-S \n",
      "\n"
     ]
    }
   ],
   "source": [
    "print ('Number of originals which have concepts generated: \\t\\t\\t', len(sanitized_genned.unique()))\n",
    "\n",
    "print ('Number of completed sets, with all concepts applied to original image: \\t', (sanitized_genned.value_counts() >= 65).sum())\n",
    "\n",
    "print ('Artwork(s) for which the generation set is incomplete: \\t\\t\\t', sanitized_genned.unique()[(sanitized_genned.value_counts() < 65)][0], '\\n')"
   ]
  },
  {
   "cell_type": "code",
   "execution_count": 127,
   "id": "8d5dcd32",
   "metadata": {},
   "outputs": [
    {
     "data": {
      "text/plain": [
       "'Albert-Bierstadt-Among-the-Sierra-Nevada-Mountains-Californi-2'"
      ]
     },
     "execution_count": 127,
     "metadata": {},
     "output_type": "execute_result"
    }
   ],
   "source": [
    "#sanitized_genned.unique()\n",
    "df_originals['file_names'].apply(lambda x: x.split('.')[0])[2]"
   ]
  },
  {
   "cell_type": "code",
   "execution_count": 128,
   "id": "9aa8eb3e",
   "metadata": {},
   "outputs": [
    {
     "data": {
      "text/plain": [
       "'Adolph-Von-Menzel-The-Flute-Concert-at-Sanssouci-sketch--S'"
      ]
     },
     "execution_count": 128,
     "metadata": {},
     "output_type": "execute_result"
    }
   ],
   "source": [
    "pd.Series(df_genned['file_names'].unique()).apply(lambda x: x.split('_')[0])[2]"
   ]
  },
  {
   "cell_type": "code",
   "execution_count": null,
   "id": "90b6c593",
   "metadata": {},
   "outputs": [],
   "source": []
  },
  {
   "cell_type": "code",
   "execution_count": null,
   "id": "125d7b29",
   "metadata": {},
   "outputs": [],
   "source": []
  },
  {
   "cell_type": "code",
   "execution_count": null,
   "id": "4b090ecb",
   "metadata": {},
   "outputs": [],
   "source": []
  },
  {
   "cell_type": "code",
   "execution_count": null,
   "id": "01a37ea1",
   "metadata": {},
   "outputs": [],
   "source": []
  },
  {
   "cell_type": "code",
   "execution_count": null,
   "id": "6f07f2f7",
   "metadata": {},
   "outputs": [],
   "source": []
  }
 ],
 "metadata": {
  "kernelspec": {
   "display_name": "Python 3 (ipykernel)",
   "language": "python",
   "name": "python3"
  },
  "language_info": {
   "codemirror_mode": {
    "name": "ipython",
    "version": 3
   },
   "file_extension": ".py",
   "mimetype": "text/x-python",
   "name": "python",
   "nbconvert_exporter": "python",
   "pygments_lexer": "ipython3",
   "version": "3.9.7"
  }
 },
 "nbformat": 4,
 "nbformat_minor": 5
}
