{
 "cells": [
  {
   "cell_type": "code",
   "execution_count": 1,
   "id": "42b59fb2",
   "metadata": {},
   "outputs": [],
   "source": [
    "import pandas as pd;\n",
    "import numpy as np;\n",
    "import matplotlib.pyplot as plt;\n",
    "import seaborn as sns;\n",
    "import os;\n",
    "import time;\n",
    "from PIL import Image;\n",
    "from tqdm import tqdm;\n",
    "import shutil;\n",
    "%matplotlib inline"
   ]
  },
  {
   "cell_type": "code",
   "execution_count": 2,
   "id": "a3888ec5",
   "metadata": {},
   "outputs": [
    {
     "name": "stdout",
     "output_type": "stream",
     "text": [
      " Volume in drive C has no label.\n",
      " Volume Serial Number is 2EBD-2BDC\n",
      "\n",
      " Directory of C:\\Users\\Shahbaz\\Downloads\\GuessTheArt\\GuessTheRealArt\n",
      "\n",
      "07/18/2023  08:22 PM    <DIR>          .\n",
      "07/18/2023  08:22 PM    <DIR>          ..\n",
      "07/09/2023  08:56 AM                68 .gitattributes\n",
      "07/09/2023  08:56 AM             1,389 .gitignore\n",
      "07/11/2023  01:20 PM    <DIR>          .ipynb_checkpoints\n",
      "07/13/2023  12:03 AM    <DIR>          Assets_to_import\n",
      "07/12/2023  11:56 PM           188,818 df_genned.csv\n",
      "07/12/2023  11:56 PM           139,542 df_originals.csv\n",
      "07/09/2023  08:56 AM    <DIR>          examples\n",
      "07/12/2023  10:46 PM    <DIR>          famous-art-512-sq\n",
      "07/11/2023  12:44 PM    <DIR>          famous-art-512-sq_Preserved\n",
      "07/09/2023  08:56 AM    <DIR>          famous-paintings-by-author\n",
      "07/10/2023  01:21 PM    <DIR>          genned_images\n",
      "07/09/2023  08:56 AM    <DIR>          GuessTheRealArt\n",
      "07/09/2023  08:56 AM    <DIR>          images\n",
      "07/13/2023  12:12 AM            70,456 JSON_Automater.ipynb\n",
      "07/10/2023  07:17 PM    <DIR>          landscapes\n",
      "07/12/2023  11:56 PM             2,561 levelDirectory.csv\n",
      "07/13/2023  12:12 AM            50,314 original_512_name_fixer.ipynb\n",
      "07/18/2023  08:22 PM    <DIR>          out-quads-1\n",
      "07/10/2023  07:16 PM    <DIR>          Portraits\n",
      "07/12/2023  10:29 PM    <DIR>          processed\n",
      "07/13/2023  12:11 AM    <DIR>          prompts\n",
      "07/09/2023  08:56 AM                78 README.md\n",
      "07/13/2023  12:07 AM    <DIR>          Saved_dataFrames-Shahbaz\n",
      "07/11/2023  12:22 PM    <DIR>          to_rename\n",
      "               8 File(s)        453,226 bytes\n",
      "              18 Dir(s)  21,693,571,072 bytes free\n"
     ]
    }
   ],
   "source": [
    "!dir"
   ]
  },
  {
   "cell_type": "markdown",
   "id": "84131ec1",
   "metadata": {},
   "source": [
    "## Set Real Image Parameteres and Image Set Paths"
   ]
  },
  {
   "cell_type": "code",
   "execution_count": 2,
   "id": "ee330b89",
   "metadata": {},
   "outputs": [],
   "source": [
    "# this is the pre-cropped 512x512 version of the images in the dataset\n",
    "answer_path = './famous-art-512-sq/';\n",
    "# path to the folder containing the generated images\n",
    "genned_images = './processed/';\n",
    "# path to re-create file structure for image set for importing to assets directory\n",
    "to_export = './Assets_to_import/level_assets/'\n",
    "to_export_json = './Assets_to_import/leveldir/'\n",
    "# path containing original file names before 'aaaaa_' insertion\n",
    "of_names_directory = './famous-art-512-sq_Preserved/'"
   ]
  },
  {
   "cell_type": "markdown",
   "id": "23c6bea1",
   "metadata": {},
   "source": [
    "## DataFrames with the list of original and generated images"
   ]
  },
  {
   "cell_type": "code",
   "execution_count": 8,
   "id": "0641ead6",
   "metadata": {},
   "outputs": [
    {
     "data": {
      "text/plain": [
       "'Albrecht-Durer-Portrait-of-a-Young-Venetian-Woman-S_002-2.jpg'"
      ]
     },
     "execution_count": 8,
     "metadata": {},
     "output_type": "execute_result"
    }
   ],
   "source": [
    "# original image file data\n",
    "#df_originals = pd.DataFrame(os.listdir(answer_path))\n",
    "df_originals = pd.DataFrame(os.listdir(of_names_directory))\n",
    "df_originals.columns = ['file_names']\n",
    "df_originals.sort_values(by = 'file_names', inplace = True)\n",
    "df_originals['file_names'][16]"
   ]
  },
  {
   "cell_type": "code",
   "execution_count": 9,
   "id": "a6f8885a",
   "metadata": {},
   "outputs": [
    {
     "data": {
      "text/html": [
       "<div>\n",
       "<style scoped>\n",
       "    .dataframe tbody tr th:only-of-type {\n",
       "        vertical-align: middle;\n",
       "    }\n",
       "\n",
       "    .dataframe tbody tr th {\n",
       "        vertical-align: top;\n",
       "    }\n",
       "\n",
       "    .dataframe thead th {\n",
       "        text-align: right;\n",
       "    }\n",
       "</style>\n",
       "<table border=\"1\" class=\"dataframe\">\n",
       "  <thead>\n",
       "    <tr style=\"text-align: right;\">\n",
       "      <th></th>\n",
       "      <th>file_names</th>\n",
       "    </tr>\n",
       "  </thead>\n",
       "  <tbody>\n",
       "    <tr>\n",
       "      <th>0</th>\n",
       "      <td>Adolph-Von-Menzel-The-Flute-Concert-at-Sanssou...</td>\n",
       "    </tr>\n",
       "    <tr>\n",
       "      <th>1</th>\n",
       "      <td>Adolph-Von-Menzel-The-Flute-Concert-at-Sanssou...</td>\n",
       "    </tr>\n",
       "    <tr>\n",
       "      <th>2</th>\n",
       "      <td>Adolph-Von-Menzel-The-Flute-Concert-at-Sanssou...</td>\n",
       "    </tr>\n",
       "    <tr>\n",
       "      <th>4</th>\n",
       "      <td>Adolph-Von-Menzel-The-Flute-Concert-at-Sanssou...</td>\n",
       "    </tr>\n",
       "    <tr>\n",
       "      <th>5</th>\n",
       "      <td>Adolph-Von-Menzel-The-Flute-Concert-at-Sanssou...</td>\n",
       "    </tr>\n",
       "  </tbody>\n",
       "</table>\n",
       "</div>"
      ],
      "text/plain": [
       "                                          file_names\n",
       "0  Adolph-Von-Menzel-The-Flute-Concert-at-Sanssou...\n",
       "1  Adolph-Von-Menzel-The-Flute-Concert-at-Sanssou...\n",
       "2  Adolph-Von-Menzel-The-Flute-Concert-at-Sanssou...\n",
       "4  Adolph-Von-Menzel-The-Flute-Concert-at-Sanssou...\n",
       "5  Adolph-Von-Menzel-The-Flute-Concert-at-Sanssou..."
      ]
     },
     "execution_count": 9,
     "metadata": {},
     "output_type": "execute_result"
    }
   ],
   "source": [
    "# Generated image file data\n",
    "df_genned = pd.DataFrame(os.listdir(genned_images))\n",
    "df_genned.columns = ['file_names']\n",
    "df_genned.sort_values(by = 'file_names', inplace = True)\n",
    "df_genned.head()"
   ]
  },
  {
   "cell_type": "code",
   "execution_count": 10,
   "id": "a86d4cb5",
   "metadata": {},
   "outputs": [
    {
     "name": "stdout",
     "output_type": "stream",
     "text": [
      "Number of original images:  924 \n",
      "\n",
      "Number of genned images:  1589 \n",
      "\n"
     ]
    }
   ],
   "source": [
    "print ('Number of original images: ', len(df_originals), '\\n')\n",
    "print ('Number of genned images: ', len(df_genned), '\\n')"
   ]
  },
  {
   "cell_type": "code",
   "execution_count": 11,
   "id": "b97b1c7b",
   "metadata": {},
   "outputs": [
    {
     "data": {
      "text/plain": [
       "'Albrecht-Durer-Portrait-of-a-Young-Venetian-Woman-S_002-2.jpg'"
      ]
     },
     "execution_count": 11,
     "metadata": {},
     "output_type": "execute_result"
    }
   ],
   "source": [
    "df_originals['file_names'][16]"
   ]
  },
  {
   "cell_type": "markdown",
   "id": "047adfc9",
   "metadata": {},
   "source": [
    "## Naming convention and breakdown\n",
    "\n",
    "The generated images have the filenames in the following format: <br>\n",
    "\\<original_name> + \\<[underscore]> + \\<concept_applied> + \\<'[underscore]'> + \\<guidance scale value> + \\<file_extension>"
   ]
  },
  {
   "cell_type": "markdown",
   "id": "fc0d96f1",
   "metadata": {},
   "source": [
    "## Creating a folder for each original artwork that has generated images"
   ]
  },
  {
   "cell_type": "code",
   "execution_count": 4,
   "id": "368b8434",
   "metadata": {},
   "outputs": [],
   "source": [
    "sanitized_genned = df_genned['file_names'].apply(lambda x: x.split('_')[0])\n",
    "\n",
    "# number of images in 'complete set'\n",
    "n_images_complete_set = 3"
   ]
  },
  {
   "cell_type": "code",
   "execution_count": 5,
   "id": "71172fb1",
   "metadata": {},
   "outputs": [
    {
     "name": "stdout",
     "output_type": "stream",
     "text": [
      "Number of originals which have concepts generated: \t\t\t 25\n",
      "Number of completed sets, with all concepts applied to original image: \t 25\n"
     ]
    },
    {
     "ename": "IndexError",
     "evalue": "index 0 is out of bounds for axis 0 with size 0",
     "output_type": "error",
     "traceback": [
      "\u001b[1;31m---------------------------------------------------------------------------\u001b[0m",
      "\u001b[1;31mIndexError\u001b[0m                                Traceback (most recent call last)",
      "Input \u001b[1;32mIn [5]\u001b[0m, in \u001b[0;36m<cell line: 5>\u001b[1;34m()\u001b[0m\n\u001b[0;32m      1\u001b[0m \u001b[38;5;28mprint\u001b[39m (\u001b[38;5;124m'\u001b[39m\u001b[38;5;124mNumber of originals which have concepts generated: \u001b[39m\u001b[38;5;130;01m\\t\u001b[39;00m\u001b[38;5;130;01m\\t\u001b[39;00m\u001b[38;5;130;01m\\t\u001b[39;00m\u001b[38;5;124m'\u001b[39m, \u001b[38;5;28mlen\u001b[39m(sanitized_genned\u001b[38;5;241m.\u001b[39munique()))\n\u001b[0;32m      3\u001b[0m \u001b[38;5;28mprint\u001b[39m (\u001b[38;5;124m'\u001b[39m\u001b[38;5;124mNumber of completed sets, with all concepts applied to original image: \u001b[39m\u001b[38;5;130;01m\\t\u001b[39;00m\u001b[38;5;124m'\u001b[39m, (sanitized_genned\u001b[38;5;241m.\u001b[39mvalue_counts() \u001b[38;5;241m>\u001b[39m\u001b[38;5;241m=\u001b[39m n_images_complete_set)\u001b[38;5;241m.\u001b[39msum())\n\u001b[1;32m----> 5\u001b[0m \u001b[38;5;28mprint\u001b[39m (\u001b[38;5;124m'\u001b[39m\u001b[38;5;124mArtwork(s) for which the generation set is incomplete: \u001b[39m\u001b[38;5;130;01m\\t\u001b[39;00m\u001b[38;5;130;01m\\t\u001b[39;00m\u001b[38;5;130;01m\\t\u001b[39;00m\u001b[38;5;124m'\u001b[39m, \u001b[43msanitized_genned\u001b[49m\u001b[38;5;241;43m.\u001b[39;49m\u001b[43munique\u001b[49m\u001b[43m(\u001b[49m\u001b[43m)\u001b[49m\u001b[43m[\u001b[49m\u001b[43m(\u001b[49m\u001b[43msanitized_genned\u001b[49m\u001b[38;5;241;43m.\u001b[39;49m\u001b[43mvalue_counts\u001b[49m\u001b[43m(\u001b[49m\u001b[43m)\u001b[49m\u001b[43m \u001b[49m\u001b[38;5;241;43m<\u001b[39;49m\u001b[43m \u001b[49m\u001b[43mn_images_complete_set\u001b[49m\u001b[43m)\u001b[49m\u001b[43m]\u001b[49m\u001b[43m[\u001b[49m\u001b[38;5;241;43m0\u001b[39;49m\u001b[43m]\u001b[49m, \u001b[38;5;124m'\u001b[39m\u001b[38;5;130;01m\\n\u001b[39;00m\u001b[38;5;124m'\u001b[39m)\n",
      "\u001b[1;31mIndexError\u001b[0m: index 0 is out of bounds for axis 0 with size 0"
     ]
    }
   ],
   "source": [
    "print ('Number of originals which have concepts generated: \\t\\t\\t', len(sanitized_genned.unique()))\n",
    "\n",
    "print ('Number of completed sets, with all concepts applied to original image: \\t', (sanitized_genned.value_counts() >= n_images_complete_set).sum())\n",
    "\n",
    "print ('Artwork(s) for which the generation set is incomplete: \\t\\t\\t', sanitized_genned.unique()[(sanitized_genned.value_counts() < n_images_complete_set)][0], '\\n')"
   ]
  },
  {
   "cell_type": "code",
   "execution_count": 6,
   "id": "f752091d",
   "metadata": {},
   "outputs": [
    {
     "data": {
      "text/plain": [
       "Albert-Edelfelt-The-Artist+s-Son-Erik-in-his-Pram-S.s-Son-Erik-in-his-Pram-S    66\n",
       "Alexandre-Cabanel-Fallen-Angel-S                                                66\n",
       "Albrecht-Durer-Young-Hare-S                                                     66\n",
       "Albrecht-Durer-The-Martyrdom-of-the-Ten-Thousand-S                              66\n",
       "Albrecht-Durer-The-Altarpiece-of-the-Rose-Garlands-S                            66\n",
       "Albrecht-Durer-Self-portrait-at-22-S                                            66\n",
       "Albrecht-Durer-Portrait-of-a-Young-Venetian-Woman-S                             66\n",
       "Albrecht-Durer-Portrait-of-a-Young-Venetian-Woman-S+002.002                     66\n",
       "Albrecht-Durer-Christ-as-the-Man-of-Sorrows-S                                   66\n",
       "Albrecht-Durer-Christ-Among-the-Doctors-S                                       66\n",
       "Agnolo-Bronzino-Venus-Cupid-and-Time-Allegory-of-Lust--S                        66\n",
       "AlbrechtDurer-Selfportraitdetailface-S                                          66\n",
       "Albert-Charles-Lebourg-The-Quays-of-Dieppe-after-the-Rain-S                     66\n",
       "Albert-Charles-Lebourg-Notre-Dame-de-Paris-and-the-Bridge-of                    66\n",
       "Albert-Charles-Lebourg-Albert-Marie-Lebourg-Rouen-Snow-Effec                    66\n",
       "Albert-Bierstadt-Staubbach-Falls-Near-Lauterbrunnen-Switzerl                    66\n",
       "Albert-Bierstadt-Rustic-Mill-S                                                  66\n",
       "Albert-Bierstadt-Rocky-Mountains-S                                              66\n",
       "Alexej-Georgewitsch-Von-Jawlensky-Mystical-Head-Meditation-S                    66\n",
       "Albert-Bierstadt-Deer-in-a-Clearing-S                                           66\n",
       "Albert-Bierstadt-Among-the-Sierra-Nevada-Mountains-Californi                    66\n",
       "Adolph-Von-Menzel-The-Flute-Concert-at-Sanssouci-sketch--S                      65\n",
       "Albrecht-Altdorfer-The-Battle-of-Alexander-at-Issus-S                           65\n",
       "Albert-Bierstadt-Forest-Sunrise-S                                               65\n",
       "Alfred-Sisley-Foggy-Morning-Voisins-S                                            8\n",
       "Name: file_names, dtype: int64"
      ]
     },
     "execution_count": 6,
     "metadata": {},
     "output_type": "execute_result"
    }
   ],
   "source": [
    "sanitized_genned.value_counts()"
   ]
  },
  {
   "cell_type": "code",
   "execution_count": 7,
   "id": "8d5dcd32",
   "metadata": {},
   "outputs": [
    {
     "data": {
      "text/plain": [
       "[0,\n",
       " 1,\n",
       " 2,\n",
       " 3,\n",
       " 4,\n",
       " 5,\n",
       " 6,\n",
       " 7,\n",
       " 8,\n",
       " 9,\n",
       " 10,\n",
       " 12,\n",
       " 13,\n",
       " 14,\n",
       " 16,\n",
       " 17,\n",
       " 18,\n",
       " 19,\n",
       " 20,\n",
       " 21,\n",
       " 22,\n",
       " 23,\n",
       " 24]"
      ]
     },
     "execution_count": 7,
     "metadata": {},
     "output_type": "execute_result"
    }
   ],
   "source": [
    "#pd.DataFrame(sanitized_genned.unique())\n",
    "[i for i in range(len(sanitized_genned.unique())) if df_originals['file_names'][i][:-6] == sanitized_genned.unique()[i]]"
   ]
  },
  {
   "cell_type": "code",
   "execution_count": 8,
   "id": "9aa8eb3e",
   "metadata": {},
   "outputs": [
    {
     "data": {
      "text/plain": [
       "'Albert-Bierstadt-Among-the-Sierra-Nevada-Mountains-Californi'"
      ]
     },
     "execution_count": 8,
     "metadata": {},
     "output_type": "execute_result"
    }
   ],
   "source": [
    "df_originals['genned_set_name'] = df_originals['file_names'].apply(lambda x: '-'.join(x.split('-')[:-1]))\n",
    "df_originals.sort_values(by = 'genned_set_name')['genned_set_name'][2]\n",
    "#df_originals['genned_set_name'][19]"
   ]
  },
  {
   "cell_type": "code",
   "execution_count": 9,
   "id": "90b6c593",
   "metadata": {},
   "outputs": [
    {
     "data": {
      "text/plain": [
       "'Albert-Bierstadt-Among-the-Sierra-Nevada-Mountains-Californi'"
      ]
     },
     "execution_count": 9,
     "metadata": {},
     "output_type": "execute_result"
    }
   ],
   "source": [
    "genned_set = pd.DataFrame(sanitized_genned.unique())[0].apply(lambda x: '-'.join(x.split('-')[:]) if (len(x.split('.')) < 2) else '-'.join(x.split('.')[:-1]));\n",
    "genned_set.sort_values()[2]\n",
    "#genned_set\n",
    "\n",
    "#genned_set = pd.DataFrame(sanitized_genned.unique())[0].apply(lambda x: x.split('.'));\n",
    "#genned_set.sort_values()\n"
   ]
  },
  {
   "cell_type": "code",
   "execution_count": 10,
   "id": "125d7b29",
   "metadata": {},
   "outputs": [
    {
     "data": {
      "text/plain": [
       "[0,\n",
       " 1,\n",
       " 2,\n",
       " 3,\n",
       " 4,\n",
       " 5,\n",
       " 6,\n",
       " 7,\n",
       " 8,\n",
       " 9,\n",
       " 10,\n",
       " 11,\n",
       " 12,\n",
       " 13,\n",
       " 14,\n",
       " 15,\n",
       " 16,\n",
       " 17,\n",
       " 18,\n",
       " 19,\n",
       " 20,\n",
       " 21,\n",
       " 22,\n",
       " 23,\n",
       " 24]"
      ]
     },
     "execution_count": 10,
     "metadata": {},
     "output_type": "execute_result"
    }
   ],
   "source": [
    "[i for i in range(len(genned_set)) if genned_set[i] == df_originals['genned_set_name'][i]]"
   ]
  },
  {
   "cell_type": "code",
   "execution_count": 11,
   "id": "4b090ecb",
   "metadata": {},
   "outputs": [
    {
     "data": {
      "text/html": [
       "<div>\n",
       "<style scoped>\n",
       "    .dataframe tbody tr th:only-of-type {\n",
       "        vertical-align: middle;\n",
       "    }\n",
       "\n",
       "    .dataframe tbody tr th {\n",
       "        vertical-align: top;\n",
       "    }\n",
       "\n",
       "    .dataframe thead th {\n",
       "        text-align: right;\n",
       "    }\n",
       "</style>\n",
       "<table border=\"1\" class=\"dataframe\">\n",
       "  <thead>\n",
       "    <tr style=\"text-align: right;\">\n",
       "      <th></th>\n",
       "      <th>0</th>\n",
       "      <th>genned_set_name</th>\n",
       "    </tr>\n",
       "  </thead>\n",
       "  <tbody>\n",
       "    <tr>\n",
       "      <th>0</th>\n",
       "      <td>Adolph-Von-Menzel-The-Flute-Concert-at-Sanssou...</td>\n",
       "      <td>Adolph-Von-Menzel-The-Flute-Concert-at-Sanssou...</td>\n",
       "    </tr>\n",
       "    <tr>\n",
       "      <th>1</th>\n",
       "      <td>Agnolo-Bronzino-Venus-Cupid-and-Time-Allegory-...</td>\n",
       "      <td>Agnolo-Bronzino-Venus-Cupid-and-Time-Allegory-...</td>\n",
       "    </tr>\n",
       "    <tr>\n",
       "      <th>2</th>\n",
       "      <td>Albert-Bierstadt-Among-the-Sierra-Nevada-Mount...</td>\n",
       "      <td>Albert-Bierstadt-Among-the-Sierra-Nevada-Mount...</td>\n",
       "    </tr>\n",
       "    <tr>\n",
       "      <th>3</th>\n",
       "      <td>Albert-Bierstadt-Deer-in-a-Clearing-S</td>\n",
       "      <td>Albert-Bierstadt-Deer-in-a-Clearing-S</td>\n",
       "    </tr>\n",
       "    <tr>\n",
       "      <th>4</th>\n",
       "      <td>Albert-Bierstadt-Forest-Sunrise-S</td>\n",
       "      <td>Albert-Bierstadt-Forest-Sunrise-S</td>\n",
       "    </tr>\n",
       "    <tr>\n",
       "      <th>5</th>\n",
       "      <td>Albert-Bierstadt-Rocky-Mountains-S</td>\n",
       "      <td>Albert-Bierstadt-Rocky-Mountains-S</td>\n",
       "    </tr>\n",
       "    <tr>\n",
       "      <th>6</th>\n",
       "      <td>Albert-Bierstadt-Rustic-Mill-S</td>\n",
       "      <td>Albert-Bierstadt-Rustic-Mill-S</td>\n",
       "    </tr>\n",
       "    <tr>\n",
       "      <th>7</th>\n",
       "      <td>Albert-Bierstadt-Staubbach-Falls-Near-Lauterbr...</td>\n",
       "      <td>Albert-Bierstadt-Staubbach-Falls-Near-Lauterbr...</td>\n",
       "    </tr>\n",
       "    <tr>\n",
       "      <th>8</th>\n",
       "      <td>Albert-Charles-Lebourg-Albert-Marie-Lebourg-Ro...</td>\n",
       "      <td>Albert-Charles-Lebourg-Albert-Marie-Lebourg-Ro...</td>\n",
       "    </tr>\n",
       "    <tr>\n",
       "      <th>9</th>\n",
       "      <td>Albert-Charles-Lebourg-Notre-Dame-de-Paris-and...</td>\n",
       "      <td>Albert-Charles-Lebourg-Notre-Dame-de-Paris-and...</td>\n",
       "    </tr>\n",
       "    <tr>\n",
       "      <th>10</th>\n",
       "      <td>Albert-Charles-Lebourg-The-Quays-of-Dieppe-aft...</td>\n",
       "      <td>Albert-Charles-Lebourg-The-Quays-of-Dieppe-aft...</td>\n",
       "    </tr>\n",
       "    <tr>\n",
       "      <th>11</th>\n",
       "      <td>Albert-Edelfelt-The-Artist+s-Son-Erik-in-his-P...</td>\n",
       "      <td>Albert-Edelfelt-The-Artist+s-Son-Erik-in-his-P...</td>\n",
       "    </tr>\n",
       "    <tr>\n",
       "      <th>12</th>\n",
       "      <td>Albrecht-Altdorfer-The-Battle-of-Alexander-at-...</td>\n",
       "      <td>Albrecht-Altdorfer-The-Battle-of-Alexander-at-...</td>\n",
       "    </tr>\n",
       "    <tr>\n",
       "      <th>13</th>\n",
       "      <td>Albrecht-Durer-Christ-Among-the-Doctors-S</td>\n",
       "      <td>Albrecht-Durer-Christ-Among-the-Doctors-S</td>\n",
       "    </tr>\n",
       "    <tr>\n",
       "      <th>14</th>\n",
       "      <td>Albrecht-Durer-Christ-as-the-Man-of-Sorrows-S</td>\n",
       "      <td>Albrecht-Durer-Christ-as-the-Man-of-Sorrows-S</td>\n",
       "    </tr>\n",
       "    <tr>\n",
       "      <th>15</th>\n",
       "      <td>Albrecht-Durer-Portrait-of-a-Young-Venetian-Wo...</td>\n",
       "      <td>Albrecht-Durer-Portrait-of-a-Young-Venetian-Wo...</td>\n",
       "    </tr>\n",
       "    <tr>\n",
       "      <th>16</th>\n",
       "      <td>Albrecht-Durer-Portrait-of-a-Young-Venetian-Wo...</td>\n",
       "      <td>Albrecht-Durer-Portrait-of-a-Young-Venetian-Wo...</td>\n",
       "    </tr>\n",
       "    <tr>\n",
       "      <th>17</th>\n",
       "      <td>Albrecht-Durer-Self-portrait-at-22-S</td>\n",
       "      <td>Albrecht-Durer-Self-portrait-at-22-S</td>\n",
       "    </tr>\n",
       "    <tr>\n",
       "      <th>18</th>\n",
       "      <td>Albrecht-Durer-The-Altarpiece-of-the-Rose-Garl...</td>\n",
       "      <td>Albrecht-Durer-The-Altarpiece-of-the-Rose-Garl...</td>\n",
       "    </tr>\n",
       "    <tr>\n",
       "      <th>19</th>\n",
       "      <td>Albrecht-Durer-The-Martyrdom-of-the-Ten-Thousa...</td>\n",
       "      <td>Albrecht-Durer-The-Martyrdom-of-the-Ten-Thousa...</td>\n",
       "    </tr>\n",
       "    <tr>\n",
       "      <th>20</th>\n",
       "      <td>Albrecht-Durer-Young-Hare-S</td>\n",
       "      <td>Albrecht-Durer-Young-Hare-S</td>\n",
       "    </tr>\n",
       "    <tr>\n",
       "      <th>21</th>\n",
       "      <td>AlbrechtDurer-Selfportraitdetailface-S</td>\n",
       "      <td>AlbrechtDurer-Selfportraitdetailface-S</td>\n",
       "    </tr>\n",
       "    <tr>\n",
       "      <th>22</th>\n",
       "      <td>Alexandre-Cabanel-Fallen-Angel-S</td>\n",
       "      <td>Alexandre-Cabanel-Fallen-Angel-S</td>\n",
       "    </tr>\n",
       "    <tr>\n",
       "      <th>23</th>\n",
       "      <td>Alexej-Georgewitsch-Von-Jawlensky-Mystical-Hea...</td>\n",
       "      <td>Alexej-Georgewitsch-Von-Jawlensky-Mystical-Hea...</td>\n",
       "    </tr>\n",
       "    <tr>\n",
       "      <th>24</th>\n",
       "      <td>Alfred-Sisley-Foggy-Morning-Voisins-S</td>\n",
       "      <td>Alfred-Sisley-Foggy-Morning-Voisins-S</td>\n",
       "    </tr>\n",
       "  </tbody>\n",
       "</table>\n",
       "</div>"
      ],
      "text/plain": [
       "                                                    0  \\\n",
       "0   Adolph-Von-Menzel-The-Flute-Concert-at-Sanssou...   \n",
       "1   Agnolo-Bronzino-Venus-Cupid-and-Time-Allegory-...   \n",
       "2   Albert-Bierstadt-Among-the-Sierra-Nevada-Mount...   \n",
       "3               Albert-Bierstadt-Deer-in-a-Clearing-S   \n",
       "4                   Albert-Bierstadt-Forest-Sunrise-S   \n",
       "5                  Albert-Bierstadt-Rocky-Mountains-S   \n",
       "6                      Albert-Bierstadt-Rustic-Mill-S   \n",
       "7   Albert-Bierstadt-Staubbach-Falls-Near-Lauterbr...   \n",
       "8   Albert-Charles-Lebourg-Albert-Marie-Lebourg-Ro...   \n",
       "9   Albert-Charles-Lebourg-Notre-Dame-de-Paris-and...   \n",
       "10  Albert-Charles-Lebourg-The-Quays-of-Dieppe-aft...   \n",
       "11  Albert-Edelfelt-The-Artist+s-Son-Erik-in-his-P...   \n",
       "12  Albrecht-Altdorfer-The-Battle-of-Alexander-at-...   \n",
       "13          Albrecht-Durer-Christ-Among-the-Doctors-S   \n",
       "14      Albrecht-Durer-Christ-as-the-Man-of-Sorrows-S   \n",
       "15  Albrecht-Durer-Portrait-of-a-Young-Venetian-Wo...   \n",
       "16  Albrecht-Durer-Portrait-of-a-Young-Venetian-Wo...   \n",
       "17               Albrecht-Durer-Self-portrait-at-22-S   \n",
       "18  Albrecht-Durer-The-Altarpiece-of-the-Rose-Garl...   \n",
       "19  Albrecht-Durer-The-Martyrdom-of-the-Ten-Thousa...   \n",
       "20                        Albrecht-Durer-Young-Hare-S   \n",
       "21             AlbrechtDurer-Selfportraitdetailface-S   \n",
       "22                   Alexandre-Cabanel-Fallen-Angel-S   \n",
       "23  Alexej-Georgewitsch-Von-Jawlensky-Mystical-Hea...   \n",
       "24              Alfred-Sisley-Foggy-Morning-Voisins-S   \n",
       "\n",
       "                                      genned_set_name  \n",
       "0   Adolph-Von-Menzel-The-Flute-Concert-at-Sanssou...  \n",
       "1   Agnolo-Bronzino-Venus-Cupid-and-Time-Allegory-...  \n",
       "2   Albert-Bierstadt-Among-the-Sierra-Nevada-Mount...  \n",
       "3               Albert-Bierstadt-Deer-in-a-Clearing-S  \n",
       "4                   Albert-Bierstadt-Forest-Sunrise-S  \n",
       "5                  Albert-Bierstadt-Rocky-Mountains-S  \n",
       "6                      Albert-Bierstadt-Rustic-Mill-S  \n",
       "7   Albert-Bierstadt-Staubbach-Falls-Near-Lauterbr...  \n",
       "8   Albert-Charles-Lebourg-Albert-Marie-Lebourg-Ro...  \n",
       "9   Albert-Charles-Lebourg-Notre-Dame-de-Paris-and...  \n",
       "10  Albert-Charles-Lebourg-The-Quays-of-Dieppe-aft...  \n",
       "11  Albert-Edelfelt-The-Artist+s-Son-Erik-in-his-P...  \n",
       "12  Albrecht-Altdorfer-The-Battle-of-Alexander-at-...  \n",
       "13          Albrecht-Durer-Christ-Among-the-Doctors-S  \n",
       "14      Albrecht-Durer-Christ-as-the-Man-of-Sorrows-S  \n",
       "15  Albrecht-Durer-Portrait-of-a-Young-Venetian-Wo...  \n",
       "16  Albrecht-Durer-Portrait-of-a-Young-Venetian-Wo...  \n",
       "17               Albrecht-Durer-Self-portrait-at-22-S  \n",
       "18  Albrecht-Durer-The-Altarpiece-of-the-Rose-Garl...  \n",
       "19  Albrecht-Durer-The-Martyrdom-of-the-Ten-Thousa...  \n",
       "20                        Albrecht-Durer-Young-Hare-S  \n",
       "21             AlbrechtDurer-Selfportraitdetailface-S  \n",
       "22                   Alexandre-Cabanel-Fallen-Angel-S  \n",
       "23  Alexej-Georgewitsch-Von-Jawlensky-Mystical-Hea...  \n",
       "24              Alfred-Sisley-Foggy-Morning-Voisins-S  "
      ]
     },
     "execution_count": 11,
     "metadata": {},
     "output_type": "execute_result"
    }
   ],
   "source": [
    "pd.DataFrame([genned_set, df_originals['genned_set_name']]).transpose().dropna()"
   ]
  },
  {
   "cell_type": "code",
   "execution_count": 12,
   "id": "01a37ea1",
   "metadata": {},
   "outputs": [
    {
     "data": {
      "text/plain": [
       "'Albrecht-Durer-Portrait-of-a-Young-Venetian-Woman-S+002'"
      ]
     },
     "execution_count": 12,
     "metadata": {},
     "output_type": "execute_result"
    }
   ],
   "source": [
    "df_originals['genned_set_name'][15]"
   ]
  },
  {
   "cell_type": "code",
   "execution_count": 13,
   "id": "6f07f2f7",
   "metadata": {},
   "outputs": [
    {
     "data": {
      "text/plain": [
       "'Albrecht-Durer-Portrait-of-a-Young-Venetian-Woman-S+002'"
      ]
     },
     "execution_count": 13,
     "metadata": {},
     "output_type": "execute_result"
    }
   ],
   "source": [
    "genned_set.unique()[15]"
   ]
  },
  {
   "cell_type": "markdown",
   "id": "5270e41e",
   "metadata": {},
   "source": [
    "### Creating a folder for each set which has more than \\<n_images_complete_set\\> genned files (minimum for a set)"
   ]
  },
  {
   "cell_type": "code",
   "execution_count": 37,
   "id": "5ae4b4f0",
   "metadata": {},
   "outputs": [
    {
     "name": "stdout",
     "output_type": "stream",
     "text": [
      "folders will be created in the following path: \n",
      "./Assets_to_import/level_assets/\n"
     ]
    }
   ],
   "source": [
    "print('folders will be created in the following path: \\n' + to_export)"
   ]
  },
  {
   "cell_type": "code",
   "execution_count": 38,
   "id": "13c74526",
   "metadata": {},
   "outputs": [
    {
     "name": "stderr",
     "output_type": "stream",
     "text": [
      "100%|███████████████████████████████████████████████████████████████████████████████████████████████████████████████████████████████████████████████████████████████████████████| 25/25 [00:00<00:00, 2280.50it/s]\n"
     ]
    }
   ],
   "source": [
    "filepath = '';\n",
    "if not(os.path.exists('./Assets_to_import/level_assets/')):\n",
    "        os.mkdir('./Assets_to_import/level_assets/')\n",
    "for i in tqdm(genned_set):\n",
    "    filepath = to_export + i\n",
    "    if not(os.path.exists(filepath)):\n",
    "        os.mkdir(filepath)"
   ]
  },
  {
   "cell_type": "markdown",
   "id": "62884faf",
   "metadata": {},
   "source": [
    "### Create copies of each original file and append 'aaaaa' to the beginning of filename"
   ]
  },
  {
   "cell_type": "code",
   "execution_count": 17,
   "id": "c6cd636c",
   "metadata": {},
   "outputs": [
    {
     "name": "stdout",
     "output_type": "stream",
     "text": [
      "files will be renamed from the following path: \n",
      "./famous-art-512-sq/\n"
     ]
    }
   ],
   "source": [
    "print('files will be renamed from the following path: \\n' + answer_path)"
   ]
  },
  {
   "cell_type": "code",
   "execution_count": 20,
   "id": "67cca60a",
   "metadata": {},
   "outputs": [
    {
     "data": {
      "text/plain": [
       "'Adolph-Von-Menzel-The-Flute-Concert-at-Sanssouci-sketch--S'"
      ]
     },
     "execution_count": 20,
     "metadata": {},
     "output_type": "execute_result"
    }
   ],
   "source": [
    "genned_set[0]"
   ]
  },
  {
   "cell_type": "code",
   "execution_count": 24,
   "id": "e95392ca",
   "metadata": {},
   "outputs": [
    {
     "data": {
      "text/plain": [
       "'jpg'"
      ]
     },
     "execution_count": 24,
     "metadata": {},
     "output_type": "execute_result"
    }
   ],
   "source": [
    "df_originals['file_names'][0].split('.')[-1:][0]"
   ]
  },
  {
   "cell_type": "code",
   "execution_count": 26,
   "id": "5ed674c5",
   "metadata": {},
   "outputs": [
    {
     "name": "stderr",
     "output_type": "stream",
     "text": [
      "100%|███████████████████████████████████████████████████████████████████████████████████████████████████████████████████████████████████████████████████████████████████████████| 25/25 [00:00<00:00, 1671.28it/s]\n"
     ]
    }
   ],
   "source": [
    "### to rename each file and append 'aaaaa' to it\n",
    "filepath = ''\n",
    "filename_to = ''\n",
    "for i in tqdm(range(len(df_originals['file_names'][:len(genned_set)]))):\n",
    "    \n",
    "    #filepath = answer_path + \"/\" + i;\n",
    "    filepath = answer_path + \"/\" + df_originals['file_names'][i]\n",
    "    filename_to = answer_path + \"/aaaaa_\" + genned_set[i] + '.' + df_originals['file_names'][i].split('.')[-1:][0];\n",
    "    \n",
    "    os.rename(src = filepath, dst = filename_to)"
   ]
  },
  {
   "cell_type": "code",
   "execution_count": 27,
   "id": "eae89417",
   "metadata": {},
   "outputs": [
    {
     "data": {
      "text/plain": [
       "0      aaaaa_Adolph-Von-Menzel-The-Flute-Concert-at-S...\n",
       "1      aaaaa_Agnolo-Bronzino-Venus-Cupid-and-Time-All...\n",
       "2      aaaaa_Albert-Bierstadt-Among-the-Sierra-Nevada...\n",
       "3        aaaaa_Albert-Bierstadt-Deer-in-a-Clearing-S.jpg\n",
       "4            aaaaa_Albert-Bierstadt-Forest-Sunrise-S.jpg\n",
       "                             ...                        \n",
       "919             Yoshitomo-Nara-The-longest-night-S-2.jpg\n",
       "920          Yves-Tanguy-Indefinite-divisibility-S-2.jpg\n",
       "921      Yves-Tanguy-Multiplicatiion-of-the-Arcs-S-2.jpg\n",
       "922          Yves-Tanguy-Slowly-Toward-The-North-S-2.jpg\n",
       "923             Yves-Tanguy-The-Ribbon-of-Excess-S-2.jpg\n",
       "Name: new_file_names, Length: 924, dtype: object"
      ]
     },
     "execution_count": 27,
     "metadata": {},
     "output_type": "execute_result"
    }
   ],
   "source": [
    "## reflect changed filenames in another column for the originals dataframe\n",
    "df_originals['new_file_names'] = os.listdir(answer_path);\n",
    "df_originals['new_file_names']"
   ]
  },
  {
   "cell_type": "code",
   "execution_count": 28,
   "id": "57c91f4a",
   "metadata": {},
   "outputs": [
    {
     "data": {
      "text/plain": [
       "0     True\n",
       "1     True\n",
       "2     True\n",
       "3     True\n",
       "4     True\n",
       "5     True\n",
       "6     True\n",
       "7     True\n",
       "8     True\n",
       "9     True\n",
       "10    True\n",
       "11    True\n",
       "12    True\n",
       "13    True\n",
       "14    True\n",
       "15    True\n",
       "16    True\n",
       "17    True\n",
       "18    True\n",
       "19    True\n",
       "20    True\n",
       "21    True\n",
       "22    True\n",
       "23    True\n",
       "24    True\n",
       "dtype: bool"
      ]
     },
     "execution_count": 28,
     "metadata": {},
     "output_type": "execute_result"
    }
   ],
   "source": [
    "# check for integrity data we will use to correlate the sets\n",
    "df_originals['genned_set_name'][:(len(genned_set))] == genned_set"
   ]
  },
  {
   "cell_type": "code",
   "execution_count": 29,
   "id": "51b281f0",
   "metadata": {},
   "outputs": [
    {
     "name": "stdout",
     "output_type": "stream",
     "text": [
      "[]\n",
      "[]\n"
     ]
    }
   ],
   "source": [
    "#print (df_originals[df_originals['genned_set_name'][:(len(genned_set))] == genned_set])\n",
    "print(df_originals[:(len(genned_set))][(df_originals['genned_set_name'][:(len(genned_set))] != genned_set)]['genned_set_name'].values)\n",
    "print (genned_set[(df_originals['genned_set_name'][:(len(genned_set))] != genned_set)].values)"
   ]
  },
  {
   "cell_type": "code",
   "execution_count": 30,
   "id": "bbe1ee87",
   "metadata": {},
   "outputs": [],
   "source": [
    "### fixing incorrect values manually\n",
    "\n",
    "#df_originals['genned_set_name'][11] = df_originals['genned_set_name'][11][:-2]\n",
    "#df_originals['genned_set_name'][11]\n",
    "#genned_set\n",
    "#df_originals['genned_set_name'][21] = df_originals['genned_set_name'][21][:-6]\n",
    "#df_originals['genned_set_name'][21]\n"
   ]
  },
  {
   "cell_type": "code",
   "execution_count": 31,
   "id": "70dbbc1a",
   "metadata": {},
   "outputs": [
    {
     "name": "stdout",
     "output_type": "stream",
     "text": [
      "0     Adolph-Von-Menzel-The-Flute-Concert-at-Sanssou...\n",
      "1     Agnolo-Bronzino-Venus-Cupid-and-Time-Allegory-...\n",
      "2     Albert-Bierstadt-Among-the-Sierra-Nevada-Mount...\n",
      "3                 Albert-Bierstadt-Deer-in-a-Clearing-S\n",
      "4                     Albert-Bierstadt-Forest-Sunrise-S\n",
      "5                    Albert-Bierstadt-Rocky-Mountains-S\n",
      "6                        Albert-Bierstadt-Rustic-Mill-S\n",
      "7     Albert-Bierstadt-Staubbach-Falls-Near-Lauterbr...\n",
      "8     Albert-Charles-Lebourg-Albert-Marie-Lebourg-Ro...\n",
      "9     Albert-Charles-Lebourg-Notre-Dame-de-Paris-and...\n",
      "10    Albert-Charles-Lebourg-The-Quays-of-Dieppe-aft...\n",
      "11    Albert-Edelfelt-The-Artist+s-Son-Erik-in-his-P...\n",
      "12    Albrecht-Altdorfer-The-Battle-of-Alexander-at-...\n",
      "13            Albrecht-Durer-Christ-Among-the-Doctors-S\n",
      "14        Albrecht-Durer-Christ-as-the-Man-of-Sorrows-S\n",
      "15    Albrecht-Durer-Portrait-of-a-Young-Venetian-Wo...\n",
      "16    Albrecht-Durer-Portrait-of-a-Young-Venetian-Wo...\n",
      "17                 Albrecht-Durer-Self-portrait-at-22-S\n",
      "18    Albrecht-Durer-The-Altarpiece-of-the-Rose-Garl...\n",
      "19    Albrecht-Durer-The-Martyrdom-of-the-Ten-Thousa...\n",
      "20                          Albrecht-Durer-Young-Hare-S\n",
      "21               AlbrechtDurer-Selfportraitdetailface-S\n",
      "22                     Alexandre-Cabanel-Fallen-Angel-S\n",
      "23    Alexej-Georgewitsch-Von-Jawlensky-Mystical-Hea...\n",
      "24                Alfred-Sisley-Foggy-Morning-Voisins-S\n",
      "Name: 0, dtype: object\n"
     ]
    }
   ],
   "source": [
    "print (genned_set)"
   ]
  },
  {
   "cell_type": "code",
   "execution_count": 32,
   "id": "af65ca51",
   "metadata": {},
   "outputs": [
    {
     "data": {
      "text/plain": [
       "0     True\n",
       "1     True\n",
       "2     True\n",
       "3     True\n",
       "4     True\n",
       "5     True\n",
       "6     True\n",
       "7     True\n",
       "8     True\n",
       "9     True\n",
       "10    True\n",
       "11    True\n",
       "12    True\n",
       "13    True\n",
       "14    True\n",
       "15    True\n",
       "16    True\n",
       "17    True\n",
       "18    True\n",
       "19    True\n",
       "20    True\n",
       "21    True\n",
       "22    True\n",
       "23    True\n",
       "24    True\n",
       "dtype: bool"
      ]
     },
     "execution_count": 32,
     "metadata": {},
     "output_type": "execute_result"
    }
   ],
   "source": [
    "# re-check for integrity data we will use to correlate the sets\n",
    "df_originals['genned_set_name'][:(len(genned_set))] == genned_set"
   ]
  },
  {
   "cell_type": "code",
   "execution_count": 33,
   "id": "f2457e4e",
   "metadata": {},
   "outputs": [
    {
     "data": {
      "text/plain": [
       "0      True\n",
       "1      True\n",
       "2      True\n",
       "3      True\n",
       "4      True\n",
       "5      True\n",
       "6      True\n",
       "7      True\n",
       "8      True\n",
       "9      True\n",
       "10     True\n",
       "11     True\n",
       "12     True\n",
       "13     True\n",
       "14     True\n",
       "15    False\n",
       "16    False\n",
       "17     True\n",
       "18     True\n",
       "19     True\n",
       "20     True\n",
       "21     True\n",
       "22     True\n",
       "23     True\n",
       "24     True\n",
       "dtype: bool"
      ]
     },
     "execution_count": 33,
     "metadata": {},
     "output_type": "execute_result"
    }
   ],
   "source": [
    "### Names of folders we will be copying each original-renamed file to\n",
    "pd.Series(os.listdir(to_export))[:len(genned_set)] == genned_set[:len(os.listdir(to_export))]"
   ]
  },
  {
   "cell_type": "code",
   "execution_count": 34,
   "id": "4ef28ef4",
   "metadata": {},
   "outputs": [
    {
     "name": "stdout",
     "output_type": "stream",
     "text": [
      "Albrecht-Durer-Portrait-of-a-Young-Venetian-Woman-S+002\n",
      "Albrecht-Durer-Portrait-of-a-Young-Venetian-Woman-S\n",
      "\n",
      "Albrecht-Durer-Portrait-of-a-Young-Venetian-Woman-S\n",
      "Albrecht-Durer-Portrait-of-a-Young-Venetian-Woman-S+002\n",
      "\n",
      "Albrecht-Durer-Self-portrait-at-22-S\n",
      "Albrecht-Durer-Self-portrait-at-22-S\n",
      "\n"
     ]
    }
   ],
   "source": [
    "print(genned_set[15])\n",
    "print(os.listdir(to_export)[15] + '\\n')\n",
    "\n",
    "print(genned_set[16])\n",
    "print(os.listdir(to_export)[16] + '\\n')\n",
    "\n",
    "print(genned_set[17])\n",
    "print(os.listdir(to_export)[17] + '\\n')"
   ]
  },
  {
   "cell_type": "code",
   "execution_count": 35,
   "id": "8a52c1b7",
   "metadata": {},
   "outputs": [
    {
     "name": "stdout",
     "output_type": "stream",
     "text": [
      "Albrecht-Durer-Portrait-of-a-Young-Venetian-Woman-S+002.002_Books_9.jpg\n",
      "Albrecht-Durer-Portrait-of-a-Young-Venetian-Woman-S+002.002 \n",
      "\n",
      "Albrecht-Durer-Portrait-of-a-Young-Venetian-Woman-S+002.002_Books_9.jpg\n",
      "Albrecht-Durer-Portrait-of-a-Young-Venetian-Woman-S+002 \n",
      "\n"
     ]
    }
   ],
   "source": [
    "df_genned['copy_to'] = df_genned['file_names'].apply(lambda x: (x.split('_')[:-2])[0])\n",
    "print(df_genned['file_names'][66*15])\n",
    "print(df_genned['copy_to'][66*15], '\\n')\n",
    "\n",
    "df_genned['copy_to'] = df_genned['copy_to'].apply(lambda x: '-'.join(x.split('-')[:]) if (len(x.split('.')) < 2) else '-'.join(x.split('.')[:-1]))\n",
    "print(df_genned['file_names'][66*15])\n",
    "print(df_genned['copy_to'][66*15], '\\n')\n"
   ]
  },
  {
   "cell_type": "code",
   "execution_count": 103,
   "id": "dfbd209a",
   "metadata": {},
   "outputs": [
    {
     "data": {
      "text/plain": [
       "['Adolph-Von-Menzel-The',\n",
       " 'Agnolo-Bronzino-Venus-Cupid',\n",
       " 'Albert-Bierstadt-Among-the',\n",
       " 'Albert-Bierstadt-Deer-in',\n",
       " 'Albert-Bierstadt-Forest-Sunrise',\n",
       " 'Albert-Bierstadt-Rocky-Mountains',\n",
       " 'Albert-Bierstadt-Rustic-Mill',\n",
       " 'Albert-Bierstadt-Staubbach-Falls',\n",
       " 'Albert-Charles-Lebourg-Albert',\n",
       " 'Albert-Charles-Lebourg-Notre',\n",
       " 'Albert-Charles-Lebourg-The',\n",
       " 'Albert-Edelfelt-The-Artist',\n",
       " 'Albrecht-Altdorfer-The-Battle',\n",
       " 'Albrecht-Durer-Christ-Among',\n",
       " 'Albrecht-Durer-Christ-as',\n",
       " 'Albrecht-Durer-Portrait-of',\n",
       " 'Albrecht-Durer-Self-portrait',\n",
       " 'Albrecht-Durer-The-Altarpiece',\n",
       " 'Albrecht-Durer-The-Martyrdom',\n",
       " 'Albrecht-Durer-Young-Hare',\n",
       " 'AlbrechtDurer-Selfportraitdetailface-S',\n",
       " 'Alexandre-Cabanel-Fallen-Angel',\n",
       " 'Alexej-Georgewitsch-Von-Jawlensky',\n",
       " 'Alfred-Sisley-Foggy-Morning']"
      ]
     },
     "execution_count": 103,
     "metadata": {},
     "output_type": "execute_result"
    }
   ],
   "source": [
    "### move each file to its corresponding complete set folder generated in the previous subsection\n",
    "\n",
    "os.listdir()\n",
    "\n",
    "filepath = ''\n",
    "#filename_to = ''\n",
    "#for i in genned_set:\n",
    "    \n",
    "    "
   ]
  },
  {
   "cell_type": "markdown",
   "id": "7805fded",
   "metadata": {},
   "source": [
    "### Copy all generated files into respective file directory in buffer_asset folder"
   ]
  },
  {
   "cell_type": "code",
   "execution_count": 39,
   "id": "ccedc95a",
   "metadata": {},
   "outputs": [
    {
     "name": "stdout",
     "output_type": "stream",
     "text": [
      "Adolph-Von-Menzel-The-Flute-Concert-at-Sanssouci-sketch--S\n",
      "Adolph-Von-Menzel-The-Flute-Concert-at-Sanssouci-sketch--S\n",
      "Adolph-Von-Menzel-The-Flute-Concert-at-Sanssouci-sketch--S \n",
      "\n",
      "Agnolo-Bronzino-Venus-Cupid-and-Time-Allegory-of-Lust--S\n",
      "Agnolo-Bronzino-Venus-Cupid-and-Time-Allegory-of-Lust--S\n",
      "Agnolo-Bronzino-Venus-Cupid-and-Time-Allegory-of-Lust--S \n",
      "\n",
      "Albrecht-Durer-Portrait-of-a-Young-Venetian-Woman-S+002\n",
      "Albrecht-Durer-Portrait-of-a-Young-Venetian-Woman-S+002\n",
      "Albrecht-Durer-Portrait-of-a-Young-Venetian-Woman-S+002 \n",
      "\n",
      "Albrecht-Durer-Portrait-of-a-Young-Venetian-Woman-S\n",
      "Albrecht-Durer-Portrait-of-a-Young-Venetian-Woman-S\n",
      "Albrecht-Durer-Portrait-of-a-Young-Venetian-Woman-S \n",
      "\n"
     ]
    }
   ],
   "source": [
    "### checking for integrity of dataframe data\n",
    "print(df_originals['genned_set_name'][0])\n",
    "print (df_genned['copy_to'][0 * 66])\n",
    "print(os.listdir(to_export)[0], '\\n')\n",
    "\n",
    "\n",
    "print(df_originals['genned_set_name'][1])\n",
    "print (df_genned['copy_to'][1 * 66]) # because the 66th image is the first of the next set for the initial few\n",
    "print(os.listdir(to_export)[1], '\\n')\n",
    "\n",
    "# for special cases:\n",
    "print(df_originals['genned_set_name'][15])\n",
    "print (df_genned['copy_to'][15 * 66]) # because the 66th image is the first of the next set for the initial few\n",
    "print(os.listdir(to_export)[16] ,'\\n')\n",
    "\n",
    "print(df_originals['genned_set_name'][16])\n",
    "print (df_genned['copy_to'][16 * 66]) # because the 66th image is the first of the next set for the initial few\n",
    "print(os.listdir(to_export)[15] ,'\\n')\n",
    "\n"
   ]
  },
  {
   "cell_type": "markdown",
   "id": "90d7e8d8",
   "metadata": {},
   "source": [
    "<strong>NOTE: </strong> Since the os directory list has the 2 values (15 & 16) swapped, let's just swap them for now. \n",
    "<br><br>\n",
    "<strong> BE MINDFUL OF THIS ERROR IN THE FUTURE!!! IT MAY OCCUR FOR DIFFERENT FILES TOO!</strong>"
   ]
  },
  {
   "cell_type": "code",
   "execution_count": 80,
   "id": "1961d14e",
   "metadata": {},
   "outputs": [
    {
     "data": {
      "text/plain": [
       "'Albrecht-Durer-Portrait-of-a-Young-Venetian-Woman-S+002'"
      ]
     },
     "execution_count": 80,
     "metadata": {},
     "output_type": "execute_result"
    }
   ],
   "source": [
    "df_asset_folders = pd.DataFrame(os.listdir(to_export));\n",
    "df_asset_folders.columns = ['folders']\n",
    "df_asset_folders['folders'][16]\n",
    "\n",
    "## swapping 15 and 16 to maintain consistency\n",
    "temp = df_asset_folders['folders'][15]\n",
    "df_asset_folders['folders'][15] = df_asset_folders['folders'][16]\n",
    "df_asset_folders['folders'][16] = temp\n",
    "\n",
    "df_asset_folders['folders'][15]"
   ]
  },
  {
   "cell_type": "code",
   "execution_count": 81,
   "id": "c481c9de",
   "metadata": {},
   "outputs": [
    {
     "name": "stdout",
     "output_type": "stream",
     "text": [
      "Albrecht-Durer-Portrait-of-a-Young-Venetian-Woman-S+002\n",
      "Albrecht-Durer-Portrait-of-a-Young-Venetian-Woman-S+002\n",
      "Albrecht-Durer-Portrait-of-a-Young-Venetian-Woman-S+002 \n",
      "\n",
      "Albrecht-Durer-Portrait-of-a-Young-Venetian-Woman-S\n",
      "Albrecht-Durer-Portrait-of-a-Young-Venetian-Woman-S\n",
      "Albrecht-Durer-Portrait-of-a-Young-Venetian-Woman-S \n",
      "\n"
     ]
    }
   ],
   "source": [
    "# for special cases:\n",
    "print(df_originals['genned_set_name'][15])\n",
    "print (df_genned['copy_to'][15 * 66]) # because the 66th image is the first of the next set for the initial few\n",
    "print(os.listdir(to_export)[16] ,'\\n')\n",
    "\n",
    "print(df_originals['genned_set_name'][16])\n",
    "print (df_genned['copy_to'][16 * 66]) # because the 66th image is the first of the next set for the initial few\n",
    "print(os.listdir(to_export)[15] ,'\\n')\n",
    "\n"
   ]
  },
  {
   "cell_type": "code",
   "execution_count": 42,
   "id": "4ea563dc",
   "metadata": {},
   "outputs": [
    {
     "name": "stdout",
     "output_type": "stream",
     "text": [
      "Copying from:  ./processed/\n",
      "Copying to:  ./Assets_to_import/level_assets/ \n",
      "\n"
     ]
    },
    {
     "name": "stderr",
     "output_type": "stream",
     "text": [
      "100%|█████████████████████████████████████████████████████████████████████████████████████████████████████████████████████████████████████████████████████████████████████████| 1589/1589 [00:20<00:00, 77.29it/s]\n"
     ]
    }
   ],
   "source": [
    "# copying generated files into respective folders\n",
    "\n",
    "print ('Copying from: ', genned_images)\n",
    "print ('Copying to: ', to_export, '\\n')\n",
    "\n",
    "path_from = ''\n",
    "path_to = ''\n",
    "for i in tqdm(df_genned.values):\n",
    "    #print(i)\n",
    "    #print (genned_images)\n",
    "    #print (to_export)\n",
    "    path_from = genned_images + i[0]\n",
    "    path_to = to_export + i[1] + '/' + i[0]\n",
    "    shutil.copyfile(src = path_from, dst= path_to)"
   ]
  },
  {
   "cell_type": "markdown",
   "id": "28cf7f66",
   "metadata": {},
   "source": [
    "### Copy all original-renamed files into respective file directory in buffer_asset folder"
   ]
  },
  {
   "cell_type": "code",
   "execution_count": 43,
   "id": "dc1fe4de",
   "metadata": {},
   "outputs": [
    {
     "name": "stdout",
     "output_type": "stream",
     "text": [
      "Copying from:  ./famous-art-512-sq/\n",
      "Copying to:  ./Assets_to_import/level_assets/ \n",
      "\n",
      "Copying for the first  25  sets.\n"
     ]
    },
    {
     "name": "stderr",
     "output_type": "stream",
     "text": [
      "100%|████████████████████████████████████████████████████████████████████████████████████████████████████████████████████████████████████████████████████████████████████████████| 25/25 [00:00<00:00, 111.40it/s]\n"
     ]
    }
   ],
   "source": [
    "# copying original-renamed files into respective folders\n",
    "\n",
    "print ('Copying from: ', answer_path)\n",
    "print ('Copying to: ', to_export, '\\n')\n",
    "\n",
    "print('Copying for the first ', len(df_genned['copy_to'].unique()), ' sets.')\n",
    "\n",
    "path_from = ''\n",
    "path_to = ''\n",
    "for i in tqdm(df_originals.values[:len(df_genned['copy_to'].unique())]):\n",
    "    #print(i)\n",
    "    #print (answer_path)\n",
    "    #print (to_export)\n",
    "    path_from = answer_path + i[2]\n",
    "    path_to = to_export + i[1] + '/' + i[2]\n",
    "    shutil.copyfile(src = path_from, dst= path_to)"
   ]
  },
  {
   "cell_type": "markdown",
   "id": "d80f2366",
   "metadata": {},
   "source": [
    "## Generate Json File obj\n",
    "&nbsp; This is based on our old json structure"
   ]
  },
  {
   "cell_type": "code",
   "execution_count": 82,
   "id": "e98fbe73",
   "metadata": {},
   "outputs": [],
   "source": [
    "#np.ones(len(df_asset_folders))\n",
    "df_asset_folders\n",
    "df_asset_folders.columns = ['name']\n",
    "df_asset_folders['source'] = df_asset_folders['name'].apply(lambda x: 'level_assets/' + x)\n",
    "df_asset_folders['answer'] = np.ones(len(df_asset_folders))\n",
    "#df_asset_folders['answer_filename'] = genned_set.apply(lambda x: \"/aaaaa_\" + x + '.' + df_originals['file_names'][0].split('.')[-1:][0])\n",
    "df_asset_folders['answer_filename'] = df_originals['genned_set_name'].apply(lambda x: \"aaaaa_\" + x + '.jpg')\n"
   ]
  },
  {
   "cell_type": "code",
   "execution_count": 83,
   "id": "cbb40021",
   "metadata": {},
   "outputs": [],
   "source": [
    "df_asset_folders[\"answer\"] = df_asset_folders[\"answer\"].apply(lambda x: str(int(x)))"
   ]
  },
  {
   "cell_type": "code",
   "execution_count": 84,
   "id": "528e9e0a",
   "metadata": {},
   "outputs": [
    {
     "data": {
      "text/html": [
       "<div>\n",
       "<style scoped>\n",
       "    .dataframe tbody tr th:only-of-type {\n",
       "        vertical-align: middle;\n",
       "    }\n",
       "\n",
       "    .dataframe tbody tr th {\n",
       "        vertical-align: top;\n",
       "    }\n",
       "\n",
       "    .dataframe thead th {\n",
       "        text-align: right;\n",
       "    }\n",
       "</style>\n",
       "<table border=\"1\" class=\"dataframe\">\n",
       "  <thead>\n",
       "    <tr style=\"text-align: right;\">\n",
       "      <th></th>\n",
       "      <th>name</th>\n",
       "      <th>source</th>\n",
       "      <th>answer</th>\n",
       "      <th>answer_filename</th>\n",
       "    </tr>\n",
       "  </thead>\n",
       "  <tbody>\n",
       "    <tr>\n",
       "      <th>0</th>\n",
       "      <td>Adolph-Von-Menzel-The-Flute-Concert-at-Sanssou...</td>\n",
       "      <td>level_assets/Adolph-Von-Menzel-The-Flute-Conce...</td>\n",
       "      <td>1</td>\n",
       "      <td>aaaaa_Adolph-Von-Menzel-The-Flute-Concert-at-S...</td>\n",
       "    </tr>\n",
       "    <tr>\n",
       "      <th>1</th>\n",
       "      <td>Agnolo-Bronzino-Venus-Cupid-and-Time-Allegory-...</td>\n",
       "      <td>level_assets/Agnolo-Bronzino-Venus-Cupid-and-T...</td>\n",
       "      <td>1</td>\n",
       "      <td>aaaaa_Agnolo-Bronzino-Venus-Cupid-and-Time-All...</td>\n",
       "    </tr>\n",
       "    <tr>\n",
       "      <th>2</th>\n",
       "      <td>Albert-Bierstadt-Among-the-Sierra-Nevada-Mount...</td>\n",
       "      <td>level_assets/Albert-Bierstadt-Among-the-Sierra...</td>\n",
       "      <td>1</td>\n",
       "      <td>aaaaa_Albert-Bierstadt-Among-the-Sierra-Nevada...</td>\n",
       "    </tr>\n",
       "    <tr>\n",
       "      <th>3</th>\n",
       "      <td>Albert-Bierstadt-Deer-in-a-Clearing-S</td>\n",
       "      <td>level_assets/Albert-Bierstadt-Deer-in-a-Cleari...</td>\n",
       "      <td>1</td>\n",
       "      <td>aaaaa_Albert-Bierstadt-Deer-in-a-Clearing-S.jpg</td>\n",
       "    </tr>\n",
       "    <tr>\n",
       "      <th>4</th>\n",
       "      <td>Albert-Bierstadt-Forest-Sunrise-S</td>\n",
       "      <td>level_assets/Albert-Bierstadt-Forest-Sunrise-S</td>\n",
       "      <td>1</td>\n",
       "      <td>aaaaa_Albert-Bierstadt-Forest-Sunrise-S.jpg</td>\n",
       "    </tr>\n",
       "  </tbody>\n",
       "</table>\n",
       "</div>"
      ],
      "text/plain": [
       "                                                name  \\\n",
       "0  Adolph-Von-Menzel-The-Flute-Concert-at-Sanssou...   \n",
       "1  Agnolo-Bronzino-Venus-Cupid-and-Time-Allegory-...   \n",
       "2  Albert-Bierstadt-Among-the-Sierra-Nevada-Mount...   \n",
       "3              Albert-Bierstadt-Deer-in-a-Clearing-S   \n",
       "4                  Albert-Bierstadt-Forest-Sunrise-S   \n",
       "\n",
       "                                              source answer  \\\n",
       "0  level_assets/Adolph-Von-Menzel-The-Flute-Conce...      1   \n",
       "1  level_assets/Agnolo-Bronzino-Venus-Cupid-and-T...      1   \n",
       "2  level_assets/Albert-Bierstadt-Among-the-Sierra...      1   \n",
       "3  level_assets/Albert-Bierstadt-Deer-in-a-Cleari...      1   \n",
       "4     level_assets/Albert-Bierstadt-Forest-Sunrise-S      1   \n",
       "\n",
       "                                     answer_filename  \n",
       "0  aaaaa_Adolph-Von-Menzel-The-Flute-Concert-at-S...  \n",
       "1  aaaaa_Agnolo-Bronzino-Venus-Cupid-and-Time-All...  \n",
       "2  aaaaa_Albert-Bierstadt-Among-the-Sierra-Nevada...  \n",
       "3    aaaaa_Albert-Bierstadt-Deer-in-a-Clearing-S.jpg  \n",
       "4        aaaaa_Albert-Bierstadt-Forest-Sunrise-S.jpg  "
      ]
     },
     "execution_count": 84,
     "metadata": {},
     "output_type": "execute_result"
    }
   ],
   "source": [
    "df_asset_folders.head()"
   ]
  },
  {
   "cell_type": "code",
   "execution_count": 87,
   "id": "e47a79c2",
   "metadata": {},
   "outputs": [],
   "source": [
    "json_obj = df_asset_folders.transpose()\n",
    "#json_obj.reset_index()"
   ]
  },
  {
   "cell_type": "code",
   "execution_count": 88,
   "id": "56c7c691",
   "metadata": {},
   "outputs": [
    {
     "ename": "FileNotFoundError",
     "evalue": "[Errno 2] No such file or directory: './Assets_to_import/leveldir/levelDirectory.csv'",
     "output_type": "error",
     "traceback": [
      "\u001b[1;31m---------------------------------------------------------------------------\u001b[0m",
      "\u001b[1;31mFileNotFoundError\u001b[0m                         Traceback (most recent call last)",
      "Input \u001b[1;32mIn [88]\u001b[0m, in \u001b[0;36m<cell line: 2>\u001b[1;34m()\u001b[0m\n\u001b[0;32m      1\u001b[0m \u001b[38;5;66;03m## saving all processed data so far for easy pickup\u001b[39;00m\n\u001b[1;32m----> 2\u001b[0m \u001b[43mdf_asset_folders\u001b[49m\u001b[38;5;241;43m.\u001b[39;49m\u001b[43mto_csv\u001b[49m\u001b[43m(\u001b[49m\u001b[38;5;124;43m'\u001b[39;49m\u001b[38;5;124;43m./Assets_to_import/leveldir/levelDirectory.csv\u001b[39;49m\u001b[38;5;124;43m'\u001b[39;49m\u001b[43m)\u001b[49m\n\u001b[0;32m      3\u001b[0m df_originals\u001b[38;5;241m.\u001b[39mto_csv(\u001b[38;5;124m'\u001b[39m\u001b[38;5;124mdf_originals.csv\u001b[39m\u001b[38;5;124m'\u001b[39m)\n\u001b[0;32m      4\u001b[0m df_genned\u001b[38;5;241m.\u001b[39mto_csv(\u001b[38;5;124m'\u001b[39m\u001b[38;5;124mdf_genned.csv\u001b[39m\u001b[38;5;124m'\u001b[39m)\n",
      "File \u001b[1;32m~\\anaconda3\\lib\\site-packages\\pandas\\core\\generic.py:3466\u001b[0m, in \u001b[0;36mNDFrame.to_csv\u001b[1;34m(self, path_or_buf, sep, na_rep, float_format, columns, header, index, index_label, mode, encoding, compression, quoting, quotechar, line_terminator, chunksize, date_format, doublequote, escapechar, decimal, errors, storage_options)\u001b[0m\n\u001b[0;32m   3455\u001b[0m df \u001b[38;5;241m=\u001b[39m \u001b[38;5;28mself\u001b[39m \u001b[38;5;28;01mif\u001b[39;00m \u001b[38;5;28misinstance\u001b[39m(\u001b[38;5;28mself\u001b[39m, ABCDataFrame) \u001b[38;5;28;01melse\u001b[39;00m \u001b[38;5;28mself\u001b[39m\u001b[38;5;241m.\u001b[39mto_frame()\n\u001b[0;32m   3457\u001b[0m formatter \u001b[38;5;241m=\u001b[39m DataFrameFormatter(\n\u001b[0;32m   3458\u001b[0m     frame\u001b[38;5;241m=\u001b[39mdf,\n\u001b[0;32m   3459\u001b[0m     header\u001b[38;5;241m=\u001b[39mheader,\n\u001b[1;32m   (...)\u001b[0m\n\u001b[0;32m   3463\u001b[0m     decimal\u001b[38;5;241m=\u001b[39mdecimal,\n\u001b[0;32m   3464\u001b[0m )\n\u001b[1;32m-> 3466\u001b[0m \u001b[38;5;28;01mreturn\u001b[39;00m \u001b[43mDataFrameRenderer\u001b[49m\u001b[43m(\u001b[49m\u001b[43mformatter\u001b[49m\u001b[43m)\u001b[49m\u001b[38;5;241;43m.\u001b[39;49m\u001b[43mto_csv\u001b[49m\u001b[43m(\u001b[49m\n\u001b[0;32m   3467\u001b[0m \u001b[43m    \u001b[49m\u001b[43mpath_or_buf\u001b[49m\u001b[43m,\u001b[49m\n\u001b[0;32m   3468\u001b[0m \u001b[43m    \u001b[49m\u001b[43mline_terminator\u001b[49m\u001b[38;5;241;43m=\u001b[39;49m\u001b[43mline_terminator\u001b[49m\u001b[43m,\u001b[49m\n\u001b[0;32m   3469\u001b[0m \u001b[43m    \u001b[49m\u001b[43msep\u001b[49m\u001b[38;5;241;43m=\u001b[39;49m\u001b[43msep\u001b[49m\u001b[43m,\u001b[49m\n\u001b[0;32m   3470\u001b[0m \u001b[43m    \u001b[49m\u001b[43mencoding\u001b[49m\u001b[38;5;241;43m=\u001b[39;49m\u001b[43mencoding\u001b[49m\u001b[43m,\u001b[49m\n\u001b[0;32m   3471\u001b[0m \u001b[43m    \u001b[49m\u001b[43merrors\u001b[49m\u001b[38;5;241;43m=\u001b[39;49m\u001b[43merrors\u001b[49m\u001b[43m,\u001b[49m\n\u001b[0;32m   3472\u001b[0m \u001b[43m    \u001b[49m\u001b[43mcompression\u001b[49m\u001b[38;5;241;43m=\u001b[39;49m\u001b[43mcompression\u001b[49m\u001b[43m,\u001b[49m\n\u001b[0;32m   3473\u001b[0m \u001b[43m    \u001b[49m\u001b[43mquoting\u001b[49m\u001b[38;5;241;43m=\u001b[39;49m\u001b[43mquoting\u001b[49m\u001b[43m,\u001b[49m\n\u001b[0;32m   3474\u001b[0m \u001b[43m    \u001b[49m\u001b[43mcolumns\u001b[49m\u001b[38;5;241;43m=\u001b[39;49m\u001b[43mcolumns\u001b[49m\u001b[43m,\u001b[49m\n\u001b[0;32m   3475\u001b[0m \u001b[43m    \u001b[49m\u001b[43mindex_label\u001b[49m\u001b[38;5;241;43m=\u001b[39;49m\u001b[43mindex_label\u001b[49m\u001b[43m,\u001b[49m\n\u001b[0;32m   3476\u001b[0m \u001b[43m    \u001b[49m\u001b[43mmode\u001b[49m\u001b[38;5;241;43m=\u001b[39;49m\u001b[43mmode\u001b[49m\u001b[43m,\u001b[49m\n\u001b[0;32m   3477\u001b[0m \u001b[43m    \u001b[49m\u001b[43mchunksize\u001b[49m\u001b[38;5;241;43m=\u001b[39;49m\u001b[43mchunksize\u001b[49m\u001b[43m,\u001b[49m\n\u001b[0;32m   3478\u001b[0m \u001b[43m    \u001b[49m\u001b[43mquotechar\u001b[49m\u001b[38;5;241;43m=\u001b[39;49m\u001b[43mquotechar\u001b[49m\u001b[43m,\u001b[49m\n\u001b[0;32m   3479\u001b[0m \u001b[43m    \u001b[49m\u001b[43mdate_format\u001b[49m\u001b[38;5;241;43m=\u001b[39;49m\u001b[43mdate_format\u001b[49m\u001b[43m,\u001b[49m\n\u001b[0;32m   3480\u001b[0m \u001b[43m    \u001b[49m\u001b[43mdoublequote\u001b[49m\u001b[38;5;241;43m=\u001b[39;49m\u001b[43mdoublequote\u001b[49m\u001b[43m,\u001b[49m\n\u001b[0;32m   3481\u001b[0m \u001b[43m    \u001b[49m\u001b[43mescapechar\u001b[49m\u001b[38;5;241;43m=\u001b[39;49m\u001b[43mescapechar\u001b[49m\u001b[43m,\u001b[49m\n\u001b[0;32m   3482\u001b[0m \u001b[43m    \u001b[49m\u001b[43mstorage_options\u001b[49m\u001b[38;5;241;43m=\u001b[39;49m\u001b[43mstorage_options\u001b[49m\u001b[43m,\u001b[49m\n\u001b[0;32m   3483\u001b[0m \u001b[43m\u001b[49m\u001b[43m)\u001b[49m\n",
      "File \u001b[1;32m~\\anaconda3\\lib\\site-packages\\pandas\\io\\formats\\format.py:1105\u001b[0m, in \u001b[0;36mDataFrameRenderer.to_csv\u001b[1;34m(self, path_or_buf, encoding, sep, columns, index_label, mode, compression, quoting, quotechar, line_terminator, chunksize, date_format, doublequote, escapechar, errors, storage_options)\u001b[0m\n\u001b[0;32m   1084\u001b[0m     created_buffer \u001b[38;5;241m=\u001b[39m \u001b[38;5;28;01mFalse\u001b[39;00m\n\u001b[0;32m   1086\u001b[0m csv_formatter \u001b[38;5;241m=\u001b[39m CSVFormatter(\n\u001b[0;32m   1087\u001b[0m     path_or_buf\u001b[38;5;241m=\u001b[39mpath_or_buf,\n\u001b[0;32m   1088\u001b[0m     line_terminator\u001b[38;5;241m=\u001b[39mline_terminator,\n\u001b[1;32m   (...)\u001b[0m\n\u001b[0;32m   1103\u001b[0m     formatter\u001b[38;5;241m=\u001b[39m\u001b[38;5;28mself\u001b[39m\u001b[38;5;241m.\u001b[39mfmt,\n\u001b[0;32m   1104\u001b[0m )\n\u001b[1;32m-> 1105\u001b[0m \u001b[43mcsv_formatter\u001b[49m\u001b[38;5;241;43m.\u001b[39;49m\u001b[43msave\u001b[49m\u001b[43m(\u001b[49m\u001b[43m)\u001b[49m\n\u001b[0;32m   1107\u001b[0m \u001b[38;5;28;01mif\u001b[39;00m created_buffer:\n\u001b[0;32m   1108\u001b[0m     \u001b[38;5;28;01massert\u001b[39;00m \u001b[38;5;28misinstance\u001b[39m(path_or_buf, StringIO)\n",
      "File \u001b[1;32m~\\anaconda3\\lib\\site-packages\\pandas\\io\\formats\\csvs.py:237\u001b[0m, in \u001b[0;36mCSVFormatter.save\u001b[1;34m(self)\u001b[0m\n\u001b[0;32m    233\u001b[0m \u001b[38;5;124;03m\"\"\"\u001b[39;00m\n\u001b[0;32m    234\u001b[0m \u001b[38;5;124;03mCreate the writer & save.\u001b[39;00m\n\u001b[0;32m    235\u001b[0m \u001b[38;5;124;03m\"\"\"\u001b[39;00m\n\u001b[0;32m    236\u001b[0m \u001b[38;5;66;03m# apply compression and byte/text conversion\u001b[39;00m\n\u001b[1;32m--> 237\u001b[0m \u001b[38;5;28;01mwith\u001b[39;00m \u001b[43mget_handle\u001b[49m\u001b[43m(\u001b[49m\n\u001b[0;32m    238\u001b[0m \u001b[43m    \u001b[49m\u001b[38;5;28;43mself\u001b[39;49m\u001b[38;5;241;43m.\u001b[39;49m\u001b[43mfilepath_or_buffer\u001b[49m\u001b[43m,\u001b[49m\n\u001b[0;32m    239\u001b[0m \u001b[43m    \u001b[49m\u001b[38;5;28;43mself\u001b[39;49m\u001b[38;5;241;43m.\u001b[39;49m\u001b[43mmode\u001b[49m\u001b[43m,\u001b[49m\n\u001b[0;32m    240\u001b[0m \u001b[43m    \u001b[49m\u001b[43mencoding\u001b[49m\u001b[38;5;241;43m=\u001b[39;49m\u001b[38;5;28;43mself\u001b[39;49m\u001b[38;5;241;43m.\u001b[39;49m\u001b[43mencoding\u001b[49m\u001b[43m,\u001b[49m\n\u001b[0;32m    241\u001b[0m \u001b[43m    \u001b[49m\u001b[43merrors\u001b[49m\u001b[38;5;241;43m=\u001b[39;49m\u001b[38;5;28;43mself\u001b[39;49m\u001b[38;5;241;43m.\u001b[39;49m\u001b[43merrors\u001b[49m\u001b[43m,\u001b[49m\n\u001b[0;32m    242\u001b[0m \u001b[43m    \u001b[49m\u001b[43mcompression\u001b[49m\u001b[38;5;241;43m=\u001b[39;49m\u001b[38;5;28;43mself\u001b[39;49m\u001b[38;5;241;43m.\u001b[39;49m\u001b[43mcompression\u001b[49m\u001b[43m,\u001b[49m\n\u001b[0;32m    243\u001b[0m \u001b[43m    \u001b[49m\u001b[43mstorage_options\u001b[49m\u001b[38;5;241;43m=\u001b[39;49m\u001b[38;5;28;43mself\u001b[39;49m\u001b[38;5;241;43m.\u001b[39;49m\u001b[43mstorage_options\u001b[49m\u001b[43m,\u001b[49m\n\u001b[0;32m    244\u001b[0m \u001b[43m\u001b[49m\u001b[43m)\u001b[49m \u001b[38;5;28;01mas\u001b[39;00m handles:\n\u001b[0;32m    245\u001b[0m \n\u001b[0;32m    246\u001b[0m     \u001b[38;5;66;03m# Note: self.encoding is irrelevant here\u001b[39;00m\n\u001b[0;32m    247\u001b[0m     \u001b[38;5;28mself\u001b[39m\u001b[38;5;241m.\u001b[39mwriter \u001b[38;5;241m=\u001b[39m csvlib\u001b[38;5;241m.\u001b[39mwriter(\n\u001b[0;32m    248\u001b[0m         handles\u001b[38;5;241m.\u001b[39mhandle,  \u001b[38;5;66;03m# type: ignore[arg-type]\u001b[39;00m\n\u001b[0;32m    249\u001b[0m         lineterminator\u001b[38;5;241m=\u001b[39m\u001b[38;5;28mself\u001b[39m\u001b[38;5;241m.\u001b[39mline_terminator,\n\u001b[1;32m   (...)\u001b[0m\n\u001b[0;32m    254\u001b[0m         quotechar\u001b[38;5;241m=\u001b[39m\u001b[38;5;28mself\u001b[39m\u001b[38;5;241m.\u001b[39mquotechar,\n\u001b[0;32m    255\u001b[0m     )\n\u001b[0;32m    257\u001b[0m     \u001b[38;5;28mself\u001b[39m\u001b[38;5;241m.\u001b[39m_save()\n",
      "File \u001b[1;32m~\\anaconda3\\lib\\site-packages\\pandas\\io\\common.py:702\u001b[0m, in \u001b[0;36mget_handle\u001b[1;34m(path_or_buf, mode, encoding, compression, memory_map, is_text, errors, storage_options)\u001b[0m\n\u001b[0;32m    697\u001b[0m \u001b[38;5;28;01melif\u001b[39;00m \u001b[38;5;28misinstance\u001b[39m(handle, \u001b[38;5;28mstr\u001b[39m):\n\u001b[0;32m    698\u001b[0m     \u001b[38;5;66;03m# Check whether the filename is to be opened in binary mode.\u001b[39;00m\n\u001b[0;32m    699\u001b[0m     \u001b[38;5;66;03m# Binary mode does not support 'encoding' and 'newline'.\u001b[39;00m\n\u001b[0;32m    700\u001b[0m     \u001b[38;5;28;01mif\u001b[39;00m ioargs\u001b[38;5;241m.\u001b[39mencoding \u001b[38;5;129;01mand\u001b[39;00m \u001b[38;5;124m\"\u001b[39m\u001b[38;5;124mb\u001b[39m\u001b[38;5;124m\"\u001b[39m \u001b[38;5;129;01mnot\u001b[39;00m \u001b[38;5;129;01min\u001b[39;00m ioargs\u001b[38;5;241m.\u001b[39mmode:\n\u001b[0;32m    701\u001b[0m         \u001b[38;5;66;03m# Encoding\u001b[39;00m\n\u001b[1;32m--> 702\u001b[0m         handle \u001b[38;5;241m=\u001b[39m \u001b[38;5;28;43mopen\u001b[39;49m\u001b[43m(\u001b[49m\n\u001b[0;32m    703\u001b[0m \u001b[43m            \u001b[49m\u001b[43mhandle\u001b[49m\u001b[43m,\u001b[49m\n\u001b[0;32m    704\u001b[0m \u001b[43m            \u001b[49m\u001b[43mioargs\u001b[49m\u001b[38;5;241;43m.\u001b[39;49m\u001b[43mmode\u001b[49m\u001b[43m,\u001b[49m\n\u001b[0;32m    705\u001b[0m \u001b[43m            \u001b[49m\u001b[43mencoding\u001b[49m\u001b[38;5;241;43m=\u001b[39;49m\u001b[43mioargs\u001b[49m\u001b[38;5;241;43m.\u001b[39;49m\u001b[43mencoding\u001b[49m\u001b[43m,\u001b[49m\n\u001b[0;32m    706\u001b[0m \u001b[43m            \u001b[49m\u001b[43merrors\u001b[49m\u001b[38;5;241;43m=\u001b[39;49m\u001b[43merrors\u001b[49m\u001b[43m,\u001b[49m\n\u001b[0;32m    707\u001b[0m \u001b[43m            \u001b[49m\u001b[43mnewline\u001b[49m\u001b[38;5;241;43m=\u001b[39;49m\u001b[38;5;124;43m\"\u001b[39;49m\u001b[38;5;124;43m\"\u001b[39;49m\u001b[43m,\u001b[49m\n\u001b[0;32m    708\u001b[0m \u001b[43m        \u001b[49m\u001b[43m)\u001b[49m\n\u001b[0;32m    709\u001b[0m     \u001b[38;5;28;01melse\u001b[39;00m:\n\u001b[0;32m    710\u001b[0m         \u001b[38;5;66;03m# Binary mode\u001b[39;00m\n\u001b[0;32m    711\u001b[0m         handle \u001b[38;5;241m=\u001b[39m \u001b[38;5;28mopen\u001b[39m(handle, ioargs\u001b[38;5;241m.\u001b[39mmode)\n",
      "\u001b[1;31mFileNotFoundError\u001b[0m: [Errno 2] No such file or directory: './Assets_to_import/leveldir/levelDirectory.csv'"
     ]
    }
   ],
   "source": [
    "## saving all processed data so far for easy pickup\n",
    "df_asset_folders.to_csv('./Assets_to_import/leveldir/levelDirectory.csv')\n",
    "df_originals.to_csv('df_originals.csv')\n",
    "df_genned.to_csv('df_genned.csv')\n"
   ]
  },
  {
   "cell_type": "code",
   "execution_count": 89,
   "id": "ab637d74",
   "metadata": {},
   "outputs": [],
   "source": [
    "if not(os.path.exists(to_export_json)):\n",
    "        os.mkdir(to_export_json)\n",
    "json_path = to_export_json + 'levelDirectory.json'\n",
    "df_asset_folders.to_json(json_path, index = True, orient = 'records')"
   ]
  },
  {
   "cell_type": "code",
   "execution_count": 192,
   "id": "b4d0de68",
   "metadata": {},
   "outputs": [
    {
     "data": {
      "text/html": [
       "<div>\n",
       "<style scoped>\n",
       "    .dataframe tbody tr th:only-of-type {\n",
       "        vertical-align: middle;\n",
       "    }\n",
       "\n",
       "    .dataframe tbody tr th {\n",
       "        vertical-align: top;\n",
       "    }\n",
       "\n",
       "    .dataframe thead th {\n",
       "        text-align: right;\n",
       "    }\n",
       "</style>\n",
       "<table border=\"1\" class=\"dataframe\">\n",
       "  <thead>\n",
       "    <tr style=\"text-align: right;\">\n",
       "      <th></th>\n",
       "      <th>0</th>\n",
       "      <th>1</th>\n",
       "      <th>2</th>\n",
       "      <th>3</th>\n",
       "      <th>4</th>\n",
       "      <th>5</th>\n",
       "      <th>6</th>\n",
       "      <th>7</th>\n",
       "      <th>8</th>\n",
       "      <th>9</th>\n",
       "      <th>...</th>\n",
       "      <th>15</th>\n",
       "      <th>16</th>\n",
       "      <th>17</th>\n",
       "      <th>18</th>\n",
       "      <th>19</th>\n",
       "      <th>20</th>\n",
       "      <th>21</th>\n",
       "      <th>22</th>\n",
       "      <th>23</th>\n",
       "      <th>24</th>\n",
       "    </tr>\n",
       "  </thead>\n",
       "  <tbody>\n",
       "    <tr>\n",
       "      <th>name</th>\n",
       "      <td>Adolph-Von-Menzel-The-Flute-Concert-at-Sanssou...</td>\n",
       "      <td>Agnolo-Bronzino-Venus-Cupid-and-Time-Allegory-...</td>\n",
       "      <td>Albert-Bierstadt-Among-the-Sierra-Nevada-Mount...</td>\n",
       "      <td>Albert-Bierstadt-Deer-in-a-Clearing-S</td>\n",
       "      <td>Albert-Bierstadt-Forest-Sunrise-S</td>\n",
       "      <td>Albert-Bierstadt-Rocky-Mountains-S</td>\n",
       "      <td>Albert-Bierstadt-Rustic-Mill-S</td>\n",
       "      <td>Albert-Bierstadt-Staubbach-Falls-Near-Lauterbr...</td>\n",
       "      <td>Albert-Charles-Lebourg-Albert-Marie-Lebourg-Ro...</td>\n",
       "      <td>Albert-Charles-Lebourg-Notre-Dame-de-Paris-and...</td>\n",
       "      <td>...</td>\n",
       "      <td>Albrecht-Durer-Portrait-of-a-Young-Venetian-Wo...</td>\n",
       "      <td>Albrecht-Durer-Portrait-of-a-Young-Venetian-Wo...</td>\n",
       "      <td>Albrecht-Durer-Self-portrait-at-22-S</td>\n",
       "      <td>Albrecht-Durer-The-Altarpiece-of-the-Rose-Garl...</td>\n",
       "      <td>Albrecht-Durer-The-Martyrdom-of-the-Ten-Thousa...</td>\n",
       "      <td>Albrecht-Durer-Young-Hare-S</td>\n",
       "      <td>AlbrechtDurer-Selfportraitdetailface-S</td>\n",
       "      <td>Alexandre-Cabanel-Fallen-Angel-S</td>\n",
       "      <td>Alexej-Georgewitsch-Von-Jawlensky-Mystical-Hea...</td>\n",
       "      <td>Alfred-Sisley-Foggy-Morning-Voisins-S</td>\n",
       "    </tr>\n",
       "    <tr>\n",
       "      <th>source</th>\n",
       "      <td>Adolph-Von-Menzel-The-Flute-Concert-at-Sanssou...</td>\n",
       "      <td>Agnolo-Bronzino-Venus-Cupid-and-Time-Allegory-...</td>\n",
       "      <td>Albert-Bierstadt-Among-the-Sierra-Nevada-Mount...</td>\n",
       "      <td>Albert-Bierstadt-Deer-in-a-Clearing-S</td>\n",
       "      <td>Albert-Bierstadt-Forest-Sunrise-S</td>\n",
       "      <td>Albert-Bierstadt-Rocky-Mountains-S</td>\n",
       "      <td>Albert-Bierstadt-Rustic-Mill-S</td>\n",
       "      <td>Albert-Bierstadt-Staubbach-Falls-Near-Lauterbr...</td>\n",
       "      <td>Albert-Charles-Lebourg-Albert-Marie-Lebourg-Ro...</td>\n",
       "      <td>Albert-Charles-Lebourg-Notre-Dame-de-Paris-and...</td>\n",
       "      <td>...</td>\n",
       "      <td>Albrecht-Durer-Portrait-of-a-Young-Venetian-Wo...</td>\n",
       "      <td>Albrecht-Durer-Portrait-of-a-Young-Venetian-Wo...</td>\n",
       "      <td>Albrecht-Durer-Self-portrait-at-22-S</td>\n",
       "      <td>Albrecht-Durer-The-Altarpiece-of-the-Rose-Garl...</td>\n",
       "      <td>Albrecht-Durer-The-Martyrdom-of-the-Ten-Thousa...</td>\n",
       "      <td>Albrecht-Durer-Young-Hare-S</td>\n",
       "      <td>AlbrechtDurer-Selfportraitdetailface-S</td>\n",
       "      <td>Alexandre-Cabanel-Fallen-Angel-S</td>\n",
       "      <td>Alexej-Georgewitsch-Von-Jawlensky-Mystical-Hea...</td>\n",
       "      <td>Alfred-Sisley-Foggy-Morning-Voisins-S</td>\n",
       "    </tr>\n",
       "    <tr>\n",
       "      <th>answer</th>\n",
       "      <td>1</td>\n",
       "      <td>1</td>\n",
       "      <td>1</td>\n",
       "      <td>1</td>\n",
       "      <td>1</td>\n",
       "      <td>1</td>\n",
       "      <td>1</td>\n",
       "      <td>1</td>\n",
       "      <td>1</td>\n",
       "      <td>1</td>\n",
       "      <td>...</td>\n",
       "      <td>1</td>\n",
       "      <td>1</td>\n",
       "      <td>1</td>\n",
       "      <td>1</td>\n",
       "      <td>1</td>\n",
       "      <td>1</td>\n",
       "      <td>1</td>\n",
       "      <td>1</td>\n",
       "      <td>1</td>\n",
       "      <td>1</td>\n",
       "    </tr>\n",
       "  </tbody>\n",
       "</table>\n",
       "<p>3 rows × 25 columns</p>\n",
       "</div>"
      ],
      "text/plain": [
       "                                                       0   \\\n",
       "name    Adolph-Von-Menzel-The-Flute-Concert-at-Sanssou...   \n",
       "source  Adolph-Von-Menzel-The-Flute-Concert-at-Sanssou...   \n",
       "answer                                                  1   \n",
       "\n",
       "                                                       1   \\\n",
       "name    Agnolo-Bronzino-Venus-Cupid-and-Time-Allegory-...   \n",
       "source  Agnolo-Bronzino-Venus-Cupid-and-Time-Allegory-...   \n",
       "answer                                                  1   \n",
       "\n",
       "                                                       2   \\\n",
       "name    Albert-Bierstadt-Among-the-Sierra-Nevada-Mount...   \n",
       "source  Albert-Bierstadt-Among-the-Sierra-Nevada-Mount...   \n",
       "answer                                                  1   \n",
       "\n",
       "                                           3   \\\n",
       "name    Albert-Bierstadt-Deer-in-a-Clearing-S   \n",
       "source  Albert-Bierstadt-Deer-in-a-Clearing-S   \n",
       "answer                                      1   \n",
       "\n",
       "                                       4                                   5   \\\n",
       "name    Albert-Bierstadt-Forest-Sunrise-S  Albert-Bierstadt-Rocky-Mountains-S   \n",
       "source  Albert-Bierstadt-Forest-Sunrise-S  Albert-Bierstadt-Rocky-Mountains-S   \n",
       "answer                                  1                                   1   \n",
       "\n",
       "                                    6   \\\n",
       "name    Albert-Bierstadt-Rustic-Mill-S   \n",
       "source  Albert-Bierstadt-Rustic-Mill-S   \n",
       "answer                               1   \n",
       "\n",
       "                                                       7   \\\n",
       "name    Albert-Bierstadt-Staubbach-Falls-Near-Lauterbr...   \n",
       "source  Albert-Bierstadt-Staubbach-Falls-Near-Lauterbr...   \n",
       "answer                                                  1   \n",
       "\n",
       "                                                       8   \\\n",
       "name    Albert-Charles-Lebourg-Albert-Marie-Lebourg-Ro...   \n",
       "source  Albert-Charles-Lebourg-Albert-Marie-Lebourg-Ro...   \n",
       "answer                                                  1   \n",
       "\n",
       "                                                       9   ...  \\\n",
       "name    Albert-Charles-Lebourg-Notre-Dame-de-Paris-and...  ...   \n",
       "source  Albert-Charles-Lebourg-Notre-Dame-de-Paris-and...  ...   \n",
       "answer                                                  1  ...   \n",
       "\n",
       "                                                       15  \\\n",
       "name    Albrecht-Durer-Portrait-of-a-Young-Venetian-Wo...   \n",
       "source  Albrecht-Durer-Portrait-of-a-Young-Venetian-Wo...   \n",
       "answer                                                  1   \n",
       "\n",
       "                                                       16  \\\n",
       "name    Albrecht-Durer-Portrait-of-a-Young-Venetian-Wo...   \n",
       "source  Albrecht-Durer-Portrait-of-a-Young-Venetian-Wo...   \n",
       "answer                                                  1   \n",
       "\n",
       "                                          17  \\\n",
       "name    Albrecht-Durer-Self-portrait-at-22-S   \n",
       "source  Albrecht-Durer-Self-portrait-at-22-S   \n",
       "answer                                     1   \n",
       "\n",
       "                                                       18  \\\n",
       "name    Albrecht-Durer-The-Altarpiece-of-the-Rose-Garl...   \n",
       "source  Albrecht-Durer-The-Altarpiece-of-the-Rose-Garl...   \n",
       "answer                                                  1   \n",
       "\n",
       "                                                       19  \\\n",
       "name    Albrecht-Durer-The-Martyrdom-of-the-Ten-Thousa...   \n",
       "source  Albrecht-Durer-The-Martyrdom-of-the-Ten-Thousa...   \n",
       "answer                                                  1   \n",
       "\n",
       "                                 20                                      21  \\\n",
       "name    Albrecht-Durer-Young-Hare-S  AlbrechtDurer-Selfportraitdetailface-S   \n",
       "source  Albrecht-Durer-Young-Hare-S  AlbrechtDurer-Selfportraitdetailface-S   \n",
       "answer                            1                                       1   \n",
       "\n",
       "                                      22  \\\n",
       "name    Alexandre-Cabanel-Fallen-Angel-S   \n",
       "source  Alexandre-Cabanel-Fallen-Angel-S   \n",
       "answer                                 1   \n",
       "\n",
       "                                                       23  \\\n",
       "name    Alexej-Georgewitsch-Von-Jawlensky-Mystical-Hea...   \n",
       "source  Alexej-Georgewitsch-Von-Jawlensky-Mystical-Hea...   \n",
       "answer                                                  1   \n",
       "\n",
       "                                           24  \n",
       "name    Alfred-Sisley-Foggy-Morning-Voisins-S  \n",
       "source  Alfred-Sisley-Foggy-Morning-Voisins-S  \n",
       "answer                                      1  \n",
       "\n",
       "[3 rows x 25 columns]"
      ]
     },
     "execution_count": 192,
     "metadata": {},
     "output_type": "execute_result"
    }
   ],
   "source": []
  },
  {
   "cell_type": "markdown",
   "id": "b375f329",
   "metadata": {},
   "source": [
    "# Ignore the following lines of code; they were made to rename erronous files"
   ]
  },
  {
   "cell_type": "code",
   "execution_count": 46,
   "id": "00b5cd2c",
   "metadata": {},
   "outputs": [
    {
     "data": {
      "text/plain": [
       "\"\\nto_rename = '.\\\\to_rename\\\\';\\nrename_lst = pd.Series(os.listdir(to_rename));\\nrename_lst[:5]\\n\""
      ]
     },
     "execution_count": 46,
     "metadata": {},
     "output_type": "execute_result"
    }
   ],
   "source": [
    "'''\n",
    "to_rename = '.\\\\to_rename\\\\';\n",
    "rename_lst = pd.Series(os.listdir(to_rename));\n",
    "rename_lst[:5]\n",
    "'''"
   ]
  },
  {
   "cell_type": "code",
   "execution_count": 47,
   "id": "6621dc1b",
   "metadata": {},
   "outputs": [],
   "source": [
    "#rename_to = rename_lst.apply(lambda x: x.split('_')[0] + '--02_' + '_'.join(x.split('_')[1:]))"
   ]
  },
  {
   "cell_type": "code",
   "execution_count": 48,
   "id": "fe383d11",
   "metadata": {},
   "outputs": [
    {
     "data": {
      "text/plain": [
       "'\\nfor i in range(len(rename_lst)):\\n    filepath = to_rename + \"\\\\\" + rename_lst[i];\\n    filename_to = to_rename + \"\\\\\" + rename_to[i]\\n    os.rename(src = filepath, dst = filename_to)\\n'"
      ]
     },
     "execution_count": 48,
     "metadata": {},
     "output_type": "execute_result"
    }
   ],
   "source": [
    "'''\n",
    "for i in range(len(rename_lst)):\n",
    "    filepath = to_rename + \"\\\\\" + rename_lst[i];\n",
    "    filename_to = to_rename + \"\\\\\" + rename_to[i]\n",
    "    os.rename(src = filepath, dst = filename_to)\n",
    "'''"
   ]
  },
  {
   "cell_type": "code",
   "execution_count": 3,
   "id": "ce311f75",
   "metadata": {},
   "outputs": [],
   "source": [
    "df_genned = pd.read_csv('./Saved_dataFrames-Shahbaz/df_genned.csv');\n",
    "df_originals = pd.read_csv('./Saved_dataFrames-Shahbaz/df_originals.csv');\n",
    "df_genned = df_genned.drop('Unnamed: 0', axis = 1)\n",
    "df_originals = df_originals.drop('Unnamed: 0', axis = 1)"
   ]
  },
  {
   "cell_type": "code",
   "execution_count": 33,
   "id": "27b42dd1",
   "metadata": {},
   "outputs": [
    {
     "data": {
      "text/html": [
       "<div>\n",
       "<style scoped>\n",
       "    .dataframe tbody tr th:only-of-type {\n",
       "        vertical-align: middle;\n",
       "    }\n",
       "\n",
       "    .dataframe tbody tr th {\n",
       "        vertical-align: top;\n",
       "    }\n",
       "\n",
       "    .dataframe thead th {\n",
       "        text-align: right;\n",
       "    }\n",
       "</style>\n",
       "<table border=\"1\" class=\"dataframe\">\n",
       "  <thead>\n",
       "    <tr style=\"text-align: right;\">\n",
       "      <th></th>\n",
       "      <th>file_names</th>\n",
       "      <th>copy_to</th>\n",
       "    </tr>\n",
       "  </thead>\n",
       "  <tbody>\n",
       "    <tr>\n",
       "      <th>0</th>\n",
       "      <td>Adolph-Von-Menzel-The-Flute-Concert-at-Sanssou...</td>\n",
       "      <td>Adolph-Von-Menzel-The-Flute-Concert-at-Sanssou...</td>\n",
       "    </tr>\n",
       "    <tr>\n",
       "      <th>1</th>\n",
       "      <td>Adolph-Von-Menzel-The-Flute-Concert-at-Sanssou...</td>\n",
       "      <td>Adolph-Von-Menzel-The-Flute-Concert-at-Sanssou...</td>\n",
       "    </tr>\n",
       "    <tr>\n",
       "      <th>2</th>\n",
       "      <td>Adolph-Von-Menzel-The-Flute-Concert-at-Sanssou...</td>\n",
       "      <td>Adolph-Von-Menzel-The-Flute-Concert-at-Sanssou...</td>\n",
       "    </tr>\n",
       "    <tr>\n",
       "      <th>3</th>\n",
       "      <td>Adolph-Von-Menzel-The-Flute-Concert-at-Sanssou...</td>\n",
       "      <td>Adolph-Von-Menzel-The-Flute-Concert-at-Sanssou...</td>\n",
       "    </tr>\n",
       "    <tr>\n",
       "      <th>4</th>\n",
       "      <td>Adolph-Von-Menzel-The-Flute-Concert-at-Sanssou...</td>\n",
       "      <td>Adolph-Von-Menzel-The-Flute-Concert-at-Sanssou...</td>\n",
       "    </tr>\n",
       "  </tbody>\n",
       "</table>\n",
       "</div>"
      ],
      "text/plain": [
       "                                          file_names  \\\n",
       "0  Adolph-Von-Menzel-The-Flute-Concert-at-Sanssou...   \n",
       "1  Adolph-Von-Menzel-The-Flute-Concert-at-Sanssou...   \n",
       "2  Adolph-Von-Menzel-The-Flute-Concert-at-Sanssou...   \n",
       "3  Adolph-Von-Menzel-The-Flute-Concert-at-Sanssou...   \n",
       "4  Adolph-Von-Menzel-The-Flute-Concert-at-Sanssou...   \n",
       "\n",
       "                                             copy_to  \n",
       "0  Adolph-Von-Menzel-The-Flute-Concert-at-Sanssou...  \n",
       "1  Adolph-Von-Menzel-The-Flute-Concert-at-Sanssou...  \n",
       "2  Adolph-Von-Menzel-The-Flute-Concert-at-Sanssou...  \n",
       "3  Adolph-Von-Menzel-The-Flute-Concert-at-Sanssou...  \n",
       "4  Adolph-Von-Menzel-The-Flute-Concert-at-Sanssou...  "
      ]
     },
     "execution_count": 33,
     "metadata": {},
     "output_type": "execute_result"
    }
   ],
   "source": [
    "df_genned.head()"
   ]
  },
  {
   "cell_type": "code",
   "execution_count": 34,
   "id": "0d69429e",
   "metadata": {},
   "outputs": [
    {
     "data": {
      "text/html": [
       "<div>\n",
       "<style scoped>\n",
       "    .dataframe tbody tr th:only-of-type {\n",
       "        vertical-align: middle;\n",
       "    }\n",
       "\n",
       "    .dataframe tbody tr th {\n",
       "        vertical-align: top;\n",
       "    }\n",
       "\n",
       "    .dataframe thead th {\n",
       "        text-align: right;\n",
       "    }\n",
       "</style>\n",
       "<table border=\"1\" class=\"dataframe\">\n",
       "  <thead>\n",
       "    <tr style=\"text-align: right;\">\n",
       "      <th></th>\n",
       "      <th>file_names</th>\n",
       "      <th>genned_set_name</th>\n",
       "      <th>new_file_names</th>\n",
       "    </tr>\n",
       "  </thead>\n",
       "  <tbody>\n",
       "    <tr>\n",
       "      <th>0</th>\n",
       "      <td>Adolph-Von-Menzel-The-Flute-Concert-at-Sanssou...</td>\n",
       "      <td>Adolph-Von-Menzel-The-Flute-Concert-at-Sanssou...</td>\n",
       "      <td>aaaaa_Adolph-Von-Menzel-The-Flute-Concert-at-S...</td>\n",
       "    </tr>\n",
       "    <tr>\n",
       "      <th>1</th>\n",
       "      <td>Agnolo-Bronzino-Venus-Cupid-and-Time-Allegory-...</td>\n",
       "      <td>Agnolo-Bronzino-Venus-Cupid-and-Time-Allegory-...</td>\n",
       "      <td>aaaaa_Agnolo-Bronzino-Venus-Cupid-and-Time-All...</td>\n",
       "    </tr>\n",
       "    <tr>\n",
       "      <th>2</th>\n",
       "      <td>Albert-Bierstadt-Among-the-Sierra-Nevada-Mount...</td>\n",
       "      <td>Albert-Bierstadt-Among-the-Sierra-Nevada-Mount...</td>\n",
       "      <td>aaaaa_Albert-Bierstadt-Among-the-Sierra-Nevada...</td>\n",
       "    </tr>\n",
       "    <tr>\n",
       "      <th>3</th>\n",
       "      <td>Albert-Bierstadt-Deer-in-a-Clearing-S-2.jpg</td>\n",
       "      <td>Albert-Bierstadt-Deer-in-a-Clearing-S</td>\n",
       "      <td>aaaaa_Albert-Bierstadt-Deer-in-a-Clearing-S-2.jpg</td>\n",
       "    </tr>\n",
       "    <tr>\n",
       "      <th>4</th>\n",
       "      <td>Albert-Bierstadt-Forest-Sunrise-S-2.jpg</td>\n",
       "      <td>Albert-Bierstadt-Forest-Sunrise-S</td>\n",
       "      <td>aaaaa_Albert-Bierstadt-Forest-Sunrise-S-2.jpg</td>\n",
       "    </tr>\n",
       "  </tbody>\n",
       "</table>\n",
       "</div>"
      ],
      "text/plain": [
       "                                          file_names  \\\n",
       "0  Adolph-Von-Menzel-The-Flute-Concert-at-Sanssou...   \n",
       "1  Agnolo-Bronzino-Venus-Cupid-and-Time-Allegory-...   \n",
       "2  Albert-Bierstadt-Among-the-Sierra-Nevada-Mount...   \n",
       "3        Albert-Bierstadt-Deer-in-a-Clearing-S-2.jpg   \n",
       "4            Albert-Bierstadt-Forest-Sunrise-S-2.jpg   \n",
       "\n",
       "                                     genned_set_name  \\\n",
       "0  Adolph-Von-Menzel-The-Flute-Concert-at-Sanssou...   \n",
       "1  Agnolo-Bronzino-Venus-Cupid-and-Time-Allegory-...   \n",
       "2  Albert-Bierstadt-Among-the-Sierra-Nevada-Mount...   \n",
       "3              Albert-Bierstadt-Deer-in-a-Clearing-S   \n",
       "4                  Albert-Bierstadt-Forest-Sunrise-S   \n",
       "\n",
       "                                      new_file_names  \n",
       "0  aaaaa_Adolph-Von-Menzel-The-Flute-Concert-at-S...  \n",
       "1  aaaaa_Agnolo-Bronzino-Venus-Cupid-and-Time-All...  \n",
       "2  aaaaa_Albert-Bierstadt-Among-the-Sierra-Nevada...  \n",
       "3  aaaaa_Albert-Bierstadt-Deer-in-a-Clearing-S-2.jpg  \n",
       "4      aaaaa_Albert-Bierstadt-Forest-Sunrise-S-2.jpg  "
      ]
     },
     "execution_count": 34,
     "metadata": {},
     "output_type": "execute_result"
    }
   ],
   "source": [
    "df_originals.head()"
   ]
  },
  {
   "cell_type": "code",
   "execution_count": null,
   "id": "c46fee20",
   "metadata": {},
   "outputs": [],
   "source": []
  }
 ],
 "metadata": {
  "kernelspec": {
   "display_name": "Python 3 (ipykernel)",
   "language": "python",
   "name": "python3"
  },
  "language_info": {
   "codemirror_mode": {
    "name": "ipython",
    "version": 3
   },
   "file_extension": ".py",
   "mimetype": "text/x-python",
   "name": "python",
   "nbconvert_exporter": "python",
   "pygments_lexer": "ipython3",
   "version": "3.9.7"
  }
 },
 "nbformat": 4,
 "nbformat_minor": 5
}
