{
 "cells": [
  {
   "cell_type": "code",
   "execution_count": 58,
   "id": "c5b810e0",
   "metadata": {},
   "outputs": [],
   "source": [
    "import pandas as pd;\n",
    "import numpy as np;\n",
    "import matplotlib.pyplot as plt;\n",
    "import seaborn as sns;\n",
    "import os;\n",
    "import time;\n",
    "from PIL import Image;\n",
    "from tqdm import tqdm;\n",
    "import shutil;\n",
    "%matplotlib inline"
   ]
  },
  {
   "cell_type": "code",
   "execution_count": 59,
   "id": "f57fd987",
   "metadata": {},
   "outputs": [],
   "source": [
    "originals_path = './famous-art-512-sq/'"
   ]
  },
  {
   "cell_type": "code",
   "execution_count": 60,
   "id": "6e6bb0f2",
   "metadata": {},
   "outputs": [
    {
     "data": {
      "text/html": [
       "<div>\n",
       "<style scoped>\n",
       "    .dataframe tbody tr th:only-of-type {\n",
       "        vertical-align: middle;\n",
       "    }\n",
       "\n",
       "    .dataframe tbody tr th {\n",
       "        vertical-align: top;\n",
       "    }\n",
       "\n",
       "    .dataframe thead th {\n",
       "        text-align: right;\n",
       "    }\n",
       "</style>\n",
       "<table border=\"1\" class=\"dataframe\">\n",
       "  <thead>\n",
       "    <tr style=\"text-align: right;\">\n",
       "      <th></th>\n",
       "      <th>file_names</th>\n",
       "    </tr>\n",
       "  </thead>\n",
       "  <tbody>\n",
       "    <tr>\n",
       "      <th>0</th>\n",
       "      <td>Adolph-Von-Menzel-The-Flute-Concert-at-Sanssou...</td>\n",
       "    </tr>\n",
       "    <tr>\n",
       "      <th>1</th>\n",
       "      <td>Agnolo-Bronzino-Venus-Cupid-and-Time-Allegory-...</td>\n",
       "    </tr>\n",
       "    <tr>\n",
       "      <th>2</th>\n",
       "      <td>Albert-Bierstadt-Among-the-Sierra-Nevada-Mount...</td>\n",
       "    </tr>\n",
       "    <tr>\n",
       "      <th>3</th>\n",
       "      <td>Albert-Bierstadt-Deer-in-a-Clearing-S-2.jpg</td>\n",
       "    </tr>\n",
       "    <tr>\n",
       "      <th>4</th>\n",
       "      <td>Albert-Bierstadt-Forest-Sunrise-S-2.jpg</td>\n",
       "    </tr>\n",
       "  </tbody>\n",
       "</table>\n",
       "</div>"
      ],
      "text/plain": [
       "                                          file_names\n",
       "0  Adolph-Von-Menzel-The-Flute-Concert-at-Sanssou...\n",
       "1  Agnolo-Bronzino-Venus-Cupid-and-Time-Allegory-...\n",
       "2  Albert-Bierstadt-Among-the-Sierra-Nevada-Mount...\n",
       "3        Albert-Bierstadt-Deer-in-a-Clearing-S-2.jpg\n",
       "4            Albert-Bierstadt-Forest-Sunrise-S-2.jpg"
      ]
     },
     "execution_count": 60,
     "metadata": {},
     "output_type": "execute_result"
    }
   ],
   "source": [
    "df = pd.DataFrame(os.listdir(originals_path))\n",
    "df.columns = ['file_names']\n",
    "df.head()"
   ]
  },
  {
   "cell_type": "code",
   "execution_count": 61,
   "id": "980663e0",
   "metadata": {},
   "outputs": [
    {
     "data": {
      "text/html": [
       "<div>\n",
       "<style scoped>\n",
       "    .dataframe tbody tr th:only-of-type {\n",
       "        vertical-align: middle;\n",
       "    }\n",
       "\n",
       "    .dataframe tbody tr th {\n",
       "        vertical-align: top;\n",
       "    }\n",
       "\n",
       "    .dataframe thead th {\n",
       "        text-align: right;\n",
       "    }\n",
       "</style>\n",
       "<table border=\"1\" class=\"dataframe\">\n",
       "  <thead>\n",
       "    <tr style=\"text-align: right;\">\n",
       "      <th></th>\n",
       "      <th>file_names</th>\n",
       "    </tr>\n",
       "  </thead>\n",
       "  <tbody>\n",
       "    <tr>\n",
       "      <th>11</th>\n",
       "      <td>Albert-Edelfelt-The-Artist_s-Son-Erik-in-his-P...</td>\n",
       "    </tr>\n",
       "    <tr>\n",
       "      <th>16</th>\n",
       "      <td>Albrecht-Durer-Portrait-of-a-Young-Venetian-Wo...</td>\n",
       "    </tr>\n",
       "    <tr>\n",
       "      <th>35</th>\n",
       "      <td>Andrew_Wyeth-Christina_s_World-S-2.jpg</td>\n",
       "    </tr>\n",
       "    <tr>\n",
       "      <th>38</th>\n",
       "      <td>Andy-Warhol-Campbell_S-Soup-Can-beef--S-2.jpg</td>\n",
       "    </tr>\n",
       "    <tr>\n",
       "      <th>39</th>\n",
       "      <td>Andy-Warhol-Campbell_S-Soup-Can-onion--S-2.jpg</td>\n",
       "    </tr>\n",
       "    <tr>\n",
       "      <th>...</th>\n",
       "      <td>...</td>\n",
       "    </tr>\n",
       "    <tr>\n",
       "      <th>873</th>\n",
       "      <td>Vincent-Van-Gogh-Vincent_s-Bedroom-in-Arles-4-...</td>\n",
       "    </tr>\n",
       "    <tr>\n",
       "      <th>877</th>\n",
       "      <td>Vincent_Van_Gogh-Bowl_with_Peonies_and_Roses-S...</td>\n",
       "    </tr>\n",
       "    <tr>\n",
       "      <th>878</th>\n",
       "      <td>Vincent_Van_Gogh-Branches_with_Almond_Blossom-...</td>\n",
       "    </tr>\n",
       "    <tr>\n",
       "      <th>879</th>\n",
       "      <td>Vincent_Van_Gogh-Irises-S-2.jpg</td>\n",
       "    </tr>\n",
       "    <tr>\n",
       "      <th>880</th>\n",
       "      <td>Vincent_Van_Gogh-Willows_at_Sunset-S-2.jpg</td>\n",
       "    </tr>\n",
       "  </tbody>\n",
       "</table>\n",
       "<p>66 rows × 1 columns</p>\n",
       "</div>"
      ],
      "text/plain": [
       "                                            file_names\n",
       "11   Albert-Edelfelt-The-Artist_s-Son-Erik-in-his-P...\n",
       "16   Albrecht-Durer-Portrait-of-a-Young-Venetian-Wo...\n",
       "35              Andrew_Wyeth-Christina_s_World-S-2.jpg\n",
       "38       Andy-Warhol-Campbell_S-Soup-Can-beef--S-2.jpg\n",
       "39      Andy-Warhol-Campbell_S-Soup-Can-onion--S-2.jpg\n",
       "..                                                 ...\n",
       "873  Vincent-Van-Gogh-Vincent_s-Bedroom-in-Arles-4-...\n",
       "877  Vincent_Van_Gogh-Bowl_with_Peonies_and_Roses-S...\n",
       "878  Vincent_Van_Gogh-Branches_with_Almond_Blossom-...\n",
       "879                    Vincent_Van_Gogh-Irises-S-2.jpg\n",
       "880         Vincent_Van_Gogh-Willows_at_Sunset-S-2.jpg\n",
       "\n",
       "[66 rows x 1 columns]"
      ]
     },
     "execution_count": 61,
     "metadata": {},
     "output_type": "execute_result"
    }
   ],
   "source": [
    "files_to_rename = df[df['file_names'].apply(lambda x: len(x.split('_')) > 1)]\n",
    "files_to_rename"
   ]
  },
  {
   "cell_type": "code",
   "execution_count": 62,
   "id": "93b60435",
   "metadata": {},
   "outputs": [
    {
     "data": {
      "text/plain": [
       "['Albert-Edelfelt-The-Artist.s-Son-Erik-in-his-Pram-S-2.jpg',\n",
       " 'Albrecht-Durer-Portrait-of-a-Young-Venetian-Woman-S.002-2.jpg',\n",
       " 'Andrew.Wyeth-Christina.s.World-S-2.jpg',\n",
       " 'Andy-Warhol-Campbell.S-Soup-Can-beef--S-2.jpg',\n",
       " 'Andy-Warhol-Campbell.S-Soup-Can-onion--S-2.jpg',\n",
       " 'Andy.Warhol-Marilyn-S-2.jpg',\n",
       " 'Arshile-Gorky-The-Liver-is-the-Cock.s-Comb--S-2.jpg',\n",
       " 'Claes.Oldenburg-Lipstick.-.74.-S-2.jpg',\n",
       " 'Claes.Oldenburg-Split.button-S-2.jpg',\n",
       " 'Claes.Oldenburg-Store.poster-S-2.jpg',\n",
       " 'Claude-Monet-The-Pont-de-l.Europe-Gare-Saint-Lazare-S-2.jpg',\n",
       " 'Claude.Monet-le.bassin.aux.nympheas-S-2.jpg',\n",
       " 'Edgar-Degas-The-Dance-Class-S.002-2.jpg',\n",
       " 'EdouardManet-Olympia.Museed.Orsay.Paris(131x190CM)(1863)-S-2.jpg',\n",
       " 'EdouardManet-Theabsinthedrinker.nycarlsbergglyptotek.co(1859-2.jpg',\n",
       " 'Edvard-Munch-The-Scream-S.002-2.jpg',\n",
       " 'Edvard.Munch-Kiss-S-2.jpg',\n",
       " 'Edward.Hopper-Nighthawks.The.Art.Institute.of.Chicago.Chica--2.jpg',\n",
       " 'Francisco.De.Goya-Saturn.Devouring.His.Son-S-2.jpg',\n",
       " 'Francis.Bacon-painting.1946-S-2.jpg',\n",
       " 'Francis.Bacon-Three.Studies.for.Figures.at.the.Base.of.a.Cru-2.jpg',\n",
       " 'Georgia-O.keeffe-Light-of-Iris-S-2.jpg',\n",
       " 'Georgia.O.keeffe-Blue.wave.maine-S-2.jpg',\n",
       " 'Giorgio-De-Chirico-The-Child.s-Brain-S-2.jpg',\n",
       " 'Giorgio.De.Chirico-Hector.and.Andromache-S-2.jpg',\n",
       " 'Gustave.Caillebotte-The.Floor.Scrapers.also.known.as.The.Flo-2.jpg',\n",
       " 'Gustav.Klimt-Bildnis.Fritza.Riedler.1906.-.Osterreichische.G-2.jpg',\n",
       " 'HenriMatisse-L.AtelierrougeHuilesurToile-(181x219)-S-2.jpg',\n",
       " 'Jasper.Johns-False.start-S-2.jpg',\n",
       " 'Jean.Joseph.Benjamin.Constant-The.Throne.Room.In.Byzantium-S-2.jpg',\n",
       " 'Jim.Dine-Braid-S-2.jpg',\n",
       " 'Jim.Dine-Five.Feet.of.Colorful.Tools-S-2.jpg',\n",
       " 'Jim.Dine-palette.II-S-2.jpg',\n",
       " 'Jim.Dine-The.woodcut.bathrobe-S-2.jpg',\n",
       " 'John.Atkinson.Grimshaw-Canny.Glasgow-S-2.jpg',\n",
       " 'MarcChagall-IandtheVillage.MomaNY(192x151CM)(1911)-S-2.jpg',\n",
       " 'Mel.Ramos-Manet.s.olympia-S-2.jpg',\n",
       " 'Nicolas-Poussin-The-Poet.s-Inspiration-S-2.jpg',\n",
       " 'Oskar-Kokoschka-Self-portrait-of-a-.Degenerate-Artist.-S-2.jpg',\n",
       " 'Pablo-Picasso-At-the-.Lapin-Agile.-S-2.jpg',\n",
       " 'Pablo.Picasso-Sabartes-S-2.jpg',\n",
       " 'Paul-Gauguin-D.ou-venons-nous-Que-sommes-nous-Ou-allons-nous-2.jpg',\n",
       " 'Paul-Gauguin-D.ou-venons-nous-Que-sommes-nous-Ou-allons-.002-2.jpg',\n",
       " 'Paul-Gauguin-D.ou-venons-nous-Que-sommes-nous-Ou-allons-.003-2.jpg',\n",
       " 'PaulCezanne-Thebayfroml.estaque.c.1886.artinst.ofchicago-S-2.jpg',\n",
       " 'Peter.Paul.Rubens-The.Last.Judgement-S-2.jpg',\n",
       " 'Peter.Phillips-Custom.Print.No..II-S-2.jpg',\n",
       " 'Peter.Phillips-Impeller-S-2.jpg',\n",
       " 'Peter.Phillips-Spectrocoupling-S-2.jpg',\n",
       " 'Pierre-AugusteRenoir-DanceatBougival.oiloncanvas.MuseumofFin-2.jpg',\n",
       " 'Pieter-Bruegel-The-Elder-Children.s-Games-2--S-2.jpg',\n",
       " 'Rene.Magritte-The.Human.Condition-S-2.jpg',\n",
       " 'Richard.Hamilton-War.games-S-2.jpg',\n",
       " 'RossoFiorentino-MosesandJethro.sdaughters.(1523)-(160x117)-S-2.jpg',\n",
       " 'Roy-Lichtenstein-Artist.s-studio-The-dance-sketch--S-2.jpg',\n",
       " 'Roy.Lichtenstein-Drowning.girl-S-2.jpg',\n",
       " 'Roy.Lichtenstein-Jet.pilot-S-2.jpg',\n",
       " 'Salvador.Dali-The.Apotheosis.of.Homer.1944-45-S-2.jpg',\n",
       " 'Sandro.Botticelli-The.Birth.of.Venus-S-2.jpg',\n",
       " 'Vincent-Van-Gogh-Starry-Night-S.002-2.jpg',\n",
       " 'Vincent-Van-Gogh-The-Potato-Eaters-S.002-2.jpg',\n",
       " 'Vincent-Van-Gogh-Vincent.s-Bedroom-in-Arles-4--S-2.jpg',\n",
       " 'Vincent.Van.Gogh-Bowl.with.Peonies.and.Roses-S-2.jpg',\n",
       " 'Vincent.Van.Gogh-Branches.with.Almond.Blossom-S-2.jpg',\n",
       " 'Vincent.Van.Gogh-Irises-S-2.jpg',\n",
       " 'Vincent.Van.Gogh-Willows.at.Sunset-S-2.jpg']"
      ]
     },
     "execution_count": 62,
     "metadata": {},
     "output_type": "execute_result"
    }
   ],
   "source": [
    "new_names = []\n",
    "for i in files_to_rename['file_names']:\n",
    "    new_names.append('.'.join(i.split('_')));\n",
    "new_names"
   ]
  },
  {
   "cell_type": "code",
   "execution_count": 63,
   "id": "6f896c03",
   "metadata": {},
   "outputs": [
    {
     "name": "stderr",
     "output_type": "stream",
     "text": [
      "C:\\Users\\Shahbaz\\AppData\\Local\\Temp\\ipykernel_244\\2744285891.py:1: SettingWithCopyWarning: \n",
      "A value is trying to be set on a copy of a slice from a DataFrame.\n",
      "Try using .loc[row_indexer,col_indexer] = value instead\n",
      "\n",
      "See the caveats in the documentation: https://pandas.pydata.org/pandas-docs/stable/user_guide/indexing.html#returning-a-view-versus-a-copy\n",
      "  files_to_rename['new_filenames'] = new_names;\n"
     ]
    },
    {
     "data": {
      "text/plain": [
       "11    Albert-Edelfelt-The-Artist.s-Son-Erik-in-his-P...\n",
       "16    Albrecht-Durer-Portrait-of-a-Young-Venetian-Wo...\n",
       "35               Andrew.Wyeth-Christina.s.World-S-2.jpg\n",
       "38        Andy-Warhol-Campbell.S-Soup-Can-beef--S-2.jpg\n",
       "39       Andy-Warhol-Campbell.S-Soup-Can-onion--S-2.jpg\n",
       "Name: new_filenames, dtype: object"
      ]
     },
     "execution_count": 63,
     "metadata": {},
     "output_type": "execute_result"
    }
   ],
   "source": [
    "files_to_rename['new_filenames'] = new_names;\n",
    "files_to_rename['new_filenames'].head()"
   ]
  },
  {
   "cell_type": "code",
   "execution_count": 64,
   "id": "ad123d3b",
   "metadata": {},
   "outputs": [],
   "source": [
    "files_to_rename = files_to_rename.reset_index(drop = True)"
   ]
  },
  {
   "cell_type": "code",
   "execution_count": 65,
   "id": "8d57fbb2",
   "metadata": {},
   "outputs": [
    {
     "data": {
      "text/html": [
       "<div>\n",
       "<style scoped>\n",
       "    .dataframe tbody tr th:only-of-type {\n",
       "        vertical-align: middle;\n",
       "    }\n",
       "\n",
       "    .dataframe tbody tr th {\n",
       "        vertical-align: top;\n",
       "    }\n",
       "\n",
       "    .dataframe thead th {\n",
       "        text-align: right;\n",
       "    }\n",
       "</style>\n",
       "<table border=\"1\" class=\"dataframe\">\n",
       "  <thead>\n",
       "    <tr style=\"text-align: right;\">\n",
       "      <th></th>\n",
       "      <th>file_names</th>\n",
       "      <th>new_filenames</th>\n",
       "    </tr>\n",
       "  </thead>\n",
       "  <tbody>\n",
       "  </tbody>\n",
       "</table>\n",
       "</div>"
      ],
      "text/plain": [
       "Empty DataFrame\n",
       "Columns: [file_names, new_filenames]\n",
       "Index: []"
      ]
     },
     "execution_count": 65,
     "metadata": {},
     "output_type": "execute_result"
    }
   ],
   "source": [
    "files_to_rename[files_to_rename['new_filenames'].apply(lambda x: len(x.split('_')) > 1)]"
   ]
  },
  {
   "cell_type": "code",
   "execution_count": 66,
   "id": "4a95c306",
   "metadata": {},
   "outputs": [
    {
     "data": {
      "text/plain": [
       "\"\\nto_rename = '.\\\\to_rename\\\\';\\nrename_lst = pd.Series(os.listdir(to_rename));\\nrename_lst[:5]\\n\""
      ]
     },
     "execution_count": 66,
     "metadata": {},
     "output_type": "execute_result"
    }
   ],
   "source": [
    "'''\n",
    "to_rename = '.\\\\to_rename\\\\';\n",
    "rename_lst = pd.Series(os.listdir(to_rename));\n",
    "rename_lst[:5]\n",
    "'''"
   ]
  },
  {
   "cell_type": "code",
   "execution_count": 67,
   "id": "a6d3c47b",
   "metadata": {},
   "outputs": [],
   "source": [
    "#rename_to = rename_lst.apply(lambda x: x.split('_')[0] + '--02_' + '_'.join(x.split('_')[1:]))\n"
   ]
  },
  {
   "cell_type": "code",
   "execution_count": 68,
   "id": "1e7d85ff",
   "metadata": {},
   "outputs": [],
   "source": [
    "\n",
    "for i in range(len(files_to_rename)):\n",
    "    filepath = originals_path + files_to_rename['file_names'][i];\n",
    "    filename_to = originals_path + files_to_rename['new_filenames'][i];\n",
    "    os.rename(src = filepath, dst = filename_to)\n"
   ]
  },
  {
   "cell_type": "markdown",
   "id": "ab57b3f1",
   "metadata": {},
   "source": [
    "## Fixing Generated File Names as well \\<sigh\\>"
   ]
  },
  {
   "cell_type": "code",
   "execution_count": null,
   "id": "3f8a99da",
   "metadata": {},
   "outputs": [],
   "source": []
  }
 ],
 "metadata": {
  "kernelspec": {
   "display_name": "Python 3 (ipykernel)",
   "language": "python",
   "name": "python3"
  },
  "language_info": {
   "codemirror_mode": {
    "name": "ipython",
    "version": 3
   },
   "file_extension": ".py",
   "mimetype": "text/x-python",
   "name": "python",
   "nbconvert_exporter": "python",
   "pygments_lexer": "ipython3",
   "version": "3.9.7"
  }
 },
 "nbformat": 4,
 "nbformat_minor": 5
}
