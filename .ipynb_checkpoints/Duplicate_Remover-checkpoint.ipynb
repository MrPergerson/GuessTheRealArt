{
 "cells": [
  {
   "cell_type": "code",
   "execution_count": 1,
   "id": "eed994cb",
   "metadata": {},
   "outputs": [],
   "source": [
    "import pandas as pd;\n",
    "import seaborn as sns;\n",
    "import numpy as np;\n",
    "import os;\n",
    "import matplotlib.pyplot as plt;\n",
    "from tqdm import tqdm;\n",
    "%matplotlib inline"
   ]
  },
  {
   "cell_type": "code",
   "execution_count": 2,
   "id": "2fe14bb5",
   "metadata": {},
   "outputs": [],
   "source": [
    "# this is the pre-cropped 512x512 version of the images in the dataset\n",
    "answer_path = './famous-art-512-sq/';\n",
    "# path to the folder containing the generated images\n",
    "genned_images = './processed/';\n",
    "# path to re-create file structure for image set for importing to assets directory\n",
    "to_export = './Assets_to_import/level_assets/'\n",
    "to_export_json = './Assets_to_import/leveldir/'\n",
    "# path containing original file names before 'aaaaa_' insertion\n",
    "of_names_directory = './famous-art-512-sq_Preserved/'"
   ]
  },
  {
   "cell_type": "code",
   "execution_count": 3,
   "id": "448e359c",
   "metadata": {},
   "outputs": [],
   "source": [
    "# Selected work categories path\n",
    "selected = './selectedwork/'"
   ]
  },
  {
   "cell_type": "code",
   "execution_count": 4,
   "id": "b1a93cb0",
   "metadata": {},
   "outputs": [
    {
     "data": {
      "text/plain": [
       "['Abstract',\n",
       " 'Architecture',\n",
       " 'Food',\n",
       " 'Landscape',\n",
       " 'People',\n",
       " 'Plants',\n",
       " 'Pop',\n",
       " 'Surreal',\n",
       " 'Vincent Van Gogh']"
      ]
     },
     "execution_count": 4,
     "metadata": {},
     "output_type": "execute_result"
    }
   ],
   "source": [
    "categories = os.listdir(selected)\n",
    "categories"
   ]
  },
  {
   "cell_type": "code",
   "execution_count": 5,
   "id": "2dd0cd3a",
   "metadata": {},
   "outputs": [
    {
     "data": {
      "text/plain": [
       "['level_Abstract_Directory.json',\n",
       " 'level_Architecture_Directory.json',\n",
       " 'level_Food_Directory.json',\n",
       " 'level_Landscape_Directory.json',\n",
       " 'level_People_Directory.json',\n",
       " 'level_Plants_Directory.json',\n",
       " 'level_Pop_Directory.json',\n",
       " 'level_Surreal_Directory.json',\n",
       " 'level_Vincent Van Gogh_Directory.json']"
      ]
     },
     "execution_count": 5,
     "metadata": {},
     "output_type": "execute_result"
    }
   ],
   "source": [
    "json_files = os.listdir(to_export_json)\n",
    "json_files = [i for i in json_files if i.split('.')[-1:][0] == 'json'][1:]\n",
    "json_files"
   ]
  },
  {
   "cell_type": "code",
   "execution_count": 6,
   "id": "92ec1871",
   "metadata": {},
   "outputs": [
    {
     "data": {
      "text/plain": [
       "['Albert-Bierstadt-Rocky-Mountains-S',\n",
       " 'Albert-Bierstadt-Rustic-Mill-S',\n",
       " 'Albert-Bierstadt-Staubbach-Falls-Near-Lauterbrunnen-Switzerl',\n",
       " 'Albrecht-Durer-Christ-as-the-Man-of-Sorrows-S',\n",
       " 'Alexandre-Cabanel-Fallen-Angel-S',\n",
       " 'Alexej-Georgewitsch-Von-Jawlensky-Mystical-Head-Meditation-S',\n",
       " 'Amedeo-Modigliani-Reclining-Nude-with-Blue-Cushion-S',\n",
       " 'Andy-Warhol-Campbell+S-Soup-Can-beef--S',\n",
       " 'Andy-Warhol-Campbell-S-Soup-Can-tomato--S',\n",
       " 'Andy-Warhol-Marilyn-leo-castelli-gallery-new-york-S',\n",
       " 'Arshile-Gorky-Waterfall-2--S',\n",
       " 'Berthe-Morisot-The-Cradle-S',\n",
       " 'Caravaggio-Michelangelo-Merisi-Ecce-Homo-S',\n",
       " 'Caspar-David-Friedrich-Dolmen-in-the-Snow-3--S',\n",
       " 'Charles-Francois-Daubigny-Harvest-S',\n",
       " 'Claude-Monet-Irises-in-Monet-s-Garden-S',\n",
       " 'Claude-Monet-Pathway-in-Monet-s-Garden-at-Giverny-S',\n",
       " 'Claude-Monet-Woman-with-a-Parasol-in-the-Garden-in-Argenteui',\n",
       " 'Duccio-Di-Buoninsegna-Maest-front-central-panel--S',\n",
       " 'Edouard-Manet-Berthe-Morisot-with-a-bouquet-of-violets-S',\n",
       " 'Edouard-Manet-Luncheon-on-the-Grass-S',\n",
       " 'Edvard-Munch-The-Scream-S',\n",
       " 'Egon-Schiele-Mother-with-Two-Children-S',\n",
       " 'Fernand-Leger-Three-Women-S',\n",
       " 'Francisco-Zurbaran-Still-Life-with-Lemons-Oranges-and-Rose-S',\n",
       " 'Frans-Snyders-Grapes-in-a-basket-and-roses-in-a-vase-S',\n",
       " 'Frida-Kahlo-My-Dress-Hangs-There-S',\n",
       " 'Frida-Kahlo-Tree-of-Hope-S',\n",
       " 'FridaKahlo-Self-PortraitwithCroppedHair-S',\n",
       " 'Giorgio+De+Chirico-Hector+and+Andromache-S',\n",
       " 'Giovanni-Bellini-Madonna-of-the-Meadow-Madonna-del-Prato--S',\n",
       " 'Giuseppe-Arcimboldo-Summer-1-S',\n",
       " 'Giuseppe-Arcimboldo-Vortumnus-Vertumno--S',\n",
       " 'Gustav-Klimt-The-Tree-of-Life-Stoclet-Frieze-S',\n",
       " 'Gustave-Caillebotte-A-Balcony-in-Paris-S',\n",
       " 'Gustave-Caillebotte-Paris-street-Rainy-Day-S',\n",
       " 'Hans-Holbein-The-Younger-Portrait-of-Nikolaus-Kratzer-S',\n",
       " 'Hans-Memling-Scenes-from-the-Passion-of-Christ-left-side--S',\n",
       " 'Henri-Julien-Felix-Rousseau-Le-Douanier-The-Dream-S',\n",
       " 'Henri-Matisse-Blue-Nude-S',\n",
       " 'Ivan-Aivazovsky-The-Ninth-Wave-S',\n",
       " 'Jackson-Pollock-Number-1-1949-S',\n",
       " 'Jan-Vermeer-The-Girl-with-a-Pearl-Earring-S',\n",
       " 'Jan-Vermeer-View-of-Delft-S',\n",
       " 'Jean+Joseph+Benjamin+Constant-The+Throne+Room+In+Byzantium-S',\n",
       " 'Jean-Leon-Gerome-Harem-Women-Feeding-Pigeons-in-a-Courtyard-',\n",
       " 'Jean-Leon-Gerome-Public-Prayer-in-the-Mosque-of-Amr-Cairo-S',\n",
       " 'Joan-Miro-Joan-Mir-Catalan-Landscape-The-Hunter--S',\n",
       " 'Joan-Miro-Self-Portrait-S',\n",
       " 'Joan-Miro-The-Tilled-Field-S',\n",
       " 'John+Atkinson+Grimshaw-Canny+Glasgow-S',\n",
       " 'John-Atkinson-Grimshaw-Liverpool-from-Wapping-S',\n",
       " 'John-Constable-Salisbury-cathedral-S',\n",
       " 'Katsushika-Hokusai-Fuji-Mountains-in-clear-Weather-Red-Fuji-',\n",
       " 'Leonardo-Da-Vinci-Mona-Lisa-La-Gioconda--S',\n",
       " 'Lucas-Cranach-The-Elder-Stag-Hunt-of-Elector-Friedrich-III-t',\n",
       " 'Max-Beckmann-The-Iron-Bridge-View-of-Frankfurt--S',\n",
       " 'Max-Ernst-Of-This-Men-Shall-Know-Nothing-S',\n",
       " 'Pablo-Picasso-Portrait-of-Maya-with-her-doll-S',\n",
       " 'Pablo-Picasso-The-Young-Ladies-of-Avignon-S',\n",
       " 'Pablo-Picasso-Three-Musicians-S',\n",
       " 'Pablo-Picasso-Women-of-Algiers-Version-O--S',\n",
       " 'Paul-Cezanne-Basket-of-Apples-S',\n",
       " 'Paul-Cezanne-Curtain-Jug-and-Fruit-S',\n",
       " 'Paul-Cezanne-Mont-Sainte-Victoire-Metropolitan--S',\n",
       " 'Paul-Klee-Legend-of-the-Nile-S',\n",
       " 'Peter-Max-Flag-S',\n",
       " 'Pierre-Auguste-Renoir-A-Road-in-Louveciennes-S',\n",
       " 'Piet-Mondrian-Broadway-Boogie-Woogie-S',\n",
       " 'Piet-Mondrian-Study-for-Blue-Apple-Tree-Series-S',\n",
       " 'Pieter-Bruegel-The-Elder-The-Tower-of-Babel-S',\n",
       " 'Pieter-Jansz-Saenredam-The-Interior-of-the-Grote-Kerk-at-Haa',\n",
       " 'Rene-Magritte-False-Mirror-S',\n",
       " 'Rene-Magritte-The-Castle-of-the-Pyrenees-S',\n",
       " 'Rene-Magritte-The-companions-of-fear-S',\n",
       " 'Rene-Magritte-The-Magician-S',\n",
       " 'Rene-Magritte-The-Menaced-Assassin-S',\n",
       " 'Rene-Magritte-The-Son-of-Man-S',\n",
       " 'Robert-Indiana-The-garden-of-love-S',\n",
       " 'Roy+Lichtenstein-Drowning+girl-S',\n",
       " 'Roy-Lichtenstein-Blam-S',\n",
       " 'Roy-Lichtenstein-Brattata-S',\n",
       " 'Roy-Lichtenstein-Girl-with-ball-S',\n",
       " 'Roy-Lichtenstein-Hopeless-S',\n",
       " 'Roy-Lichtenstein-In-the-car-S',\n",
       " 'Roy-Lichtenstein-Look-Mickey-S',\n",
       " 'Roy-Lichtenstein-Torpedo-los-S',\n",
       " 'RoyLichtenstein-Heyyou-(2402193)-S',\n",
       " 'Salvador-Dali-Autumn-Cannibalism-S',\n",
       " 'Salvador-Dali-Cubist-Self-portrait-S',\n",
       " 'Salvador-Dali-The-Birth-of-Liquid-Desires-S',\n",
       " 'Salvador-Dali-The-Burning-Giraffe-1937-S',\n",
       " 'Sandro-Botticelli-Calumny-of-Apelles-S',\n",
       " 'Sonia-Delaunay-Sarah-Ilinitchna-Stern-Electric-prisms-2--S',\n",
       " 'Theodore-Clement-Steele-Beech-Trees-S',\n",
       " 'Vincent+Van+Gogh-Bowl+with+Peonies+and+Roses-S',\n",
       " 'Vincent+Van+Gogh-Branches+with+Almond+Blossom-S',\n",
       " 'Vincent+Van+Gogh-Irises-S',\n",
       " 'Vincent-Van-Gogh-A-Pair-of-Shoes-2--S',\n",
       " 'Vincent-Van-Gogh-Almond-Tree-in-Blossom-S',\n",
       " 'Vincent-Van-Gogh-Apricot-Trees-in-Blossom-2-S',\n",
       " 'Vincent-Van-Gogh-Branches-with-Almond-Blossom-February-1890-',\n",
       " 'Vincent-Van-Gogh-Cypresses-2--S',\n",
       " 'Vincent-Van-Gogh-Daubigny-s-Garden-S',\n",
       " 'Vincent-Van-Gogh-First-Steps-after-Millet--S',\n",
       " 'Vincent-Van-Gogh-Green-Wheat-Field-with-Cypress+-Saint-Remy-',\n",
       " 'Vincent-Van-Gogh-Green-Wheat-Field-with-Cypress-S',\n",
       " 'Vincent-Van-Gogh-Irises-1889--S',\n",
       " 'Vincent-Van-Gogh-Les-Alyscamps-S',\n",
       " 'Vincent-Van-Gogh-Mulberry-Tree-The-S',\n",
       " 'Vincent-Van-Gogh-Old-Man-in-Sorrow-S',\n",
       " 'Vincent-Van-Gogh-Olive-Trees-with-Yellow-Sky-and-Sun-S',\n",
       " 'Vincent-Van-Gogh-Peach-Trees-in-Blossom-S',\n",
       " 'Vincent-Van-Gogh-Portrait-of-Dr+-Gachet-S',\n",
       " 'Vincent-Van-Gogh-Seascape-at-Saintes-Maries-S',\n",
       " 'Vincent-Van-Gogh-Self-Portrait-2--S',\n",
       " 'Vincent-Van-Gogh-Self-Portrait-with-a-Grey-Felt-Hat-S',\n",
       " 'Vincent-Van-Gogh-Self-Portrait-with-Bandaged-Ear-and-Pipe-S',\n",
       " 'Vincent-Van-Gogh-Skull-with-Burning-Cigarette-S',\n",
       " 'Vincent-Van-Gogh-Starry-Night-Over-the-Rhone-S',\n",
       " 'Vincent-Van-Gogh-Starry-Night-S',\n",
       " 'Vincent-Van-Gogh-The-Courtyard-of-the-Hospital-at-Arles-S',\n",
       " 'Vincent-Van-Gogh-The-Night-Cafe-1888--S',\n",
       " 'Vincent-Van-Gogh-The-Starry-Night-S',\n",
       " 'Vincent-Van-Gogh-Vincent-s-Bedroom-in-Arles-First-version--S',\n",
       " 'Wassily-Kandinsky-Arabs-I-Cemetery--S',\n",
       " 'Wassily-Kandinsky-Composition-IX-S',\n",
       " 'Wassily-Kandinsky-Composition-VIII-S',\n",
       " 'Wassily-Kandinsky-Glass-Painting-with-the-Sun-Small-Pleasure',\n",
       " 'Wassily-Kandinsky-Improvisation+-Gorge-S',\n",
       " 'Wassily-Kandinsky-Several-Circles-Solomon-R+-G-S',\n",
       " 'Wassily-Kandinsky-Yellow-Red-Blue-S',\n",
       " 'Wayne-Thiebaud-Fabs-S',\n",
       " 'Wayne-Thiebaud-Pop-art-S',\n",
       " 'Wayne-Thiebaud-Watermelon-large-S',\n",
       " 'William-Merritt-Chase-Terrace-at-the-Mall-Central-Park-S']"
      ]
     },
     "execution_count": 6,
     "metadata": {},
     "output_type": "execute_result"
    }
   ],
   "source": [
    "# to keep track of all folders and track/compare duplicates\n",
    "all_folder_objs = os.listdir(to_export)\n",
    "all_folder_objs"
   ]
  },
  {
   "cell_type": "code",
   "execution_count": 7,
   "id": "f6dbb25d",
   "metadata": {},
   "outputs": [],
   "source": [
    "main_dataframe = [pd.read_json( to_export_json + i) for i in json_files]\n"
   ]
  },
  {
   "cell_type": "code",
   "execution_count": 8,
   "id": "2ffc03cc",
   "metadata": {},
   "outputs": [
    {
     "name": "stderr",
     "output_type": "stream",
     "text": [
      "100%|██████████████████████████████████████████████████████████████████████████████████████████████████████████████████████████████████████████████████████████████████████████████| 8/8 [00:00<00:00, 154.26it/s]\n"
     ]
    },
    {
     "data": {
      "text/html": [
       "<div>\n",
       "<style scoped>\n",
       "    .dataframe tbody tr th:only-of-type {\n",
       "        vertical-align: middle;\n",
       "    }\n",
       "\n",
       "    .dataframe tbody tr th {\n",
       "        vertical-align: top;\n",
       "    }\n",
       "\n",
       "    .dataframe thead th {\n",
       "        text-align: right;\n",
       "    }\n",
       "</style>\n",
       "<table border=\"1\" class=\"dataframe\">\n",
       "  <thead>\n",
       "    <tr style=\"text-align: right;\">\n",
       "      <th></th>\n",
       "      <th>name</th>\n",
       "      <th>source</th>\n",
       "      <th>answer</th>\n",
       "      <th>answer_filename</th>\n",
       "      <th>Artist_name</th>\n",
       "    </tr>\n",
       "  </thead>\n",
       "  <tbody>\n",
       "    <tr>\n",
       "      <th>0</th>\n",
       "      <td>Alexej-Georgewitsch-Von-Jawlensky-Mystical-Hea...</td>\n",
       "      <td>level_assets/Alexej-Georgewitsch-Von-Jawlensky...</td>\n",
       "      <td>1</td>\n",
       "      <td>aaaaa_Alexej-Georgewitsch-Von-Jawlensky-Mystic...</td>\n",
       "      <td>Alexej Georgewitsch Von Jawlensky</td>\n",
       "    </tr>\n",
       "    <tr>\n",
       "      <th>1</th>\n",
       "      <td>Arshile-Gorky-Waterfall-2--S</td>\n",
       "      <td>level_assets/Arshile-Gorky-Waterfall-2--S</td>\n",
       "      <td>1</td>\n",
       "      <td>aaaaa_Arshile-Gorky-Waterfall-2--S.jpg</td>\n",
       "      <td>Arshile Gorky</td>\n",
       "    </tr>\n",
       "    <tr>\n",
       "      <th>2</th>\n",
       "      <td>Gustav-Klimt-The-Tree-of-Life-Stoclet-Frieze-S</td>\n",
       "      <td>level_assets/Gustav-Klimt-The-Tree-of-Life-Sto...</td>\n",
       "      <td>1</td>\n",
       "      <td>aaaaa_Gustav-Klimt-The-Tree-of-Life-Stoclet-Fr...</td>\n",
       "      <td>Gustav Klimt</td>\n",
       "    </tr>\n",
       "    <tr>\n",
       "      <th>3</th>\n",
       "      <td>Henri-Matisse-Blue-Nude-S</td>\n",
       "      <td>level_assets/Henri-Matisse-Blue-Nude-S</td>\n",
       "      <td>1</td>\n",
       "      <td>aaaaa_Henri-Matisse-Blue-Nude-S.jpg</td>\n",
       "      <td>Henri Matisse</td>\n",
       "    </tr>\n",
       "    <tr>\n",
       "      <th>4</th>\n",
       "      <td>Jackson-Pollock-Number-1-1949-S</td>\n",
       "      <td>level_assets/Jackson-Pollock-Number-1-1949-S</td>\n",
       "      <td>1</td>\n",
       "      <td>aaaaa_Jackson-Pollock-Number-1-1949-S.jpg</td>\n",
       "      <td>Jackson Pollock</td>\n",
       "    </tr>\n",
       "    <tr>\n",
       "      <th>...</th>\n",
       "      <td>...</td>\n",
       "      <td>...</td>\n",
       "      <td>...</td>\n",
       "      <td>...</td>\n",
       "      <td>...</td>\n",
       "    </tr>\n",
       "    <tr>\n",
       "      <th>131</th>\n",
       "      <td>Vincent-Van-Gogh-Starry-Night-Over-the-Rhone-S</td>\n",
       "      <td>level_assets/Vincent-Van-Gogh-Starry-Night-Ove...</td>\n",
       "      <td>1</td>\n",
       "      <td>aaaaa_Vincent-Van-Gogh-Starry-Night-Over-the-R...</td>\n",
       "      <td>Vincent Van Gogh</td>\n",
       "    </tr>\n",
       "    <tr>\n",
       "      <th>132</th>\n",
       "      <td>Vincent-Van-Gogh-The-Courtyard-of-the-Hospital...</td>\n",
       "      <td>level_assets/Vincent-Van-Gogh-The-Courtyard-of...</td>\n",
       "      <td>1</td>\n",
       "      <td>aaaaa_Vincent-Van-Gogh-The-Courtyard-of-the-Ho...</td>\n",
       "      <td>Vincent Van Gogh</td>\n",
       "    </tr>\n",
       "    <tr>\n",
       "      <th>133</th>\n",
       "      <td>Vincent-Van-Gogh-The-Night-Cafe-1888--S</td>\n",
       "      <td>level_assets/Vincent-Van-Gogh-The-Night-Cafe-1...</td>\n",
       "      <td>1</td>\n",
       "      <td>aaaaa_Vincent-Van-Gogh-The-Night-Cafe-1888--S.jpg</td>\n",
       "      <td>Vincent Van Gogh</td>\n",
       "    </tr>\n",
       "    <tr>\n",
       "      <th>134</th>\n",
       "      <td>Vincent-Van-Gogh-The-Starry-Night-S</td>\n",
       "      <td>level_assets/Vincent-Van-Gogh-The-Starry-Night-S</td>\n",
       "      <td>1</td>\n",
       "      <td>aaaaa_Vincent-Van-Gogh-The-Starry-Night-S.jpg</td>\n",
       "      <td>Vincent Van Gogh</td>\n",
       "    </tr>\n",
       "    <tr>\n",
       "      <th>135</th>\n",
       "      <td>Vincent-Van-Gogh-Vincent-s-Bedroom-in-Arles-Fi...</td>\n",
       "      <td>level_assets/Vincent-Van-Gogh-Vincent-s-Bedroo...</td>\n",
       "      <td>1</td>\n",
       "      <td>aaaaa_Vincent-Van-Gogh-Vincent-s-Bedroom-in-Ar...</td>\n",
       "      <td>Vincent Van Gogh</td>\n",
       "    </tr>\n",
       "  </tbody>\n",
       "</table>\n",
       "<p>136 rows × 5 columns</p>\n",
       "</div>"
      ],
      "text/plain": [
       "                                                  name  \\\n",
       "0    Alexej-Georgewitsch-Von-Jawlensky-Mystical-Hea...   \n",
       "1                         Arshile-Gorky-Waterfall-2--S   \n",
       "2       Gustav-Klimt-The-Tree-of-Life-Stoclet-Frieze-S   \n",
       "3                            Henri-Matisse-Blue-Nude-S   \n",
       "4                      Jackson-Pollock-Number-1-1949-S   \n",
       "..                                                 ...   \n",
       "131     Vincent-Van-Gogh-Starry-Night-Over-the-Rhone-S   \n",
       "132  Vincent-Van-Gogh-The-Courtyard-of-the-Hospital...   \n",
       "133            Vincent-Van-Gogh-The-Night-Cafe-1888--S   \n",
       "134                Vincent-Van-Gogh-The-Starry-Night-S   \n",
       "135  Vincent-Van-Gogh-Vincent-s-Bedroom-in-Arles-Fi...   \n",
       "\n",
       "                                                source  answer  \\\n",
       "0    level_assets/Alexej-Georgewitsch-Von-Jawlensky...       1   \n",
       "1            level_assets/Arshile-Gorky-Waterfall-2--S       1   \n",
       "2    level_assets/Gustav-Klimt-The-Tree-of-Life-Sto...       1   \n",
       "3               level_assets/Henri-Matisse-Blue-Nude-S       1   \n",
       "4         level_assets/Jackson-Pollock-Number-1-1949-S       1   \n",
       "..                                                 ...     ...   \n",
       "131  level_assets/Vincent-Van-Gogh-Starry-Night-Ove...       1   \n",
       "132  level_assets/Vincent-Van-Gogh-The-Courtyard-of...       1   \n",
       "133  level_assets/Vincent-Van-Gogh-The-Night-Cafe-1...       1   \n",
       "134   level_assets/Vincent-Van-Gogh-The-Starry-Night-S       1   \n",
       "135  level_assets/Vincent-Van-Gogh-Vincent-s-Bedroo...       1   \n",
       "\n",
       "                                       answer_filename  \\\n",
       "0    aaaaa_Alexej-Georgewitsch-Von-Jawlensky-Mystic...   \n",
       "1               aaaaa_Arshile-Gorky-Waterfall-2--S.jpg   \n",
       "2    aaaaa_Gustav-Klimt-The-Tree-of-Life-Stoclet-Fr...   \n",
       "3                  aaaaa_Henri-Matisse-Blue-Nude-S.jpg   \n",
       "4            aaaaa_Jackson-Pollock-Number-1-1949-S.jpg   \n",
       "..                                                 ...   \n",
       "131  aaaaa_Vincent-Van-Gogh-Starry-Night-Over-the-R...   \n",
       "132  aaaaa_Vincent-Van-Gogh-The-Courtyard-of-the-Ho...   \n",
       "133  aaaaa_Vincent-Van-Gogh-The-Night-Cafe-1888--S.jpg   \n",
       "134      aaaaa_Vincent-Van-Gogh-The-Starry-Night-S.jpg   \n",
       "135  aaaaa_Vincent-Van-Gogh-Vincent-s-Bedroom-in-Ar...   \n",
       "\n",
       "                           Artist_name  \n",
       "0    Alexej Georgewitsch Von Jawlensky  \n",
       "1                        Arshile Gorky  \n",
       "2                         Gustav Klimt  \n",
       "3                        Henri Matisse  \n",
       "4                      Jackson Pollock  \n",
       "..                                 ...  \n",
       "131                   Vincent Van Gogh  \n",
       "132                   Vincent Van Gogh  \n",
       "133                   Vincent Van Gogh  \n",
       "134                   Vincent Van Gogh  \n",
       "135                   Vincent Van Gogh  \n",
       "\n",
       "[136 rows x 5 columns]"
      ]
     },
     "execution_count": 8,
     "metadata": {},
     "output_type": "execute_result"
    }
   ],
   "source": [
    "main_df_concat = main_dataframe[0]\n",
    "for i in tqdm(main_dataframe[1:]):\n",
    "    main_df_concat = pd.merge(left= main_df_concat , right = i,  how = 'outer')\n",
    "\n",
    "main_df_concat"
   ]
  },
  {
   "cell_type": "code",
   "execution_count": 9,
   "id": "ea9d8e3a",
   "metadata": {},
   "outputs": [
    {
     "name": "stderr",
     "output_type": "stream",
     "text": [
      "100%|█████████████████████████████████████████████████████████████████████████████████████████████████████████████████████████████████████████████████████████████████████████████| 9/9 [00:00<00:00, 4512.16it/s]\n"
     ]
    },
    {
     "data": {
      "text/plain": [
       "['Alexej-Georgewitsch-Von-Jawlensky-Mystical-Head-Meditation-S-2.jpg',\n",
       " 'Arshile-Gorky-Waterfall-2--S-2.jpg',\n",
       " 'Gustav-Klimt-The-Tree-of-Life-Stoclet-Frieze-S-2.jpg',\n",
       " 'Henri-Matisse-Blue-Nude-S-2.jpg',\n",
       " 'Jackson-Pollock-Number-1-1949-S-2.jpg',\n",
       " 'Joan-Miro-Joan-Mir-Catalan-Landscape-The-Hunter--S-2.jpg',\n",
       " 'Joan-Miro-The-Tilled-Field-S-2.jpg',\n",
       " 'Pablo-Picasso-The-Young-Ladies-of-Avignon-S-2.jpg',\n",
       " 'Pablo-Picasso-Three-Musicians-S-2.jpg',\n",
       " 'Pablo-Picasso-Women-of-Algiers-Version-O--S-2.jpg',\n",
       " 'Paul-Klee-Legend-of-the-Nile-S-2.jpg',\n",
       " 'Peter-Max-Flag-S-2.jpg',\n",
       " 'Piet-Mondrian-Broadway-Boogie-Woogie-S-2.jpg',\n",
       " 'Salvador-Dali-Cubist-Self-portrait-S-2.jpg',\n",
       " 'Sonia-Delaunay-Sarah-Ilinitchna-Stern-Electric-prisms-2--S-2.jpg',\n",
       " 'Wassily-Kandinsky-Arabs-I-Cemetery--S-2.jpg',\n",
       " 'Wassily-Kandinsky-Composition-IX-S-2.jpg',\n",
       " 'Wassily-Kandinsky-Composition-VIII-S-2.jpg',\n",
       " 'Wassily-Kandinsky-Glass-Painting-with-the-Sun-Small-Pleasure-2.jpg',\n",
       " 'Wassily-Kandinsky-Improvisation+-Gorge-S-2.jpg',\n",
       " 'Wassily-Kandinsky-Improvisation.-Gorge-S-2.jpg',\n",
       " 'Wassily-Kandinsky-Several-Circles-Solomon-R+-G-S-2.jpg',\n",
       " 'Wassily-Kandinsky-Several-Circles-Solomon-R.-G-S-2.jpg',\n",
       " 'Wassily-Kandinsky-Yellow-Red-Blue-S-2.jpg',\n",
       " 'Gustave-Caillebotte-A-Balcony-in-Paris-S-2.jpg',\n",
       " 'Gustave-Caillebotte-Paris-street-Rainy-Day-S-2.jpg',\n",
       " 'Hans-Memling-Scenes-from-the-Passion-of-Christ-left-side--S-2.jpg',\n",
       " 'Jan-Vermeer-View-of-Delft-S-2.jpg',\n",
       " 'Jean+Joseph+Benjamin+Constant-The+Throne+Room+In+Byzantium-S-2.jpg',\n",
       " 'Jean-Leon-Gerome-Harem-Women-Feeding-Pigeons-in-a-Courtyard--2.jpg',\n",
       " 'Jean-Leon-Gerome-Public-Prayer-in-the-Mosque-of-Amr-Cairo-S-2.jpg',\n",
       " 'Jean_Joseph_Benjamin_Constant-The_Throne_Room_In_Byzantium-S-2.jpg',\n",
       " 'John+Atkinson+Grimshaw-Canny+Glasgow-S-2.jpg',\n",
       " 'John-Atkinson-Grimshaw-Liverpool-from-Wapping-S-2.jpg',\n",
       " 'John-Constable-Salisbury-cathedral-S-2.jpg',\n",
       " 'John_Atkinson_Grimshaw-Canny_Glasgow-S-2.jpg',\n",
       " 'Max-Beckmann-The-Iron-Bridge-View-of-Frankfurt--S-2.jpg',\n",
       " 'Pieter-Bruegel-The-Elder-The-Tower-of-Babel-S-2.jpg',\n",
       " 'Pieter-Jansz-Saenredam-The-Interior-of-the-Grote-Kerk-at-Haa-2.jpg',\n",
       " 'Sandro-Botticelli-Calumny-of-Apelles-S-2.jpg',\n",
       " 'Andy-Warhol-Campbell-S-Soup-Can-tomato--S-2.jpg',\n",
       " 'Francisco-Zurbaran-Still-Life-with-Lemons-Oranges-and-Rose-S-2.jpg',\n",
       " 'Frans-Snyders-Grapes-in-a-basket-and-roses-in-a-vase-S-2.jpg',\n",
       " 'Giuseppe-Arcimboldo-Summer-1-S-2.jpg',\n",
       " 'Paul-Cezanne-Basket-of-Apples-S-2.jpg',\n",
       " 'Paul-Cezanne-Curtain-Jug-and-Fruit-S-2.jpg',\n",
       " 'Wayne-Thiebaud-Fabs-S-2.jpg',\n",
       " 'Wayne-Thiebaud-Pop-art-S-2.jpg',\n",
       " 'Wayne-Thiebaud-Watermelon-large-S-2.jpg',\n",
       " 'Albert-Bierstadt-Rocky-Mountains-S-2.jpg',\n",
       " 'Albert-Bierstadt-Rustic-Mill-S-2.jpg',\n",
       " 'Albert-Bierstadt-Staubbach-Falls-Near-Lauterbrunnen-Switzerl-2.jpg',\n",
       " 'Charles-Francois-Daubigny-Harvest-S-2.jpg',\n",
       " 'Ivan-Aivazovsky-The-Ninth-Wave-S-2.jpg',\n",
       " 'Katsushika-Hokusai-Fuji-Mountains-in-clear-Weather-Red-Fuji--2.jpg',\n",
       " 'Lucas-Cranach-The-Elder-Stag-Hunt-of-Elector-Friedrich-III-t-2.jpg',\n",
       " 'Paul-Cezanne-Mont-Sainte-Victoire-Metropolitan--S-2.jpg',\n",
       " 'Pierre-Auguste-Renoir-A-Road-in-Louveciennes-S-2.jpg',\n",
       " 'Vincent-Van-Gogh-Daubigny-s-Garden-S-2.jpg',\n",
       " 'Vincent-Van-Gogh-Green-Wheat-Field-with-Cypress+-Saint-Remy--2.jpg',\n",
       " 'Vincent-Van-Gogh-Green-Wheat-Field-with-Cypress.-Saint-Remy--2.jpg',\n",
       " 'Vincent-Van-Gogh-Olive-Trees-with-Yellow-Sky-and-Sun-S-2.jpg',\n",
       " 'Vincent-Van-Gogh-Starry-Night-S-2.jpg',\n",
       " 'William-Merritt-Chase-Terrace-at-the-Mall-Central-Park-S-2.jpg',\n",
       " 'Albrecht-Durer-Christ-as-the-Man-of-Sorrows-S-2.jpg',\n",
       " 'Alexandre-Cabanel-Fallen-Angel-S-2.jpg',\n",
       " 'Amedeo-Modigliani-Reclining-Nude-with-Blue-Cushion-S-2.jpg',\n",
       " 'Berthe-Morisot-The-Cradle-S-2.jpg',\n",
       " 'Caravaggio-Michelangelo-Merisi-Ecce-Homo-S-2.jpg',\n",
       " 'Duccio-Di-Buoninsegna-Maest-front-central-panel--S-2.jpg',\n",
       " 'Edouard-Manet-Berthe-Morisot-with-a-bouquet-of-violets-S-2.jpg',\n",
       " 'Edouard-Manet-Luncheon-on-the-Grass-S-2.jpg',\n",
       " 'Edvard-Munch-The-Scream-S-2.jpg',\n",
       " 'Egon-Schiele-Mother-with-Two-Children-S-2.jpg',\n",
       " 'Fernand-Leger-Three-Women-S-2.jpg',\n",
       " 'FridaKahlo-Self-PortraitwithCroppedHair-S-2.jpg',\n",
       " 'Giovanni-Bellini-Madonna-of-the-Meadow-Madonna-del-Prato--S-2.jpg',\n",
       " 'Giuseppe-Arcimboldo-Vortumnus-Vertumno--S-2.jpg',\n",
       " 'Hans-Holbein-The-Younger-Portrait-of-Nikolaus-Kratzer-S-2.jpg',\n",
       " 'Jan-Vermeer-The-Girl-with-a-Pearl-Earring-S-2.jpg',\n",
       " 'Joan-Miro-Self-Portrait-S-2.jpg',\n",
       " 'Leonardo-Da-Vinci-Mona-Lisa-La-Gioconda--S-2.jpg',\n",
       " 'Pablo-Picasso-Portrait-of-Maya-with-her-doll-S-2.jpg',\n",
       " 'Vincent-Van-Gogh-Self-Portrait-with-Bandaged-Ear-and-Pipe-S-2.jpg',\n",
       " 'Caspar-David-Friedrich-Dolmen-in-the-Snow-3--S-2.jpg',\n",
       " 'Claude-Monet-Irises-in-Monet-s-Garden-S-2.jpg',\n",
       " 'Claude-Monet-Pathway-in-Monet-s-Garden-at-Giverny-S-2.jpg',\n",
       " 'Claude-Monet-Woman-with-a-Parasol-in-the-Garden-in-Argenteui-2.jpg',\n",
       " 'Henri-Julien-Felix-Rousseau-Le-Douanier-The-Dream-S-2.jpg',\n",
       " 'Piet-Mondrian-Study-for-Blue-Apple-Tree-Series-S-2.jpg',\n",
       " 'Rene-Magritte-The-companions-of-fear-S-2.jpg',\n",
       " 'Theodore-Clement-Steele-Beech-Trees-S-2.jpg',\n",
       " 'Vincent+Van+Gogh-Bowl+with+Peonies+and+Roses-S-2.jpg',\n",
       " 'Vincent+Van+Gogh-Irises-S-2.jpg',\n",
       " 'Vincent-Van-Gogh-Almond-Tree-in-Blossom-S-2.jpg',\n",
       " 'Vincent-Van-Gogh-Branches-with-Almond-Blossom-February-1890--2.jpg',\n",
       " 'Vincent-Van-Gogh-Mulberry-Tree-The-S-2.jpg',\n",
       " 'Vincent_Van_Gogh-Bowl_with_Peonies_and_Roses-S-2.jpg',\n",
       " 'Vincent_Van_Gogh-Irises-S-2.jpg',\n",
       " 'Andy-Warhol-Campbell+S-Soup-Can-beef--S-2.jpg',\n",
       " 'Andy-Warhol-Campbell_S-Soup-Can-beef--S-2.jpg',\n",
       " 'Andy-Warhol-Marilyn-leo-castelli-gallery-new-york-S-2.jpg',\n",
       " 'Robert-Indiana-The-garden-of-love-S-2.jpg',\n",
       " 'Roy+Lichtenstein-Drowning+girl-S-2.jpg',\n",
       " 'Roy-Lichtenstein-Blam-S-2.jpg',\n",
       " 'Roy-Lichtenstein-Brattata-S-2.jpg',\n",
       " 'Roy-Lichtenstein-Girl-with-ball-S-2.jpg',\n",
       " 'Roy-Lichtenstein-Hopeless-S-2.jpg',\n",
       " 'Roy-Lichtenstein-In-the-car-S-2.jpg',\n",
       " 'Roy-Lichtenstein-Look-Mickey-S-2.jpg',\n",
       " 'Roy-Lichtenstein-Torpedo-los-S-2.jpg',\n",
       " 'RoyLichtenstein-Heyyou-(2402193)-S-2.jpg',\n",
       " 'Roy_Lichtenstein-Drowning_girl-S-2.jpg',\n",
       " 'Frida-Kahlo-My-Dress-Hangs-There-S-2.jpg',\n",
       " 'Frida-Kahlo-Tree-of-Hope-S-2.jpg',\n",
       " 'Giorgio+De+Chirico-Hector+and+Andromache-S-2.jpg',\n",
       " 'Giorgio_De_Chirico-Hector_and_Andromache-S-2.jpg',\n",
       " 'Max-Ernst-Of-This-Men-Shall-Know-Nothing-S-2.jpg',\n",
       " 'Rene-Magritte-False-Mirror-S-2.jpg',\n",
       " 'Rene-Magritte-The-Castle-of-the-Pyrenees-S-2.jpg',\n",
       " 'Rene-Magritte-The-Magician-S-2.jpg',\n",
       " 'Rene-Magritte-The-Menaced-Assassin-S-2.jpg',\n",
       " 'Rene-Magritte-The-Son-of-Man-S-2.jpg',\n",
       " 'Salvador-Dali-Autumn-Cannibalism-S-2.jpg',\n",
       " 'Salvador-Dali-The-Birth-of-Liquid-Desires-S-2.jpg',\n",
       " 'Salvador-Dali-The-Burning-Giraffe-1937-S-2.jpg',\n",
       " 'Vincent+Van+Gogh-Branches+with+Almond+Blossom-S-2.jpg',\n",
       " 'Vincent-Van-Gogh-A-Pair-of-Shoes-2--S-2.jpg',\n",
       " 'Vincent-Van-Gogh-Apricot-Trees-in-Blossom-2-S-2.jpg',\n",
       " 'Vincent-Van-Gogh-Cypresses-2--S-2.jpg',\n",
       " 'Vincent-Van-Gogh-First-Steps-after-Millet--S-2.jpg',\n",
       " 'Vincent-Van-Gogh-Green-Wheat-Field-with-Cypress-S-2.jpg',\n",
       " 'Vincent-Van-Gogh-Irises-1889--S-2.jpg',\n",
       " 'Vincent-Van-Gogh-Les-Alyscamps-S-2.jpg',\n",
       " 'Vincent-Van-Gogh-Old-Man-in-Sorrow-S-2.jpg',\n",
       " 'Vincent-Van-Gogh-Peach-Trees-in-Blossom-S-2.jpg',\n",
       " 'Vincent-Van-Gogh-Portrait-of-Dr+-Gachet-S-2.jpg',\n",
       " 'Vincent-Van-Gogh-Portrait-of-Dr.-Gachet-S-2.jpg',\n",
       " 'Vincent-Van-Gogh-Seascape-at-Saintes-Maries-S-2.jpg',\n",
       " 'Vincent-Van-Gogh-Self-Portrait-2--S-2.jpg',\n",
       " 'Vincent-Van-Gogh-Self-Portrait-with-a-Grey-Felt-Hat-S-2.jpg',\n",
       " 'Vincent-Van-Gogh-Skull-with-Burning-Cigarette-S-2.jpg',\n",
       " 'Vincent-Van-Gogh-Starry-Night-Over-the-Rhone-S-2.jpg',\n",
       " 'Vincent-Van-Gogh-The-Courtyard-of-the-Hospital-at-Arles-S-2.jpg',\n",
       " 'Vincent-Van-Gogh-The-Night-Cafe-1888--S-2.jpg',\n",
       " 'Vincent-Van-Gogh-The-Starry-Night-S-2.jpg',\n",
       " 'Vincent-Van-Gogh-Vincent-s-Bedroom-in-Arles-First-version--S-2.jpg',\n",
       " 'Vincent_Van_Gogh-Branches_with_Almond_Blossom-S-2.jpg']"
      ]
     },
     "execution_count": 9,
     "metadata": {},
     "output_type": "execute_result"
    }
   ],
   "source": [
    "## to compare against Cole's list of selected works:\n",
    "main_list_selected_works = [];\n",
    "for i in tqdm(categories):\n",
    "    for j in os.listdir(selected + i):\n",
    "        main_list_selected_works.append(j)   \n",
    "    #main_list_selected_works.append(pd.Series(os.listdir(selected + i)).values)\n",
    "    #print(os.listdir(selected + i))\n",
    "main_list_selected_works"
   ]
  },
  {
   "cell_type": "code",
   "execution_count": 10,
   "id": "16da0c52",
   "metadata": {},
   "outputs": [],
   "source": [
    "main_list_selected_works = pd.Series(main_list_selected_works)"
   ]
  },
  {
   "cell_type": "code",
   "execution_count": 11,
   "id": "3e635310",
   "metadata": {},
   "outputs": [],
   "source": [
    "main_list_selected_works = main_list_selected_works.apply(lambda x: x.split('.')[0][:-2])"
   ]
  },
  {
   "cell_type": "code",
   "execution_count": 12,
   "id": "e91d65c7",
   "metadata": {},
   "outputs": [
    {
     "name": "stderr",
     "output_type": "stream",
     "text": [
      "  0%|                                                                                                                                                                                     | 0/148 [00:00<?, ?it/s]\n"
     ]
    },
    {
     "ename": "AttributeError",
     "evalue": "'str' object has no attribute 'isin'",
     "output_type": "error",
     "traceback": [
      "\u001b[1;31m---------------------------------------------------------------------------\u001b[0m",
      "\u001b[1;31mAttributeError\u001b[0m                            Traceback (most recent call last)",
      "Input \u001b[1;32mIn [12]\u001b[0m, in \u001b[0;36m<cell line: 1>\u001b[1;34m()\u001b[0m\n\u001b[0;32m      1\u001b[0m \u001b[38;5;28;01mfor\u001b[39;00m i \u001b[38;5;129;01min\u001b[39;00m tqdm(\u001b[38;5;28mrange\u001b[39m(\u001b[38;5;28mlen\u001b[39m(main_list_selected_works))):\n\u001b[1;32m----> 2\u001b[0m     \u001b[38;5;28;01mif\u001b[39;00m \u001b[38;5;129;01mnot\u001b[39;00m(\u001b[43mmain_list_selected_works\u001b[49m\u001b[43m[\u001b[49m\u001b[43mi\u001b[49m\u001b[43m]\u001b[49m\u001b[38;5;241;43m.\u001b[39;49m\u001b[43misin\u001b[49m(main_df_concat[\u001b[38;5;124m'\u001b[39m\u001b[38;5;124mname\u001b[39m\u001b[38;5;124m'\u001b[39m])):\n\u001b[0;32m      3\u001b[0m         \u001b[38;5;28mprint\u001b[39m (main_list_selected_works)\n",
      "\u001b[1;31mAttributeError\u001b[0m: 'str' object has no attribute 'isin'"
     ]
    }
   ],
   "source": [
    "for i in tqdm(range(len(main_list_selected_works))):\n",
    "    if not(main_list_selected_works[i].isin(main_df_concat['name'])):\n",
    "        print (main_list_selected_works)"
   ]
  },
  {
   "cell_type": "code",
   "execution_count": 13,
   "id": "fd74e3f5",
   "metadata": {},
   "outputs": [
    {
     "data": {
      "text/plain": [
       "20                         Wassily-Kandinsky-Improvisati\n",
       "22             Wassily-Kandinsky-Several-Circles-Solomon\n",
       "31     Jean_Joseph_Benjamin_Constant-The_Throne_Room_...\n",
       "35                John_Atkinson_Grimshaw-Canny_Glasgow-S\n",
       "60         Vincent-Van-Gogh-Green-Wheat-Field-with-Cypre\n",
       "97        Vincent_Van_Gogh-Bowl_with_Peonies_and_Roses-S\n",
       "98                             Vincent_Van_Gogh-Irises-S\n",
       "100              Andy-Warhol-Campbell_S-Soup-Can-beef--S\n",
       "112                     Roy_Lichtenstein-Drowning_girl-S\n",
       "116           Giorgio_De_Chirico-Hector_and_Andromache-S\n",
       "137                        Vincent-Van-Gogh-Portrait-of-\n",
       "147      Vincent_Van_Gogh-Branches_with_Almond_Blossom-S\n",
       "dtype: object"
      ]
     },
     "execution_count": 13,
     "metadata": {},
     "output_type": "execute_result"
    }
   ],
   "source": [
    "unneeded_folders = main_list_selected_works[main_list_selected_works.isin(main_df_concat['name']) == False]\n",
    "unneeded_folders"
   ]
  },
  {
   "cell_type": "code",
   "execution_count": 14,
   "id": "a0903e6c",
   "metadata": {},
   "outputs": [
    {
     "data": {
      "text/plain": [
       "12"
      ]
     },
     "execution_count": 14,
     "metadata": {},
     "output_type": "execute_result"
    }
   ],
   "source": [
    "len(unneeded_folders)"
   ]
  },
  {
   "cell_type": "code",
   "execution_count": 15,
   "id": "5f278632",
   "metadata": {},
   "outputs": [
    {
     "data": {
      "text/plain": [
       "0"
      ]
     },
     "execution_count": 15,
     "metadata": {},
     "output_type": "execute_result"
    }
   ],
   "source": [
    "(main_df_concat['name'].isin(main_list_selected_works) == False).sum()"
   ]
  },
  {
   "cell_type": "markdown",
   "id": "6f5b2bcc",
   "metadata": {},
   "source": [
    "So... nothing seems to be odd here as I have seen those 13 in the representative categories... going to check if any categories have a size discrepancy between the jsons and Cole's selections. This shall help up ascertain whether the category integrity(ies) are intact."
   ]
  },
  {
   "cell_type": "code",
   "execution_count": 16,
   "id": "c7cfe0e3",
   "metadata": {},
   "outputs": [
    {
     "data": {
      "text/plain": [
       "['level_Abstract_Directory.json',\n",
       " 'level_Architecture_Directory.json',\n",
       " 'level_Food_Directory.json',\n",
       " 'level_Landscape_Directory.json',\n",
       " 'level_People_Directory.json',\n",
       " 'level_Plants_Directory.json',\n",
       " 'level_Pop_Directory.json',\n",
       " 'level_Surreal_Directory.json',\n",
       " 'level_Vincent Van Gogh_Directory.json']"
      ]
     },
     "execution_count": 16,
     "metadata": {},
     "output_type": "execute_result"
    }
   ],
   "source": [
    "json_files"
   ]
  },
  {
   "cell_type": "code",
   "execution_count": 17,
   "id": "673137bf",
   "metadata": {},
   "outputs": [
    {
     "data": {
      "text/plain": [
       "['Abstract',\n",
       " 'Architecture',\n",
       " 'Food',\n",
       " 'Landscape',\n",
       " 'People',\n",
       " 'Plants',\n",
       " 'Pop',\n",
       " 'Surreal',\n",
       " 'Vincent Van Gogh']"
      ]
     },
     "execution_count": 17,
     "metadata": {},
     "output_type": "execute_result"
    }
   ],
   "source": [
    "categories"
   ]
  },
  {
   "cell_type": "markdown",
   "id": "d63239fe",
   "metadata": {},
   "source": [
    "Fortunately, the index orders of both variable lists match!"
   ]
  },
  {
   "cell_type": "code",
   "execution_count": 18,
   "id": "8157361a",
   "metadata": {},
   "outputs": [
    {
     "name": "stderr",
     "output_type": "stream",
     "text": [
      "100%|██████████████████████████████████████████████████████████████████████████████████████████████████████████████████████████████████████████████████████████████████████████████| 9/9 [00:00<00:00, 191.94it/s]"
     ]
    },
    {
     "name": "stdout",
     "output_type": "stream",
     "text": [
      "Discrepancy Detected!\n",
      "json file: \t\t level_Abstract_Directory.json \t\titems:  22\n",
      "category file: \t\t Abstract \t\t\t\tItems:  24 \n",
      "\n",
      "['Wassily-Kandinsky-Improvisation.-Gorge-S-2.jpg'\n",
      " 'Wassily-Kandinsky-Several-Circles-Solomon-R.-G-S-2.jpg'] \n",
      "\n",
      "Discrepancy Detected!\n",
      "json file: \t\t level_Architecture_Directory.json \t\titems:  14\n",
      "category file: \t\t Architecture \t\t\t\tItems:  16 \n",
      "\n",
      "['Jean_Joseph_Benjamin_Constant-The_Throne_Room_In_Byzantium-S-2.jpg'\n",
      " 'John_Atkinson_Grimshaw-Canny_Glasgow-S-2.jpg'] \n",
      "\n",
      "Discrepancy Detected!\n",
      "json file: \t\t level_Landscape_Directory.json \t\titems:  14\n",
      "category file: \t\t Landscape \t\t\t\tItems:  15 \n",
      "\n",
      "['Vincent-Van-Gogh-Green-Wheat-Field-with-Cypress.-Saint-Remy--2.jpg'] \n",
      "\n",
      "Discrepancy Detected!\n",
      "json file: \t\t level_Plants_Directory.json \t\titems:  13\n",
      "category file: \t\t Plants \t\t\t\tItems:  15 \n",
      "\n",
      "['Vincent_Van_Gogh-Bowl_with_Peonies_and_Roses-S-2.jpg'\n",
      " 'Vincent_Van_Gogh-Irises-S-2.jpg'] \n",
      "\n",
      "Discrepancy Detected!\n",
      "json file: \t\t level_Pop_Directory.json \t\titems:  12\n",
      "category file: \t\t Pop \t\t\t\tItems:  14 \n",
      "\n",
      "['Andy-Warhol-Campbell_S-Soup-Can-beef--S-2.jpg'\n",
      " 'Roy_Lichtenstein-Drowning_girl-S-2.jpg'] \n",
      "\n",
      "Discrepancy Detected!\n",
      "json file: \t\t level_Surreal_Directory.json \t\titems:  12\n",
      "category file: \t\t Surreal \t\t\t\tItems:  13 \n",
      "\n",
      "['Giorgio_De_Chirico-Hector_and_Andromache-S-2.jpg'] \n",
      "\n",
      "Discrepancy Detected!\n",
      "json file: \t\t level_Vincent Van Gogh_Directory.json \t\titems:  20\n",
      "category file: \t\t Vincent Van Gogh \t\t\t\tItems:  22 \n",
      "\n",
      "['Vincent-Van-Gogh-Portrait-of-Dr.-Gachet-S-2.jpg'\n",
      " 'Vincent_Van_Gogh-Branches_with_Almond_Blossom-S-2.jpg'] \n",
      "\n"
     ]
    },
    {
     "name": "stderr",
     "output_type": "stream",
     "text": [
      "\n"
     ]
    }
   ],
   "source": [
    "for i in tqdm(range(len(categories))):\n",
    "    temp_df = pd.read_json(to_export_json + json_files[i]);\n",
    "    temp_lst = pd.Series(os.listdir(selected + categories[i]));\n",
    "    if (len(temp_df) != len(temp_lst)):\n",
    "        print (\"Discrepancy Detected!\");\n",
    "        print ('json file: \\t\\t', json_files[i], '\\t\\titems: ', len(temp_df));\n",
    "        print ('category file: \\t\\t', categories[i], '\\t\\t\\t\\tItems: ', len(temp_lst), '\\n');\n",
    "        \n",
    "        ## since all the extra files are in categories:\n",
    "        print(temp_lst[temp_lst.apply(lambda x: x.split('.')[0][:-2]).isin(temp_df['name']) == False].values, '\\n')"
   ]
  },
  {
   "cell_type": "code",
   "execution_count": null,
   "id": "8fa3b44e",
   "metadata": {},
   "outputs": [],
   "source": []
  }
 ],
 "metadata": {
  "kernelspec": {
   "display_name": "Python 3 (ipykernel)",
   "language": "python",
   "name": "python3"
  },
  "language_info": {
   "codemirror_mode": {
    "name": "ipython",
    "version": 3
   },
   "file_extension": ".py",
   "mimetype": "text/x-python",
   "name": "python",
   "nbconvert_exporter": "python",
   "pygments_lexer": "ipython3",
   "version": "3.9.7"
  }
 },
 "nbformat": 4,
 "nbformat_minor": 5
}
